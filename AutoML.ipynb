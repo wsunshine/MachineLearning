{
 "cells": [
  {
   "cell_type": "markdown",
   "metadata": {},
   "source": [
    "## TPOT\n",
    "* TPOP can do feature selection, feature preprocessing, feature construction, model selecton and parameter Optimization. but could not do data cleansing and data validation\n",
    "* it work fast for small data set but slow for big one. can sample some data and apply TPOT\n",
    "* long runtime, high computational expense as well complex pipeline with low interpretability\n",
    "* Now only avaliable for supervised learning\n",
    "    * support random forests, linear models, SVMs, KNN, xgboost, random forest and bayesian\n",
    "    * preprocessing steps (missing value imputation, scaling, PCA, standardlization\n",
    "    * feature selection: base on tree model, variance,or F_value ratio\n",
    "    * can export the training process as sklearn pipeline py file\n",
    "    \n",
    "TPOT is meant to be an assistant that gives you ideas on how to solve a particular machine learning problem by exploring pipeline configurations that you might have never considered, then leaves the fine-tuning to more constrained parameter tuning techniques such as grid search."
   ]
  },
  {
   "cell_type": "code",
   "execution_count": 8,
   "metadata": {},
   "outputs": [],
   "source": [
    "from tpot import TPOTClassifier\n",
    "from sklearn.datasets import load_digits\n",
    "from sklearn.model_selection import train_test_split\n",
    "import numpy as np\n",
    "import warnings\n",
    "from icecream import ic\n",
    "import matplotlib.pyplot as plt\n",
    "%matplotlib inline\n",
    "warnings.filterwarnings('ignore')"
   ]
  },
  {
   "cell_type": "code",
   "execution_count": 11,
   "metadata": {},
   "outputs": [
    {
     "name": "stderr",
     "output_type": "stream",
     "text": [
      "ic| data.shape: (1797, 64)\n",
      "ic| digits.target[0]: 0\n"
     ]
    },
    {
     "name": "stdout",
     "output_type": "stream",
     "text": [
      "[[ 0.  0.  5. 13.  9.  1.  0.  0.]\n",
      " [ 0.  0. 13. 15. 10. 15.  5.  0.]\n",
      " [ 0.  3. 15.  2.  0. 11.  8.  0.]\n",
      " [ 0.  4. 12.  0.  0.  8.  8.  0.]\n",
      " [ 0.  5.  8.  0.  0.  9.  8.  0.]\n",
      " [ 0.  4. 11.  0.  1. 12.  7.  0.]\n",
      " [ 0.  2. 14.  5. 10. 12.  0.  0.]\n",
      " [ 0.  0.  6. 13. 10.  0.  0.  0.]]\n"
     ]
    },
    {
     "data": {
      "image/png": "[encoded data removed]",
      "text/plain": [
       "<Figure size 432x288 with 1 Axes>"
      ]
     },
     "metadata": {
      "needs_background": "light"
     },
     "output_type": "display_data"
    }
   ],
   "source": [
    "digits = load_digits()\n",
    "data = digits.data\n",
    "ic(data.shape)\n",
    "print(digits.images[0])\n",
    "ic(digits.target[0])\n",
    "plt.gray()\n",
    "plt.imshow(digits.images[0])\n",
    "plt.show()\n"
   ]
  },
  {
   "cell_type": "code",
   "execution_count": 14,
   "metadata": {},
   "outputs": [],
   "source": [
    "X_train,X_test, y_train, y_test = train_test_split(data.astype(np.float64),\n",
    "                                                  digits.target.astype(np.float64),\n",
    "                                                  test_size =0.25,random_state =42)"
   ]
  },
  {
   "cell_type": "markdown",
   "metadata": {},
   "source": [
    "### using tpot"
   ]
  },
  {
   "cell_type": "code",
   "execution_count": 18,
   "metadata": {},
   "outputs": [
    {
     "data": {
      "application/vnd.jupyter.widget-view+json": {
       "model_id": "",
       "version_major": 2,
       "version_minor": 0
      },
      "text/plain": [
       "Optimization Progress:   0%|          | 0/300 [00:00<?, ?pipeline/s]"
      ]
     },
     "metadata": {},
     "output_type": "display_data"
    },
    {
     "name": "stdout",
     "output_type": "stream",
     "text": [
      "\n",
      "Generation 1 - Current best internal CV score: 0.9844058928817294\n",
      "\n",
      "Generation 2 - Current best internal CV score: 0.9844141539308826\n",
      "\n",
      "Generation 3 - Current best internal CV score: 0.9866363761531047\n",
      "\n",
      "Generation 4 - Current best internal CV score: 0.9866363761531047\n",
      "\n",
      "Generation 5 - Current best internal CV score: 0.9866363761531047\n",
      "\n",
      "Best pipeline: KNeighborsClassifier(input_matrix, n_neighbors=2, p=2, weights=distance)\n",
      "0.9822222222222222\n"
     ]
    }
   ],
   "source": [
    "tpot = TPOTClassifier(generations =5, population_size =50,\n",
    "                      verbosity =2, random_state =42, n_jobs = -2)\n",
    "tpot.fit(X_train, y_train)\n",
    "print(tpot.score(X_test, y_test))\n",
    "tpot.export('tpot_mnist_pipeline.py')"
   ]
  },
  {
   "cell_type": "markdown",
   "metadata": {},
   "source": [
    "### Model that be found by TPOT"
   ]
  },
  {
   "cell_type": "code",
   "execution_count": 20,
   "metadata": {},
   "outputs": [],
   "source": [
    "from sklearn.neighbors import KNeighborsClassifier\n",
    "from sklearn.metrics import accuracy_score"
   ]
  },
  {
   "cell_type": "code",
   "execution_count": 23,
   "metadata": {},
   "outputs": [
    {
     "data": {
      "text/plain": [
       "0.9822222222222222"
      ]
     },
     "execution_count": 23,
     "metadata": {},
     "output_type": "execute_result"
    }
   ],
   "source": [
    "# Average CV score on the training set was: 0.9866363761531047\n",
    "exported_pipeline = KNeighborsClassifier(n_neighbors=2, p=2, weights=\"distance\")\n",
    "# Fix random state in exported estimator\n",
    "if hasattr(exported_pipeline, 'random_state'):\n",
    "    setattr(exported_pipeline, 'random_state', 42)\n",
    "\n",
    "exported_pipeline.fit(X_train, y_train)\n",
    "results = exported_pipeline.predict(X_test)\n",
    "accuracy_score(y_test, results)"
   ]
  },
  {
   "cell_type": "markdown",
   "metadata": {},
   "source": [
    "## Manual ML\n",
    "\n",
    "Here I will use LR, CART, LDA, Native bayesian, SVM, KNN,AdaBoost, XGBoost to compare"
   ]
  },
  {
   "cell_type": "code",
   "execution_count": 49,
   "metadata": {},
   "outputs": [],
   "source": [
    "from sklearn.linear_model import LogisticRegression\n",
    "from sklearn.discriminant_analysis import LinearDiscriminantAnalysis\n",
    "from sklearn.tree import DecisionTreeClassifier \n",
    "from sklearn.naive_bayes import GaussianNB, MultinomialNB, BernoulliNB\n",
    "from sklearn import svm\n",
    "from sklearn.ensemble import AdaBoostClassifier\n",
    "from xgboost import XGBClassifier\n",
    "from sklearn.pipeline import make_pipeline\n",
    "from sklearn.preprocessing import StandardScaler\n",
    "from sklearn.metrics import classification_report"
   ]
  },
  {
   "cell_type": "code",
   "execution_count": 50,
   "metadata": {},
   "outputs": [
    {
     "name": "stdout",
     "output_type": "stream",
     "text": [
      "lr accuracy: 0.9667\n",
      "DT accuracy: 0.8756\n",
      "lda accuracy: 0.9489\n",
      "gnb accuracy: 0.7756\n",
      "bnb accuracy: 0.8844\n",
      "svm accuracy: 0.9822\n",
      "knn accuracy: 0.9756\n",
      "adaboost accuracy: 0.9711\n",
      "xgb accuracy: 0.9756\n"
     ]
    }
   ],
   "source": [
    "ss = StandardScaler()\n",
    "# small dataset use liblinear, big dataset use sag or saga\n",
    "lr = LogisticRegression(solver ='liblinear', multi_class ='auto')\n",
    "dt = DecisionTreeClassifier()\n",
    "dtStump = DecisionTreeClassifier(max_depth=5, min_samples_leaf= 1)\n",
    "lda = LinearDiscriminantAnalysis()\n",
    "gnb = GaussianNB()\n",
    "mnb = MultinomialNB()\n",
    "bnb = BernoulliNB()\n",
    "\n",
    "'''\n",
    "rbf: Radial Basis Function which is calculate squared Euclidean distance between two data points.\n",
    "c:is the penalty for misclassifying a data point. When C is small, the classifier is okay with\n",
    "misclassified data points (high bias, low variance). When C is large, the classifier is heavily\n",
    "penalized for misclassified data and therefore bends over backwards avoid any misclassified \n",
    "data points (low bias, high variance). c could be 1,10,100,10000 etc.\n",
    "'''\n",
    "svm = svm.SVC(kernel ='rbf', C=1.0, gamma ='auto')\n",
    "knn = KNeighborsClassifier()\n",
    "adaboost = AdaBoostClassifier(base_estimator=dtStump, n_estimators= 500)\n",
    "xgb = XGBClassifier()\n",
    "\n",
    "alg ={'lr':lr,'DT':dt, 'lda':lda, 'gnb':gnb, 'bnb':bnb,\n",
    "      'svm': svm, 'knn':knn, 'adaboost': adaboost, 'xgb': xgb}\n",
    "for name, model in alg.items():\n",
    "    pipe = make_pipeline(ss, model)\n",
    "    pipe.fit(X_train, y_train)\n",
    "    pred = pipe.predict(X_test)\n",
    "    print('%s accuracy: %0.4lf'% (name,accuracy_score(y_test,pred)))"
   ]
  },
  {
   "cell_type": "code",
   "execution_count": null,
   "metadata": {},
   "outputs": [],
   "source": []
  },
  {
   "cell_type": "code",
   "execution_count": null,
   "metadata": {},
   "outputs": [],
   "source": []
  }
 ],
 "metadata": {
  "kernelspec": {
   "display_name": "Python 3",
   "language": "python",
   "name": "python3"
  },
  "language_info": {
   "codemirror_mode": {
    "name": "ipython",
    "version": 3
   },
   "file_extension": ".py",
   "mimetype": "text/x-python",
   "name": "python",
   "nbconvert_exporter": "python",
   "pygments_lexer": "ipython3",
   "version": "3.7.3"
  },
  "toc": {
   "base_numbering": 1,
   "nav_menu": {},
   "number_sections": true,
   "sideBar": true,
   "skip_h1_title": false,
   "title_cell": "Table of Contents",
   "title_sidebar": "Contents",
   "toc_cell": false,
   "toc_position": {},
   "toc_section_display": true,
   "toc_window_display": false
  },
  "varInspector": {
   "cols": {
    "lenName": 16,
    "lenType": 16,
    "lenVar": 40
   },
   "kernels_config": {
    "python": {
     "delete_cmd_postfix": "",
     "delete_cmd_prefix": "del ",
     "library": "var_list.py",
     "varRefreshCmd": "print(var_dic_list())"
    },
    "r": {
     "delete_cmd_postfix": ") ",
     "delete_cmd_prefix": "rm(",
     "library": "var_list.r",
     "varRefreshCmd": "cat(var_dic_list()) "
    }
   },
   "types_to_exclude": [
    "module",
    "function",
    "builtin_function_or_method",
    "instance",
    "_Feature"
   ],
   "window_display": false
  }
 },
 "nbformat": 4,
 "nbformat_minor": 2
}
