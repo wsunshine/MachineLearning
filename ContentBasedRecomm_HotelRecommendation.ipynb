{
 "cells": [
  {
   "cell_type": "markdown",
   "metadata": {},
   "source": [
    "## Description\n",
    "This project is based on the description of the hotel to recommend similar hotel"
   ]
  },
  {
   "cell_type": "code",
   "execution_count": 75,
   "metadata": {},
   "outputs": [
    {
     "name": "stderr",
     "output_type": "stream",
     "text": [
      "[nltk_data] Downloading package stopwords to C:\\Users\\Haipeng\n",
      "[nltk_data]     Wang\\AppData\\Roaming\\nltk_data...\n",
      "[nltk_data]   Unzipping corpora\\stopwords.zip.\n"
     ]
    }
   ],
   "source": [
    "import pandas as pd\n",
    "import matplotlib.pyplot as plt\n",
    "import nltk\n",
    "nltk.download('stopwords')\n",
    "from nltk.corpus import stopwords\n",
    "from sklearn.metrics.pairwise import linear_kernel\n",
    "from sklearn.feature_extraction.text import CountVectorizer, TfidfVectorizer\n",
    "from sklearn.decomposition import LatentDirichletAllocation\n",
    "import re\n",
    "import random\n",
    "from icecream import ic\n",
    "pd.options.display.max_columns =30"
   ]
  },
  {
   "cell_type": "markdown",
   "metadata": {},
   "source": [
    "## Read file and data exploration"
   ]
  },
  {
   "cell_type": "code",
   "execution_count": null,
   "metadata": {},
   "outputs": [],
   "source": [
    "df = pd.read_csv(r'Data\\Seattle_Hotels.csv',encoding='latin-1')"
   ]
  },
  {
   "cell_type": "code",
   "execution_count": 14,
   "metadata": {},
   "outputs": [
    {
     "name": "stderr",
     "output_type": "stream",
     "text": [
      "ic| df.nunique(): name       152\n",
      "                  address    152\n",
      "                  desc       152\n",
      "                  dtype: int64\n"
     ]
    },
    {
     "data": {
      "text/html": [
       "<div>\n",
       "<style scoped>\n",
       "    .dataframe tbody tr th:only-of-type {\n",
       "        vertical-align: middle;\n",
       "    }\n",
       "\n",
       "    .dataframe tbody tr th {\n",
       "        vertical-align: top;\n",
       "    }\n",
       "\n",
       "    .dataframe thead th {\n",
       "        text-align: right;\n",
       "    }\n",
       "</style>\n",
       "<table border=\"1\" class=\"dataframe\">\n",
       "  <thead>\n",
       "    <tr style=\"text-align: right;\">\n",
       "      <th></th>\n",
       "      <th>name</th>\n",
       "      <th>address</th>\n",
       "      <th>desc</th>\n",
       "    </tr>\n",
       "  </thead>\n",
       "  <tbody>\n",
       "    <tr>\n",
       "      <th>0</th>\n",
       "      <td>Hilton Garden Seattle Downtown</td>\n",
       "      <td>1821 Boren Avenue, Seattle Washington 98101 USA</td>\n",
       "      <td>Located on the southern tip of Lake Union, the...</td>\n",
       "    </tr>\n",
       "    <tr>\n",
       "      <th>1</th>\n",
       "      <td>Sheraton Grand Seattle</td>\n",
       "      <td>1400 6th Avenue, Seattle, Washington 98101 USA</td>\n",
       "      <td>Located in the city's vibrant core, the Sherat...</td>\n",
       "    </tr>\n",
       "    <tr>\n",
       "      <th>2</th>\n",
       "      <td>Crowne Plaza Seattle Downtown</td>\n",
       "      <td>1113 6th Ave, Seattle, WA 98101</td>\n",
       "      <td>Located in the heart of downtown Seattle, the ...</td>\n",
       "    </tr>\n",
       "    <tr>\n",
       "      <th>3</th>\n",
       "      <td>Kimpton Hotel Monaco Seattle</td>\n",
       "      <td>1101 4th Ave, Seattle, WA98101</td>\n",
       "      <td>What?s near our hotel downtown Seattle locatio...</td>\n",
       "    </tr>\n",
       "    <tr>\n",
       "      <th>4</th>\n",
       "      <td>The Westin Seattle</td>\n",
       "      <td>1900 5th Avenue, Seattle, Washington 98101 USA</td>\n",
       "      <td>Situated amid incredible shopping and iconic a...</td>\n",
       "    </tr>\n",
       "  </tbody>\n",
       "</table>\n",
       "</div>"
      ],
      "text/plain": [
       "                             name  \\\n",
       "0  Hilton Garden Seattle Downtown   \n",
       "1          Sheraton Grand Seattle   \n",
       "2   Crowne Plaza Seattle Downtown   \n",
       "3   Kimpton Hotel Monaco Seattle    \n",
       "4              The Westin Seattle   \n",
       "\n",
       "                                           address  \\\n",
       "0  1821 Boren Avenue, Seattle Washington 98101 USA   \n",
       "1   1400 6th Avenue, Seattle, Washington 98101 USA   \n",
       "2                  1113 6th Ave, Seattle, WA 98101   \n",
       "3                   1101 4th Ave, Seattle, WA98101   \n",
       "4   1900 5th Avenue, Seattle, Washington 98101 USA   \n",
       "\n",
       "                                                desc  \n",
       "0  Located on the southern tip of Lake Union, the...  \n",
       "1  Located in the city's vibrant core, the Sherat...  \n",
       "2  Located in the heart of downtown Seattle, the ...  \n",
       "3  What?s near our hotel downtown Seattle locatio...  \n",
       "4  Situated amid incredible shopping and iconic a...  "
      ]
     },
     "execution_count": 14,
     "metadata": {},
     "output_type": "execute_result"
    }
   ],
   "source": [
    "ic(df.nunique())\n",
    "df.head()"
   ]
  },
  {
   "cell_type": "code",
   "execution_count": 20,
   "metadata": {},
   "outputs": [
    {
     "data": {
      "text/plain": [
       "array([\"Located in the city's vibrant core, the Sheraton Grand Seattle provides a gateway to the diverse sights and sounds of the Pacific Northwest. Step out of our front doors to find gourmet dining and bars, world-class shopping, exciting entertainment, and iconic local attractions including the Pike Place Market, Space Needle and Chihuly Garden & Glass Museum. As one of only seven Sheraton hotels in North America to earn the esteemed Grand designation, guests can book confidently knowing they?re receiving the highest benchmark on product and service offerings available. Experience our recently completed multimillion-dollar transformation featuring all new guest rooms, an expanded Sheraton Club Lounge, and modern meeting & event spaces. Gather in our stylish new lobby and enjoy our private art collection featuring local artists while enjoying your favorite beverage from Starbucks. The Sheraton Grand features several dining options including Loulay Kitchen & Bar by James Beard award winning chef Thierry Rautureau.\",\n",
       "       'Sheraton Grand Seattle'], dtype=object)"
      ]
     },
     "execution_count": 20,
     "metadata": {},
     "output_type": "execute_result"
    }
   ],
   "source": [
    "df[df.index==1][['desc','name']].values[0]"
   ]
  },
  {
   "cell_type": "markdown",
   "metadata": {},
   "source": [
    "### Explore most popular words in desc"
   ]
  },
  {
   "cell_type": "code",
   "execution_count": 49,
   "metadata": {},
   "outputs": [],
   "source": [
    "# get top K words of n-gram features in corpus\n",
    "def get_top_k_words(corpus, n, k):\n",
    "    '''\n",
    "    n: n-gram features\n",
    "    k: top k\n",
    "    '''\n",
    "    vec = CountVectorizer(ngram_range =(n,n), stop_words ='english').fit(corpus)\n",
    "    bag_of_words = vec.transform(corpus)\n",
    "    ic(bag_of_words.shape)\n",
    "    # get frequency of the word\n",
    "    sum_words = bag_of_words.sum(axis=0) \n",
    "    words_freq = [(word, sum_words[0,idx]) for word, idx in vec.vocabulary_.items()]\n",
    "    # sorted freq by desc\n",
    "    words_freq = sorted(words_freq, key =lambda x:x[1], reverse = True)\n",
    "    return words_freq[:k]"
   ]
  },
  {
   "cell_type": "code",
   "execution_count": 52,
   "metadata": {},
   "outputs": [
    {
     "name": "stderr",
     "output_type": "stream",
     "text": [
      "ic| bag_of_words.shape: (152, 2994)\n",
      "ic| common_words: [('seattle', 533),\n",
      "                   ('hotel', 295),\n",
      "                   ('center', 151),\n",
      "                   ('downtown', 133),\n",
      "                   ('free', 123),\n",
      "                   ('located', 108),\n",
      "                   ('rooms', 106),\n",
      "                   ('stay', 105),\n",
      "                   ('place', 102),\n",
      "                   ('airport', 99),\n",
      "                   ('space', 97),\n",
      "                   ('market', 97),\n",
      "                   ('enjoy', 93),\n",
      "                   ('pike', 90),\n",
      "                   ('inn', 89),\n",
      "                   ('business', 87),\n",
      "                   ('just', 82),\n",
      "                   ('city', 79),\n",
      "                   ('room', 77),\n",
      "                   ('breakfast', 68)]\n"
     ]
    },
    {
     "data": {
      "image/png": "[encoded data removed]",
      "text/plain": [
       "<Figure size 432x288 with 1 Axes>"
      ]
     },
     "metadata": {
      "needs_background": "light"
     },
     "output_type": "display_data"
    }
   ],
   "source": [
    "common_words = get_top_k_words(df['desc'],1,20)\n",
    "ic(common_words)\n",
    "# visulize by bar chart\n",
    "df1 = pd.DataFrame(common_words, columns =['word(s)', 'count'])\n",
    "df1.groupby('word(s)').sum()['count'].sort_values().plot(kind ='barh',\n",
    "                                           title ='Top 20 words without stop words')\n",
    "plt.show()"
   ]
  },
  {
   "cell_type": "markdown",
   "metadata": {},
   "source": [
    "### Feature extraction\n",
    "* using n-gram to extract n continuous words as feature\n",
    "* using TF-IDF(min_df, max_df) to extract key word(s) and create TF-IDF matrix"
   ]
  },
  {
   "cell_type": "code",
   "execution_count": 67,
   "metadata": {},
   "outputs": [
    {
     "name": "stdout",
     "output_type": "stream",
     "text": [
      "Located on the southern tip of Lake Union, the Hilton Garden Inn Seattle Downtown hotel is perfectly located for business and leisure. \r\n",
      "The neighborhood is home to numerous major international companies including Amazon, Google and the Bill & Melinda Gates Foundation. A wealth of eclectic restaurants and bars make this area of Seattle one of the most sought out by locals and visitors. Our proximity to Lake Union allows visitors to take in some of the Pacific Northwest's majestic scenery and enjoy outdoor activities like kayaking and sailing. over 2,000 sq. ft. of versatile space and a complimentary business center. State-of-the-art A/V technology and our helpful staff will guarantee your conference, cocktail reception or wedding is a success. Refresh in the sparkling saltwater pool, or energize with the latest equipment in the 24-hour fitness center. Tastefully decorated and flooded with natural light, our guest rooms and suites offer everything you need to relax and stay productive. Unwind in the bar, and enjoy American cuisine for breakfast, lunch and dinner in our restaurant. The 24-hour Pavilion Pantry? stocks a variety of snacks, drinks and sundries.\n",
      "Located on the southern tip of Lake Union the Hilton Garden Inn Seattle Downtown hotel is perfectly located for business and leisure. The neighborhood is home to numerous major international companies including Amazon Google and the Bill & Melinda Gates Foundation. A wealth of eclectic restaurants and bars make this area of Seattle one of the most sought out by locals and visitors. Our proximity to Lake Union allows visitors to take in some of the Pacific Northwest's majestic scenery and enjoy outdoor activities like kayaking and sailing. over 2000 sq. ft. of versatile space and a complimentary business center. State-of-the-art AV technology and our helpful staff will guarantee your conference cocktail reception or wedding is a success. Refresh in the sparkling saltwater pool or energize with the latest equipment in the 24-hour fitness center. Tastefully decorated and flooded with natural light our guest rooms and suites offer everything you need to relax and stay productive. Unwind in the bar and enjoy American cuisine for breakfast lunch and dinner in our restaurant. The 24-hour Pavilion Pantry? stocks a variety of snacks drinks and sundries.\n"
     ]
    }
   ],
   "source": [
    "# data cleansing\n",
    "replaceBySpaceRE = re.compile('[/(){}\\[\\]\\|@,;\\\\r\\\\n]')\n",
    "example =df.iloc[0]['desc']\n",
    "print(example)\n",
    "replaceByspace=replaceBySpaceRE.sub('',df.iloc[0]['desc'])\n",
    "print(replaceByspace)"
   ]
  },
  {
   "cell_type": "code",
   "execution_count": 70,
   "metadata": {},
   "outputs": [
    {
     "name": "stdout",
     "output_type": "stream",
     "text": [
      "located on the southern tip of lake union the hilton garden inn seattle downtown hotel is perfectly located for business and leisure the neighborhood is home to numerous major international companies including amazon google and the bill  melinda gates foundation a wealth of eclectic restaurants and bars make this area of seattle one of the most sought out by locals and visitors our proximity to lake union allows visitors to take in some of the pacific northwests majestic scenery and enjoy outdoor activities like kayaking and sailing over 2000 sq ft of versatile space and a complimentary business center stateoftheart av technology and our helpful staff will guarantee your conference cocktail reception or wedding is a success refresh in the sparkling saltwater pool or energize with the latest equipment in the 24hour fitness center tastefully decorated and flooded with natural light our guest rooms and suites offer everything you need to relax and stay productive unwind in the bar and enjoy american cuisine for breakfast lunch and dinner in our restaurant the 24hour pavilion pantry stocks a variety of snacks drinks and sundries\n",
      "located on the southern tip of lake union the hilton garden inn seattle downtown hotel is perfectly located for business and leisure the neighborhood is home to numerous major international companies including amazon google and the bill  melinda gates foundation a wealth of eclectic restaurants and bars make this area of seattle one of the most sought out by locals and visitors our proximity to lake union allows visitors to take in some of the pacific northwests majestic scenery and enjoy outdoor activities like kayaking and sailing over 2000 sq ft of versatile space and a complimentary business center stateoftheart av technology and our helpful staff will guarantee your conference cocktail reception or wedding is a success refresh in the sparkling saltwater pool or energize with the latest equipment in the 24hour fitness center tastefully decorated and flooded with natural light our guest rooms and suites offer everything you need to relax and stay productive unwind in the bar and enjoy american cuisine for breakfast lunch and dinner in our restaurant the 24hour pavilion pantry stocks a variety of snacks drinks and sundries\n"
     ]
    }
   ],
   "source": [
    "badSymbolsRE = re.compile('[^0-9a-z #+_]')\n",
    "print(badSymbolsRE.sub('',replaceByspace.lower()))\n",
    "print(badSymbolsRE.sub('',example.lower()))"
   ]
  },
  {
   "cell_type": "code",
   "execution_count": 78,
   "metadata": {},
   "outputs": [],
   "source": [
    "stopWords = set(stopwords.words('english'))"
   ]
  },
  {
   "cell_type": "code",
   "execution_count": 82,
   "metadata": {},
   "outputs": [],
   "source": [
    "def clean_text(text):\n",
    "    text = text.lower()\n",
    "    text = badSymbolsRE.sub('',text)\n",
    "    # remove stop words\n",
    "    text = ' '.join(word for word in text.split() if word not in stopWords)\n",
    "    return text"
   ]
  },
  {
   "cell_type": "code",
   "execution_count": 84,
   "metadata": {},
   "outputs": [
    {
     "data": {
      "text/html": [
       "<div>\n",
       "<style scoped>\n",
       "    .dataframe tbody tr th:only-of-type {\n",
       "        vertical-align: middle;\n",
       "    }\n",
       "\n",
       "    .dataframe tbody tr th {\n",
       "        vertical-align: top;\n",
       "    }\n",
       "\n",
       "    .dataframe thead th {\n",
       "        text-align: right;\n",
       "    }\n",
       "</style>\n",
       "<table border=\"1\" class=\"dataframe\">\n",
       "  <thead>\n",
       "    <tr style=\"text-align: right;\">\n",
       "      <th></th>\n",
       "      <th>desc</th>\n",
       "      <th>desc_clean</th>\n",
       "    </tr>\n",
       "  </thead>\n",
       "  <tbody>\n",
       "    <tr>\n",
       "      <th>0</th>\n",
       "      <td>Located on the southern tip of Lake Union, the...</td>\n",
       "      <td>located southern tip lake union hilton garden ...</td>\n",
       "    </tr>\n",
       "    <tr>\n",
       "      <th>1</th>\n",
       "      <td>Located in the city's vibrant core, the Sherat...</td>\n",
       "      <td>located citys vibrant core sheraton grand seat...</td>\n",
       "    </tr>\n",
       "    <tr>\n",
       "      <th>2</th>\n",
       "      <td>Located in the heart of downtown Seattle, the ...</td>\n",
       "      <td>located heart downtown seattle awardwinning cr...</td>\n",
       "    </tr>\n",
       "    <tr>\n",
       "      <th>3</th>\n",
       "      <td>What?s near our hotel downtown Seattle locatio...</td>\n",
       "      <td>whats near hotel downtown seattle location bet...</td>\n",
       "    </tr>\n",
       "    <tr>\n",
       "      <th>4</th>\n",
       "      <td>Situated amid incredible shopping and iconic a...</td>\n",
       "      <td>situated amid incredible shopping iconic attra...</td>\n",
       "    </tr>\n",
       "  </tbody>\n",
       "</table>\n",
       "</div>"
      ],
      "text/plain": [
       "                                                desc  \\\n",
       "0  Located on the southern tip of Lake Union, the...   \n",
       "1  Located in the city's vibrant core, the Sherat...   \n",
       "2  Located in the heart of downtown Seattle, the ...   \n",
       "3  What?s near our hotel downtown Seattle locatio...   \n",
       "4  Situated amid incredible shopping and iconic a...   \n",
       "\n",
       "                                          desc_clean  \n",
       "0  located southern tip lake union hilton garden ...  \n",
       "1  located citys vibrant core sheraton grand seat...  \n",
       "2  located heart downtown seattle awardwinning cr...  \n",
       "3  whats near hotel downtown seattle location bet...  \n",
       "4  situated amid incredible shopping iconic attra...  "
      ]
     },
     "execution_count": 84,
     "metadata": {},
     "output_type": "execute_result"
    }
   ],
   "source": [
    "df['desc_clean'] = df['desc'].apply(clean_text)\n",
    "df[['desc','desc_clean']].head()"
   ]
  },
  {
   "cell_type": "code",
   "execution_count": null,
   "metadata": {},
   "outputs": [],
   "source": [
    "# build the model, Tfidf in sklearn already cover n_gram feature\n",
    "df.set_index('name',inplace = True)\n",
    "tf = TfidfVectorizer(analyzer ='word',stop_words ='english',ngram_range=(1,3), min_df= 0.01)\n",
    "tfidf_matrix =  tf.fit_transform(df['desc_clean'])"
   ]
  },
  {
   "cell_type": "code",
   "execution_count": 92,
   "metadata": {},
   "outputs": [
    {
     "name": "stderr",
     "output_type": "stream",
     "text": [
      "ic| len(tf.get_feature_names()): 3142\n"
     ]
    },
    {
     "name": "stdout",
     "output_type": "stream",
     "text": [
      "['10', '100', '100 nonsmoking', '10minute', '11', '12', '120', '1200', '15', '15 miles']\n"
     ]
    },
    {
     "data": {
      "text/plain": [
       "(152, 3142)"
      ]
     },
     "execution_count": 92,
     "metadata": {},
     "output_type": "execute_result"
    }
   ],
   "source": [
    "print(tf.get_feature_names()[:10])\n",
    "ic(len(tf.get_feature_names()))\n",
    "tfidf_matrix.shape"
   ]
  },
  {
   "cell_type": "markdown",
   "metadata": {},
   "source": [
    "### Calculate the similarity"
   ]
  },
  {
   "cell_type": "code",
   "execution_count": 94,
   "metadata": {},
   "outputs": [
    {
     "name": "stderr",
     "output_type": "stream",
     "text": [
      "ic| cosine_similarity.shape: (152, 152)\n"
     ]
    },
    {
     "name": "stdout",
     "output_type": "stream",
     "text": [
      "[[1.         0.03970655 0.10844699 ... 0.0457341  0.01208517 0.02782307]\n",
      " [0.03970655 1.         0.06133417 ... 0.06148493 0.01509612 0.03721015]\n",
      " [0.10844699 0.06133417 1.         ... 0.09219382 0.04233599 0.05625399]\n",
      " ...\n",
      " [0.0457341  0.06148493 0.09219382 ... 1.         0.05794692 0.04160991]\n",
      " [0.01208517 0.01509612 0.04233599 ... 0.05794692 1.         0.01732767]\n",
      " [0.02782307 0.03721015 0.05625399 ... 0.04160991 0.01732767 1.        ]]\n"
     ]
    }
   ],
   "source": [
    "cosine_similarity = linear_kernel(tfidf_matrix, tfidf_matrix)\n",
    "ic(cosine_similarity.shape)\n",
    "print(cosine_similarity)"
   ]
  },
  {
   "cell_type": "markdown",
   "metadata": {},
   "source": [
    "### Recommendation"
   ]
  },
  {
   "cell_type": "code",
   "execution_count": 97,
   "metadata": {},
   "outputs": [
    {
     "data": {
      "text/plain": [
       "116    The Bacon Mansion Bed and Breakfast\n",
       "Name: name, dtype: object"
      ]
     },
     "execution_count": 97,
     "metadata": {},
     "output_type": "execute_result"
    }
   ],
   "source": [
    "# according to the cosine_similarity and hotel name to recommend the similar ones\n",
    "indices = pd.Series(df.index)\n",
    "name ='The Bacon Mansion Bed and Breakfast'\n",
    "indices[indices ==name ]"
   ]
  },
  {
   "cell_type": "code",
   "execution_count": 107,
   "metadata": {},
   "outputs": [],
   "source": [
    "def recommendations(name,n=10, cosine_similarity = cosine_similarity):\n",
    "    recom = []\n",
    "    idx = indices[indices == name].index[0]\n",
    "    ic(idx)\n",
    "    # descending sort the value of cosine_similarity \n",
    "    score_series =pd.Series(cosine_similarity[idx]).sort_values(ascending=False)\n",
    "    # top n recommendation(exclud self)\n",
    "    topNIndex = list(score_series.iloc[1:n+1].index)\n",
    "    for i in topNIndex:\n",
    "        recom.append(indices[i])\n",
    "    return recom"
   ]
  },
  {
   "cell_type": "code",
   "execution_count": 110,
   "metadata": {},
   "outputs": [
    {
     "name": "stderr",
     "output_type": "stream",
     "text": [
      "ic| idx: 131\n"
     ]
    },
    {
     "data": {
      "text/plain": [
       "['Shafer Baillie Mansion Bed & Breakfast',\n",
       " '11th Avenue Inn Bed and Breakfast',\n",
       " 'The Bacon Mansion Bed and Breakfast',\n",
       " 'Bed and Breakfast Inn Seattle',\n",
       " 'Chittenden House Bed and Breakfast']"
      ]
     },
     "execution_count": 110,
     "metadata": {},
     "output_type": "execute_result"
    }
   ],
   "source": [
    "recommendations(name ='Gaslight Inn', n= 5)"
   ]
  },
  {
   "cell_type": "code",
   "execution_count": 109,
   "metadata": {},
   "outputs": [
    {
     "name": "stderr",
     "output_type": "stream",
     "text": [
      "ic| idx: 49\n"
     ]
    },
    {
     "data": {
      "text/plain": [
       "['Embassy Suites by Hilton Seattle Tacoma International Airport',\n",
       " 'DoubleTree by Hilton Hotel Seattle Airport',\n",
       " 'Seattle Airport Marriott',\n",
       " 'Motel 6 Seattle Sea-Tac Airport South',\n",
       " 'Knights Inn Tukwila',\n",
       " 'Four Points by Sheraton Downtown Seattle Center',\n",
       " 'Hampton Inn Seattle/Southcenter',\n",
       " 'Radisson Hotel Seattle Airport',\n",
       " 'Home2 Suites by Hilton Seattle Airport',\n",
       " 'Best Western Seattle Airport Hotel']"
      ]
     },
     "execution_count": 109,
     "metadata": {},
     "output_type": "execute_result"
    }
   ],
   "source": [
    "recommendations('Hilton Seattle Airport & Conference Center')"
   ]
  },
  {
   "cell_type": "code",
   "execution_count": null,
   "metadata": {},
   "outputs": [],
   "source": []
  }
 ],
 "metadata": {
  "kernelspec": {
   "display_name": "Python 3",
   "language": "python",
   "name": "python3"
  },
  "language_info": {
   "codemirror_mode": {
    "name": "ipython",
    "version": 3
   },
   "file_extension": ".py",
   "mimetype": "text/x-python",
   "name": "python",
   "nbconvert_exporter": "python",
   "pygments_lexer": "ipython3",
   "version": "3.7.3"
  },
  "toc": {
   "base_numbering": 1,
   "nav_menu": {},
   "number_sections": true,
   "sideBar": true,
   "skip_h1_title": false,
   "title_cell": "Table of Contents",
   "title_sidebar": "Contents",
   "toc_cell": false,
   "toc_position": {},
   "toc_section_display": true,
   "toc_window_display": false
  },
  "varInspector": {
   "cols": {
    "lenName": 16,
    "lenType": 16,
    "lenVar": 40
   },
   "kernels_config": {
    "python": {
     "delete_cmd_postfix": "",
     "delete_cmd_prefix": "del ",
     "library": "var_list.py",
     "varRefreshCmd": "print(var_dic_list())"
    },
    "r": {
     "delete_cmd_postfix": ") ",
     "delete_cmd_prefix": "rm(",
     "library": "var_list.r",
     "varRefreshCmd": "cat(var_dic_list()) "
    }
   },
   "types_to_exclude": [
    "module",
    "function",
    "builtin_function_or_method",
    "instance",
    "_Feature"
   ],
   "window_display": false
  }
 },
 "nbformat": 4,
 "nbformat_minor": 2
}
