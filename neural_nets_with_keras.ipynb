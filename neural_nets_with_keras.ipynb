{
 "cells": [
  {
   "cell_type": "markdown",
   "id": "3b354364",
   "metadata": {},
   "source": [
    "## Setup"
   ]
  },
  {
   "cell_type": "code",
   "execution_count": 1,
   "id": "2065a101",
   "metadata": {},
   "outputs": [],
   "source": [
    "import tensorflow as tf\n",
    "import sys\n",
    "import sklearn"
   ]
  },
  {
   "cell_type": "code",
   "execution_count": 2,
   "id": "c20f1762",
   "metadata": {},
   "outputs": [],
   "source": [
    "assert sys.version_info >= (3,5)\n",
    "assert sklearn.__version__ >=\"0.2\"\n",
    "assert tf.__version__ >=\"2.0\""
   ]
  },
  {
   "cell_type": "code",
   "execution_count": 4,
   "id": "132e0c4c",
   "metadata": {},
   "outputs": [],
   "source": [
    "import matplotlib.pyplot as plt\n",
    "import matplotlib as mpl\n",
    "import numpy as np\n",
    "import os"
   ]
  },
  {
   "cell_type": "code",
   "execution_count": 5,
   "id": "cd4a1c84",
   "metadata": {},
   "outputs": [],
   "source": [
    "np.random.seed(42)\n",
    "mpl.rc(\"axes\", labelsize=14)\n",
    "mpl.rc(\"xtick\", labelsize=12)\n",
    "mpl.rc(\"ytick\", labelsize=12)"
   ]
  },
  {
   "cell_type": "code",
   "execution_count": 6,
   "id": "b68c9efa",
   "metadata": {},
   "outputs": [],
   "source": [
    "PROJECT_ROOT_DIR = \".\"\n",
    "PROJECT_ID = \"ann\"\n",
    "IMAGE_PATH =os.path.join(PROJECT_ROOT_DIR,'images', PROJECT_ID)\n",
    "os.makedirs(IMAGE_PATH, exist_ok=True)"
   ]
  },
  {
   "cell_type": "code",
   "execution_count": 7,
   "id": "b647c058",
   "metadata": {},
   "outputs": [],
   "source": [
    "def save_fig(fig_id, file_extension='png',resolution=300, tight_layout=True):\n",
    "    file_name =os.path.join(IMAGE_PATH,fig_id+\".\"+file_extension)\n",
    "    \n",
    "    if tight_layout:\n",
    "        plt.tight_layout()\n",
    "    print(f\"Saving {fig_id}...\")\n",
    "    plt.savefig(file_name,\n",
    "                dpi= resolution,\n",
    "                format = file_extension\n",
    "               )"
   ]
  },
  {
   "cell_type": "markdown",
   "id": "d1d7cfda",
   "metadata": {},
   "source": [
    "## Perceptrons"
   ]
  },
  {
   "cell_type": "code",
   "execution_count": null,
   "id": "1e2a2f2e",
   "metadata": {},
   "outputs": [],
   "source": [
    "import numpy as np\n",
    "from sklearn.datasets import load_iris\n",
    "from sklearn.linear_model import Perceptron\n",
    "from matplotlib.colors import ListedColormap"
   ]
  },
  {
   "cell_type": "code",
   "execution_count": 8,
   "id": "7043594c",
   "metadata": {},
   "outputs": [
    {
     "data": {
      "text/plain": [
       "array([1])"
      ]
     },
     "execution_count": 8,
     "metadata": {},
     "output_type": "execute_result"
    }
   ],
   "source": [
    "iris = load_iris()\n",
    "X = iris.data[:,(2,3)]\n",
    "y = (iris.target==0).astype(int)\n",
    "\n",
    "per_clf = Perceptron(max_iter=1000, tol=1e-3, random_state=42)\n",
    "per_clf.fit(X,y)\n",
    "\n",
    "y_pred = per_clf.predict([[2,0.5]])\n",
    "y_pred\n"
   ]
  },
  {
   "cell_type": "code",
   "execution_count": 9,
   "id": "9db34793",
   "metadata": {},
   "outputs": [
    {
     "data": {
      "text/plain": [
       "(array([[-1.4, -2.2]]), array([4.]))"
      ]
     },
     "execution_count": 9,
     "metadata": {},
     "output_type": "execute_result"
    }
   ],
   "source": [
    "per_clf.coef_, per_clf.intercept_"
   ]
  },
  {
   "cell_type": "code",
   "execution_count": 10,
   "id": "00b176ce",
   "metadata": {},
   "outputs": [
    {
     "name": "stdout",
     "output_type": "stream",
     "text": [
      "Saving perceptron_iris_plot...\n"
     ]
    },
    {
     "data": {
      "image/png": "[encoded data removed]",
      "text/plain": [
       "<Figure size 720x288 with 1 Axes>"
      ]
     },
     "metadata": {
      "needs_background": "light"
     },
     "output_type": "display_data"
    }
   ],
   "source": [
    "a = -per_clf.coef_[0,0] / per_clf.coef_[0, 1]\n",
    "b = -per_clf.intercept_ / per_clf.coef_[0, 1]\n",
    "\n",
    "axes = [0, 5, 0, 2]\n",
    "x0, x1 = np.meshgrid(np.linspace(axes[0], axes[1], 500).reshape(-1,1),\n",
    "                     np.linspace(axes[2], axes[3], 200).reshape(-1,1)\n",
    "                    )\n",
    "X_new = np.c_[x0.ravel(),x1.ravel()]\n",
    "y_new_pred = per_clf.predict(X_new)\n",
    "zz = y_new_pred.reshape(x0.shape)\n",
    "\n",
    "plt.figure(figsize=(10, 4))\n",
    "plt.plot(X[y==0, 0], X[y==0, 1],  \"bs\", label=\"Not Iris-Setosa\")\n",
    "plt.plot(X[y==1, 0], X[y==1, 1],  \"yo\", label=\"Iris-Setosa\")\n",
    "\n",
    "plt.plot((axes[0], axes[1]), (a*axes[0]+b, a*axes[1]+b), 'k-', linewidth=3)\n",
    "custommap = ListedColormap(['#9898ff', '#fafab0'])\n",
    "\n",
    "plt.contour(x0, x1, zz, cmap = custommap )\n",
    "plt.xlabel(\"Petal length\", fontsize=14)\n",
    "plt.ylabel(\"Petal width\", fontsize=14)\n",
    "plt.legend(loc=\"lower right\", fontsize=14)\n",
    "plt.axis(axes)\n",
    "\n",
    "save_fig(\"perceptron_iris_plot\")\n",
    "\n",
    "plt.show()\n"
   ]
  },
  {
   "cell_type": "markdown",
   "id": "cf7ce526",
   "metadata": {},
   "source": [
    "### activation function"
   ]
  },
  {
   "cell_type": "code",
   "execution_count": 11,
   "id": "275ea955",
   "metadata": {},
   "outputs": [],
   "source": [
    "from scipy.special import expit as sigmoid\n",
    "\n",
    "def relu(z):\n",
    "    return np.maximum(0, z)\n",
    "\n",
    "def derivative(f, z, eps=0.000001):\n",
    "    return (f(z+eps) -f(z-eps))/(2*eps)\n",
    "    "
   ]
  },
  {
   "cell_type": "code",
   "execution_count": null,
   "id": "da449d62",
   "metadata": {},
   "outputs": [],
   "source": []
  },
  {
   "cell_type": "code",
   "execution_count": 12,
   "id": "28270413",
   "metadata": {},
   "outputs": [
    {
     "name": "stdout",
     "output_type": "stream",
     "text": [
      "Saving activation_functions_plot...\n"
     ]
    },
    {
     "data": {
      "image/png": "[encoded data removed]",
      "text/plain": [
       "<Figure size 792x223.2 with 2 Axes>"
      ]
     },
     "metadata": {
      "needs_background": "light"
     },
     "output_type": "display_data"
    }
   ],
   "source": [
    "max_z=4.5\n",
    "z = np.linspace(-max_z, max_z, 200)\n",
    "plt.figure(figsize=(11, 3.1))\n",
    "plt.subplot(121)\n",
    "plt.plot((-max_z,0),(0,0),'r-', linewidth=2, label =\"Heaviside\")\n",
    "plt.plot((0,0),(0,1),'r-', linewidth=0.5)\n",
    "plt.plot((0,max_z),(1,1),'r-', linewidth=2)\n",
    "plt.plot(z, relu(z), 'm-.', linewidth=2, label= \"relu\")\n",
    "plt.plot(z, sigmoid(z), 'g--', linewidth=2, label= \"sigmoid\")\n",
    "plt.plot(z, np.tanh(z), 'b-', linewidth =2, label = 'Tanh')\n",
    "plt.grid()\n",
    "plt.axis([-max_z, max_z, -1.65, 2.4])\n",
    "plt.title(\"Activation functions\")\n",
    "plt.gca().set_yticks([-1, 0, 1, 2])\n",
    "plt.legend(loc=\"lower right\")\n",
    "\n",
    "plt.subplot(122)\n",
    "plt.plot(z, derivative(np.sign,z),'r-', linewidth=2, label =\"Heaviside\")\n",
    "\n",
    "plt.plot(z, derivative(relu,z), 'm-.', linewidth=2, label= \"relu\")\n",
    "plt.plot(z, derivative(sigmoid, z), 'g--', linewidth=2, label= \"sigmoid\")\n",
    "plt.plot(z, derivative(np.tanh, z), 'b-', linewidth =2, label = 'Tanh')\n",
    "plt.grid()\n",
    "plt.plot(0, 0, \"ro\", markersize=5)\n",
    "plt.plot(0, 0, \"rx\", markersize=10)\n",
    "plt.plot(0, 1, \"ro\", markersize=5)\n",
    "plt.plot(0, 1, \"rx\", markersize=10)\n",
    "\n",
    "plt.title(\"Derivatives\")\n",
    "plt.axis([-max_z, max_z, -0.2, 1.2])\n",
    "\n",
    "plt.legend(loc=\"upper left\")\n",
    "\n",
    "save_fig(\"activation_functions_plot\")\n",
    "plt.show()"
   ]
  },
  {
   "cell_type": "code",
   "execution_count": 13,
   "id": "e9ea5b66",
   "metadata": {},
   "outputs": [],
   "source": [
    "def heavside(z):\n",
    "    return (z >= 0).astype(z.dtype)\n",
    "\n",
    "def xor_mlp(x1, x2, activation=heavside):\n",
    "    return activation(-0.5 - activation(-1.5 + x1 + x2) +activation(-0.5 +x1 +x2))\n"
   ]
  },
  {
   "cell_type": "code",
   "execution_count": 14,
   "id": "40a78426",
   "metadata": {},
   "outputs": [],
   "source": [
    "x1s = np.linspace(-0.2, 1.2, 100)\n",
    "x2s = np.linspace(-0.2, 1.2, 100)\n",
    "x1,x2 = np.meshgrid(x1s, x2s)"
   ]
  },
  {
   "cell_type": "code",
   "execution_count": 15,
   "id": "810e2bbf",
   "metadata": {},
   "outputs": [
    {
     "data": {
      "text/plain": [
       "array([1.])"
      ]
     },
     "execution_count": 15,
     "metadata": {},
     "output_type": "execute_result"
    }
   ],
   "source": [
    "\n",
    "x1=np.array([0])\n",
    "x2=np.array([1])\n",
    "xor_mlp(x1,x2,activation=heavside)"
   ]
  },
  {
   "cell_type": "code",
   "execution_count": 16,
   "id": "d0ab6329",
   "metadata": {},
   "outputs": [
    {
     "data": {
      "text/plain": [
       "array([0])"
      ]
     },
     "execution_count": 16,
     "metadata": {},
     "output_type": "execute_result"
    }
   ],
   "source": [
    "x1"
   ]
  },
  {
   "cell_type": "code",
   "execution_count": null,
   "id": "76d70b7e",
   "metadata": {},
   "outputs": [],
   "source": []
  },
  {
   "cell_type": "markdown",
   "id": "070aef4e",
   "metadata": {},
   "source": [
    "### Regression MLPs"
   ]
  },
  {
   "cell_type": "code",
   "execution_count": 17,
   "id": "1d21ae04",
   "metadata": {},
   "outputs": [],
   "source": [
    "from sklearn.datasets import fetch_california_housing\n",
    "from sklearn.model_selection import train_test_split\n",
    "from sklearn.preprocessing import StandardScaler\n",
    "from sklearn.neural_network import MLPRegressor\n",
    "from sklearn.pipeline import make_pipeline\n",
    "from sklearn.metrics import mean_squared_error"
   ]
  },
  {
   "cell_type": "code",
   "execution_count": 18,
   "id": "d992b69f",
   "metadata": {},
   "outputs": [
    {
     "data": {
      "text/plain": [
       "0.505332665796861"
      ]
     },
     "execution_count": 18,
     "metadata": {},
     "output_type": "execute_result"
    }
   ],
   "source": [
    "housing = fetch_california_housing()\n",
    "X_train_full, X_test_full, y_train_full, y_test_full = train_test_split(housing.data, housing.target, random_state=42)\n",
    "X_train, X_valid, y_train, y_valid = train_test_split(X_train_full, y_train_full, random_state=42)\n",
    "mlp_reg = MLPRegressor(hidden_layer_sizes=[50, 50, 50], random_state=42)\n",
    "\n",
    "pipeline = make_pipeline(StandardScaler(), mlp_reg)\n",
    "pipeline.fit(X_train, y_train)\n",
    "y_valid_pred = pipeline.predict(X_valid)\n",
    "mean_squared_error(y_valid, y_valid_pred, squared=False)"
   ]
  },
  {
   "cell_type": "code",
   "execution_count": 19,
   "id": "95d0543a",
   "metadata": {},
   "outputs": [
    {
     "ename": "NameError",
     "evalue": "name 'cal' is not defined",
     "output_type": "error",
     "traceback": [
      "\u001b[1;31m---------------------------------------------------------------------------\u001b[0m",
      "\u001b[1;31mNameError\u001b[0m                                 Traceback (most recent call last)",
      "Input \u001b[1;32mIn [19]\u001b[0m, in \u001b[0;36m<cell line: 1>\u001b[1;34m()\u001b[0m\n\u001b[1;32m----> 1\u001b[0m \u001b[43mcal\u001b[49m\u001b[38;5;241m.\u001b[39mkeys()\n",
      "\u001b[1;31mNameError\u001b[0m: name 'cal' is not defined"
     ]
    }
   ],
   "source": [
    "cal.keys()"
   ]
  },
  {
   "cell_type": "markdown",
   "id": "624b2d5e",
   "metadata": {},
   "source": [
    "## Implementing MLP with keras\n",
    "### Building an image classifier using the sequential API"
   ]
  },
  {
   "cell_type": "markdown",
   "id": "785d459f",
   "metadata": {},
   "source": [
    "#### Using Keras to load the dataset"
   ]
  },
  {
   "cell_type": "code",
   "execution_count": null,
   "id": "e969a5d5",
   "metadata": {},
   "outputs": [],
   "source": [
    "import tensorflow as tf"
   ]
  },
  {
   "cell_type": "code",
   "execution_count": null,
   "id": "203c5717",
   "metadata": {},
   "outputs": [],
   "source": [
    "fashion_MNIST = tf.keras.datasets.fashion_mnist.load_data() "
   ]
  },
  {
   "cell_type": "code",
   "execution_count": null,
   "id": "dbdf4b3e",
   "metadata": {},
   "outputs": [],
   "source": [
    "(X_train_full, y_train_full), (X_test, y_test) =  fashion_MNIST"
   ]
  },
  {
   "cell_type": "code",
   "execution_count": null,
   "id": "d6a0e028",
   "metadata": {},
   "outputs": [],
   "source": [
    "X_train, X_valid= X_train_full[:-5000], X_train_full[-5000:]\n",
    "y_train, y_valid = y_train_full[:-5000], y_train_full[-5000:]"
   ]
  },
  {
   "cell_type": "code",
   "execution_count": null,
   "id": "2beb6efe",
   "metadata": {},
   "outputs": [],
   "source": [
    "X_train.shape, X_train.dtype"
   ]
  },
  {
   "cell_type": "code",
   "execution_count": null,
   "id": "d4b28cbc",
   "metadata": {},
   "outputs": [],
   "source": [
    "# Let's scale the pixel intensities down to the 0-1 range and convert them to floats, by dividing by 255:\n",
    "X_train, X_valid, X_test = X_train/255., X_valid/255., X_test/255.\n",
    "\n"
   ]
  },
  {
   "cell_type": "code",
   "execution_count": null,
   "id": "a8a65838",
   "metadata": {},
   "outputs": [],
   "source": [
    "import matplotlib.pyplot as plt\n"
   ]
  },
  {
   "cell_type": "code",
   "execution_count": null,
   "id": "54aaad16",
   "metadata": {},
   "outputs": [],
   "source": [
    "plt.imshow(X_train[0], cmap='binary')\n",
    "plt.axis('off')\n",
    "plt.show()"
   ]
  },
  {
   "cell_type": "code",
   "execution_count": null,
   "id": "8c5baecc",
   "metadata": {},
   "outputs": [],
   "source": [
    "class_names =['T-shirt/top', 'Trouser', 'Pullover', 'Dress', 'Coat',\n",
    "             'Sandal', 'Shirt', 'Sneaker', 'Bag', 'Ankle boot']"
   ]
  },
  {
   "cell_type": "code",
   "execution_count": null,
   "id": "ef0b8e89",
   "metadata": {},
   "outputs": [],
   "source": [
    "class_names[y_train[0]]"
   ]
  },
  {
   "cell_type": "code",
   "execution_count": null,
   "id": "04aa4644",
   "metadata": {},
   "outputs": [],
   "source": [
    "n_rows = 4\n",
    "n_cols = 10\n",
    "\n",
    "plt.figure(figsize = (n_cols*1.2, n_rows*1.2))\n",
    "for row in range(n_rows):\n",
    "    for col in range(n_cols):        \n",
    "        plt.subplot(n_rows, n_cols, row*n_cols+col+1)\n",
    "        plt.imshow(X_train[row*n_cols+col], cmap ='binary')\n",
    "        plt.title(class_names[y_train[row*n_cols+col]])\n",
    "        plt.axis(\"off\")\n",
    "        \n",
    "plt.subplots_adjust(wspace=0.2, hspace=0.5)\n",
    "\n",
    "save_fig(\"fashion_mnist_plot\")\n",
    "plt.show()"
   ]
  },
  {
   "cell_type": "code",
   "execution_count": null,
   "id": "963fa82d",
   "metadata": {},
   "outputs": [],
   "source": [
    "tf.random.set_seed(42)\n",
    "model = tf.keras.Sequential()\n",
    "model.add(tf.keras.layers.Input(shape=[28,28]))\n",
    "model.add(tf.keras.layers.Flatten())\n",
    "model.add(tf.keras.layers.Dense(300, activation='relu'))\n",
    "model.add(tf.keras.layers.Dense(100, activation='relu'))\n",
    "model.add(tf.keras.layers.Dense(10, activation='softmax'))"
   ]
  },
  {
   "cell_type": "code",
   "execution_count": null,
   "id": "a0d2deb7",
   "metadata": {},
   "outputs": [],
   "source": [
    "tf.keras.backend.clear_session()\n",
    "tf.random.set_seed(42)\n",
    "\n",
    "model = tf.keras.Sequential([\n",
    "    tf.keras.layers.Flatten(input_shape=[28,28]),\n",
    "    tf.keras.layers.Dense(300, activation='relu'),\n",
    "    tf.keras.layers.Dense(100, activation='relu'),\n",
    "    tf.keras.layers.Dense(10, activation='softmax')\n",
    "])\n",
    "model.summary()"
   ]
  },
  {
   "cell_type": "code",
   "execution_count": null,
   "id": "b44e70bd",
   "metadata": {},
   "outputs": [],
   "source": [
    "tf.keras.utils.plot_model(model)"
   ]
  },
  {
   "cell_type": "code",
   "execution_count": null,
   "id": "69a74260",
   "metadata": {
    "scrolled": true
   },
   "outputs": [],
   "source": [
    "model.layers"
   ]
  },
  {
   "cell_type": "code",
   "execution_count": null,
   "id": "4ed851f6",
   "metadata": {},
   "outputs": [],
   "source": [
    "hidden1= model.layers[1]\n",
    "hidden1.name"
   ]
  },
  {
   "cell_type": "code",
   "execution_count": null,
   "id": "ced94faa",
   "metadata": {},
   "outputs": [],
   "source": [
    "weights, biases = hidden1.get_weights()\n",
    "weights.shape, biases.shape"
   ]
  },
  {
   "cell_type": "code",
   "execution_count": null,
   "id": "89df3991",
   "metadata": {},
   "outputs": [],
   "source": [
    "# try not using Flatten\n",
    "model = tf.keras.Sequential(\n",
    "[tf.keras.Input(shape=[28,28]),\n",
    "    tf.keras.layers.Dense(300, activation='relu'),\n",
    "    tf.keras.layers.Dense(100, activation='relu'),\n",
    "    tf.keras.layers.Dense(10, activation='softmax')\n",
    "]    \n",
    ")\n",
    "model.summary()"
   ]
  },
  {
   "cell_type": "markdown",
   "id": "8295ac76",
   "metadata": {},
   "source": [
    "#### Compiling the model"
   ]
  },
  {
   "cell_type": "code",
   "execution_count": null,
   "id": "4777ab22",
   "metadata": {},
   "outputs": [],
   "source": [
    "model.compile(loss=\"sparse_categorical_crossentropy\",\n",
    "             optimizer ='sgd',\n",
    "             metrics=['accuracy'])"
   ]
  },
  {
   "cell_type": "markdown",
   "id": "3ab18021",
   "metadata": {},
   "source": [
    "This is equal to the following:"
   ]
  },
  {
   "cell_type": "code",
   "execution_count": null,
   "id": "29e88769",
   "metadata": {},
   "outputs": [],
   "source": [
    "model.compile(loss=tf.keras.losses.sparse_categorical_crossentropy,\n",
    "             metrics= tf.keras.metrics.sparse_categorical_accuracy,\n",
    "             optimizer = tf.keras.optimizers.SGD())"
   ]
  },
  {
   "cell_type": "code",
   "execution_count": null,
   "id": "4ec56254",
   "metadata": {},
   "outputs": [],
   "source": [
    "# try some incorrect parameter,\n",
    "model.compile(loss='categorical_crossentropy',\n",
    "             metrics ='accuracy',\n",
    "             optimizer='sgd')"
   ]
  },
  {
   "cell_type": "code",
   "execution_count": null,
   "id": "e0c37b14",
   "metadata": {},
   "outputs": [],
   "source": [
    "# how to convert the class id to one hot vector\n",
    "# it is necessary to give numerical_class when the number of class is greater than the maximum class id in the sample\n",
    "tf.keras.utils.to_categorical([0,5,1,0],num_classes =10)"
   ]
  },
  {
   "cell_type": "code",
   "execution_count": null,
   "id": "27a4b579",
   "metadata": {},
   "outputs": [],
   "source": [
    "# how to convert one-hot vector to class-id\n",
    "np.argmax([[1., 0., 0., 0., 0., 0., 0., 0., 0., 0.],\n",
    "       [0., 0., 0., 0., 0., 1., 0., 0., 0., 0.],\n",
    "       [0., 1., 0., 0., 0., 0., 0., 0., 0., 0.],\n",
    "       [1., 0., 0., 0., 0., 0., 0., 0., 0., 0.]],axis=1)"
   ]
  },
  {
   "cell_type": "markdown",
   "id": "72cecf3f",
   "metadata": {},
   "source": [
    "#### training and evaluating the model"
   ]
  },
  {
   "cell_type": "code",
   "execution_count": null,
   "id": "33ca669d",
   "metadata": {},
   "outputs": [],
   "source": [
    "history=model.fit(X_train,y_train, epochs=30, validation_data=(X_valid,y_valid))"
   ]
  },
  {
   "cell_type": "code",
   "execution_count": null,
   "id": "a52b575b",
   "metadata": {},
   "outputs": [],
   "source": [
    "history.params"
   ]
  },
  {
   "cell_type": "code",
   "execution_count": null,
   "id": "4d58a200",
   "metadata": {},
   "outputs": [],
   "source": [
    "print(history.epoch)"
   ]
  },
  {
   "cell_type": "code",
   "execution_count": 8,
   "id": "f095acd8",
   "metadata": {},
   "outputs": [],
   "source": [
    "import matplotlib.pyplot as plt\n",
    "import pandas as pd"
   ]
  },
  {
   "cell_type": "code",
   "execution_count": null,
   "id": "2bce7094",
   "metadata": {},
   "outputs": [],
   "source": [
    "pd.DataFrame(history.history).plot(\n",
    "figsize=(8,5),xlim=[0,29], ylim=[0,1],grid=True,\n",
    "    xlabel='Epoch',\n",
    "    style=[\"r--\", \"r--.\",\"b-\", \"b-*\"]\n",
    ")\n",
    "save_fig(\"keras_learning_curves_plot\") \n",
    "plt.show()"
   ]
  },
  {
   "cell_type": "code",
   "execution_count": null,
   "id": "cad229a8",
   "metadata": {},
   "outputs": [],
   "source": [
    "history.history.keys()"
   ]
  },
  {
   "cell_type": "code",
   "execution_count": null,
   "id": "694369b5",
   "metadata": {},
   "outputs": [],
   "source": [
    "# The validation error is computer at the end of each tpoch, while the training error is computed using a running\n",
    "# mean during each epoch\n",
    "for key, style in zip(history.history,[\"r--\", \"r--.\",\"b-\", \"b-*\"]):\n",
    "    epoch = np.array(history.epoch)  + (0 if key.startswith(\"val_\") else -0.5)\n",
    "    plt.plot(epoch, history.history[key], style, label=key)\n",
    "plt.xlabel(\"Epoch\")\n",
    "plt.axis([-0.5, 28, 0., 1])\n",
    "plt.legend(loc=\"lower left\")\n",
    "plt.grid()\n",
    "plt.show()"
   ]
  },
  {
   "cell_type": "code",
   "execution_count": null,
   "id": "bef54bb8",
   "metadata": {},
   "outputs": [],
   "source": [
    "model.evaluate(X_test,y_test)"
   ]
  },
  {
   "cell_type": "markdown",
   "id": "3c9498b7",
   "metadata": {},
   "source": [
    "#### using the model to make prediction"
   ]
  },
  {
   "cell_type": "code",
   "execution_count": null,
   "id": "effb2012",
   "metadata": {},
   "outputs": [],
   "source": [
    "X_new =X_test[:3]\n",
    "y_proba = model.predict(X_new)\n",
    "y_proba.round(2)"
   ]
  },
  {
   "cell_type": "code",
   "execution_count": null,
   "id": "25844589",
   "metadata": {},
   "outputs": [],
   "source": [
    "y_proba.argmax(axis=1),y_proba.argmax(axis=-1)"
   ]
  },
  {
   "cell_type": "code",
   "execution_count": null,
   "id": "3782e12e",
   "metadata": {},
   "outputs": [],
   "source": [
    "y_test[:3]"
   ]
  },
  {
   "cell_type": "code",
   "execution_count": null,
   "id": "0a6154d9",
   "metadata": {},
   "outputs": [],
   "source": [
    "plt.figure(figsize=(7.2, 2.4))\n",
    "for idx,image in enumerate(X_new):\n",
    "    plt.subplot(1, 3,idx+1 )\n",
    "    plt.imshow(image, cmap='binary',interpolation='nearest')\n",
    "    plt.axis('off')\n",
    "    plt.title(class_names[y_test[idx]])\n",
    "plt.subplots_adjust(wspace=0.2, hspace=0.5)    \n",
    "plt.show()\n",
    "    "
   ]
  },
  {
   "cell_type": "markdown",
   "id": "cb8e1e83",
   "metadata": {},
   "source": [
    "### Building a regression MLP "
   ]
  },
  {
   "cell_type": "code",
   "execution_count": null,
   "id": "efcc02d4",
   "metadata": {},
   "outputs": [],
   "source": [
    "from sklearn.datasets import fetch_california_housing\n",
    "from sklearn.model_selection import train_test_split"
   ]
  },
  {
   "cell_type": "code",
   "execution_count": null,
   "id": "34eeb119",
   "metadata": {},
   "outputs": [],
   "source": [
    "housing = fetch_california_housing()\n",
    "X_train_full, X_test, y_train_full, y_test = train_test_split(housing.data, housing.target, random_state=42)\n",
    "X_train, X_valid, y_train, y_valid = train_test_split(X_train_full, y_train_full, random_state=42)"
   ]
  },
  {
   "cell_type": "code",
   "execution_count": null,
   "id": "71b5ee59",
   "metadata": {},
   "outputs": [],
   "source": [
    "tf.random.set_seed(42)\n",
    "norm_layer = tf.keras.layers.Normalization(input_shape=X_train.shape[1:])\n",
    "model_reg = tf.keras.Sequential([\n",
    "    norm_layer,\n",
    "    tf.keras.layers.Dense(50, activation='relu'),\n",
    "    tf.keras.layers.Dense(50, activation='relu'),\n",
    "    tf.keras.layers.Dense(50, activation='relu'),\n",
    "    tf.keras.layers.Dense(1)\n",
    "]\n",
    ")\n",
    "norm_layer.adapt(X_train)\n",
    "optimizer= tf.keras.optimizers.Adam(learning_rate =1e-3)\n",
    "model_reg.compile(optimizer= optimizer,\n",
    "                 loss ='mse',\n",
    "                 metrics = ['RootMeanSquaredError'])\n",
    "history = model_reg.fit(X_train, y_train, epochs=20,\n",
    "                       validation_data =(X_valid, y_valid))\n",
    "mse_test,rmse_test = model_reg.evaluate(X_test, y_test)\n",
    "X_new = X_test[:3]\n",
    "y_proba = model_reg.predict(X_new)\n"
   ]
  },
  {
   "cell_type": "code",
   "execution_count": null,
   "id": "cb5cba34",
   "metadata": {},
   "outputs": [],
   "source": [
    "rmse_test"
   ]
  },
  {
   "cell_type": "code",
   "execution_count": null,
   "id": "d41d7994",
   "metadata": {},
   "outputs": [],
   "source": [
    "y_proba, y_test[:3]"
   ]
  },
  {
   "cell_type": "markdown",
   "id": "fee21a4d",
   "metadata": {},
   "source": [
    "### Building Complex Models Using the functional API\n",
    "Some Neural network may need complex topologies. some may have multiple inputs and/or multiple outputs. For example, a Wide&Deep neural network connects part or all of the inputs to the output(paper:  https://research.google/pubs/pub45413/)\n",
    "\n",
    "* tf.keras.layers.**Concatenate()** is for Sequential API and **concatenate()** is for functional API"
   ]
  },
  {
   "cell_type": "code",
   "execution_count": null,
   "id": "f08da31d",
   "metadata": {},
   "outputs": [],
   "source": [
    "# – reset the name counters and make the code reproducible\n",
    "tf.keras.backend.clear_session()\n",
    "tf.random.set_seed(42)"
   ]
  },
  {
   "cell_type": "code",
   "execution_count": null,
   "id": "081fc976",
   "metadata": {},
   "outputs": [],
   "source": [
    "normalization = tf.keras.layers.Normalization()\n",
    "hidden1 = tf.keras.layers.Dense(30, activation='relu')\n",
    "hidden2 = tf.keras.layers.Dense(30, activation='relu')\n",
    "concate = tf.keras.layers.Concatenate()\n",
    "output_layer = tf.keras.layers.Dense(1)\n",
    "\n",
    "input_ = tf.keras.layers.Input(shape= X_train.shape[1:]) #input_ is used to avoid overshadowing python's build in input\n",
    "normalized = normalization(input_)\n",
    "hidden1 = hidden1(normalized)\n",
    "hidden2 = hidden2(hidden1)\n",
    "concat = concate([normalized, hidden2])\n",
    "output = output_layer(concat)\n",
    "\n",
    "model = tf.keras.Model(inputs=[input_], outputs=[output])"
   ]
  },
  {
   "cell_type": "code",
   "execution_count": null,
   "id": "c92cbfe6",
   "metadata": {},
   "outputs": [],
   "source": [
    "model.summary()"
   ]
  },
  {
   "cell_type": "code",
   "execution_count": null,
   "id": "b2cff17f",
   "metadata": {},
   "outputs": [],
   "source": [
    "optimizer = tf.keras.optimizers.Adam(learning_rate = 1e-3)\n",
    "model.compile(optimizer=optimizer, loss ='mse', metrics=['RootMeanSquaredError'])\n",
    "normalization.adapt(X_train)\n",
    "model.fit(X_train,y_train, epochs=20, validation_data =(X_valid, y_valid))\n"
   ]
  },
  {
   "cell_type": "code",
   "execution_count": null,
   "id": "b2f08a79",
   "metadata": {},
   "outputs": [],
   "source": [
    "mse_test,rmse_test = model.evaluate(X_test, y_test)\n",
    "mse_test"
   ]
  },
  {
   "cell_type": "code",
   "execution_count": null,
   "id": "c933bd1e",
   "metadata": {},
   "outputs": [],
   "source": [
    "y_pred=model.predict(X_new)\n",
    "y_pred,y_test[:3]"
   ]
  },
  {
   "cell_type": "code",
   "execution_count": null,
   "id": "7fe6447f",
   "metadata": {},
   "outputs": [],
   "source": [
    "# examples of setting different subsets of input features through deep-wide neural network. eg, we will send 5\n",
    "# features to wide(0:4) and 6 features through deep(feature 2:7). 3 features will go through both( 2,3,4)\n",
    "X_train_wide, X_valid_wide, X_test_wide = X_train[:, :5], X_valid[:, :5], X_test[:, :5]\n",
    "X_train_deep, X_valid_deep, X_test_deep = X_train[:, 2:], X_valid[:, 2:], X_test[:, 2:]\n",
    "\n",
    "tf.keras.backend.clear_session()\n",
    "tf.random.set_seed(42)\n",
    "\n",
    "\n",
    "hidden1 = tf.keras.layers.Dense(30, activation='relu')\n",
    "hidden2 = tf.keras.layers.Dense(30, activation='relu')\n",
    "norm_layer_wide = tf.keras.layers.Normalization()\n",
    "norm_layer_deep = tf.keras.layers.Normalization()\n",
    "output_layer = tf.keras.layers.Dense(1)\n",
    "\n",
    "input_wide = tf.keras.Input(shape=X_train_wide.shape[1:])\n",
    "input_deep = tf.keras.Input(shape=[6])\n",
    "norm_wide = norm_layer_wide(input_wide)\n",
    "norm_deep = norm_layer_deep(input_deep)\n",
    "hidden1 = hidden1(norm_deep)\n",
    "hidden2 = hidden2(hidden1)\n",
    "concate = tf.keras.layers.concatenate([norm_wide, hidden2])\n",
    "output = output_layer(concate)\n",
    "\n",
    "model = tf.keras.Model(inputs=[input_wide, input_deep], outputs=[output])"
   ]
  },
  {
   "cell_type": "code",
   "execution_count": null,
   "id": "323e2b0e",
   "metadata": {},
   "outputs": [],
   "source": [
    "model.summary()"
   ]
  },
  {
   "cell_type": "code",
   "execution_count": null,
   "id": "b746f033",
   "metadata": {},
   "outputs": [],
   "source": [
    "optimizer= tf.keras.optimizers.Adam(learning_rate =1e-3)\n",
    "model.compile(optimizer=optimizer,\n",
    "              loss ='mse',\n",
    "              metrics=[\"RootMeanSquaredError\"])\n",
    "norm_layer_wide.adapt(X_train_wide)\n",
    "norm_layer_deep.adapt(X_train_deep)\n",
    "history = model.fit((X_train_wide, X_train_deep),y_train, epochs=20,\n",
    "         validation_data=((X_valid_wide, X_valid_deep),y_valid))\n"
   ]
  },
  {
   "cell_type": "code",
   "execution_count": null,
   "id": "d0d8b1e8",
   "metadata": {},
   "outputs": [],
   "source": [
    "X_wide_new, X_deep_new = X_test_wide[:3], X_test_deep[:3]\n",
    "mse_test,rmse_test = model.evaluate((X_test_wide, X_test_deep),(y_test))\n",
    "y_pred =model.predict((X_wide_new, X_deep_new))\n"
   ]
  },
  {
   "cell_type": "code",
   "execution_count": null,
   "id": "eb076902",
   "metadata": {},
   "outputs": [],
   "source": [
    "y_pred, y_test[:3]"
   ]
  },
  {
   "cell_type": "code",
   "execution_count": null,
   "id": "b7bdc0d8",
   "metadata": {},
   "outputs": [],
   "source": [
    "# Add auxiliary output\n",
    "tf.keras.backend.clear_session()\n",
    "tf.random.set_seed(42)\n",
    "\n",
    "input_wide = tf.keras.layers.Input(shape=[5])\n",
    "input_deep = tf.keras.layers.Input(shape=[6])\n",
    "norm_layer_wide = tf.keras.layers.Normalization()\n",
    "norm_layer_deep = tf.keras.layers.Normalization()\n",
    "norm_wide = norm_layer_wide(input_wide)\n",
    "norm_deep = norm_layer_deep(input_deep)\n",
    "hidden1 = tf.keras.layers.Dense(30, activation='relu')(norm_deep)\n",
    "hidden2 = tf.keras.layers.Dense(30, activation='relu')(hidden1)\n",
    "concate = tf.keras.layers.concatenate([norm_wide, hidden2])\n",
    "output_main = tf.keras.layers.Dense(1)(concate)\n",
    "output_aux = tf.keras.layers.Dense(1)(hidden2)\n",
    "model = tf.keras.Model(inputs=[input_wide, input_deep],outputs=[output_main, output_aux])\n",
    "model.summary()"
   ]
  },
  {
   "cell_type": "code",
   "execution_count": null,
   "id": "65c3e525",
   "metadata": {},
   "outputs": [],
   "source": [
    "optimizer = tf.keras.optimizers.Adam(learning_rate=1e-3)\n",
    "model.compile(loss=(\"mse\", 'mse'), loss_weights=(0.9,0.1), \n",
    "              optimizer =optimizer,\n",
    "             metrics=[\"RootMeanSquaredError\"])\n",
    "norm_layer_wide.adapt(X_train_wide)\n",
    "norm_layer_deep.adapt(X_train_deep)\n",
    "history = model.fit((X_train_wide, X_train_deep),(y_train, y_train), \n",
    "         epochs =20,\n",
    "         validation_data=((X_valid_wide, X_valid_deep), (y_valid, y_valid)))"
   ]
  },
  {
   "cell_type": "code",
   "execution_count": null,
   "id": "eb9470bd",
   "metadata": {},
   "outputs": [],
   "source": [
    "eval_results= model.evaluate((X_test_wide, X_test_deep),(y_test,y_test))\n",
    "(y_pred_main, y_pred_aux)=model.predict((X_wide_new, X_deep_new))"
   ]
  },
  {
   "cell_type": "code",
   "execution_count": null,
   "id": "6bb46dbb",
   "metadata": {},
   "outputs": [],
   "source": [
    "weighted_sum_loss,mse_main, mse_aux, rmse_main, rmse_aux=eval_results"
   ]
  },
  {
   "cell_type": "code",
   "execution_count": null,
   "id": "334536ed",
   "metadata": {},
   "outputs": [],
   "source": [
    "y_pred_tuple = model.predict((X_wide_new, X_deep_new))\n",
    "dict(zip(model.output_names,y_pred_tuple))\n"
   ]
  },
  {
   "cell_type": "markdown",
   "id": "f7ea471d",
   "metadata": {},
   "source": [
    "### Using the Subclasing API to build dynamic models"
   ]
  },
  {
   "cell_type": "code",
   "execution_count": null,
   "id": "dff8f5fc",
   "metadata": {},
   "outputs": [],
   "source": [
    "# using multiple output as mentioned above as an example\n",
    "class WideAndDeepModel(tf.keras.Model):\n",
    "    def __init__(self, units=30, activation='relu', **kwargs):\n",
    "        super().__init__(**kwargs) #needed to support naming the model\n",
    "        self.norm_layer_wide = tf.keras.layers.Normalization()\n",
    "        self.norm_layer_deep = tf.keras.layers.Normalization()\n",
    "        self.hidden1 = tf.keras.layers.Dense(units, activation=activation)\n",
    "        self.hidden2 = tf.keras.layers.Dense(units, activation=activation)\n",
    "        self.main_output = tf.keras.layers.Dense(1)\n",
    "        self.aux_output = tf.keras.layers.Dense(1)\n",
    "        \n",
    "    def call(self, inputs):\n",
    "        \"\"\"\n",
    "        inputs contain both deep and wide net needed data\n",
    "        \"\"\"\n",
    "        input_wide, input_deep =inputs\n",
    "        norm_wide = self.norm_layer_wide(input_wide)\n",
    "        norm_deep = self.norm_layer_deep(input_deep)\n",
    "        hidden1 = self.hidden1(norm_deep)\n",
    "        hidden2 = self.hidden2(hidden1)\n",
    "        concat = tf.keras.layers.concatenate([norm_wide, hidden2])\n",
    "        main_output = self.main_output(concat)\n",
    "        aux_output = self.aux_output(hidden2)\n",
    "        return main_output, aux_output"
   ]
  },
  {
   "cell_type": "code",
   "execution_count": null,
   "id": "02fce701",
   "metadata": {},
   "outputs": [],
   "source": [
    "model = WideAndDeepModel(units=30, activation='relu', name='my_wd_model')"
   ]
  },
  {
   "cell_type": "code",
   "execution_count": null,
   "id": "c1564955",
   "metadata": {},
   "outputs": [],
   "source": [
    "model.norm_layer_wide.adapt(X_train_wide)\n",
    "model.norm_layer_deep.adapt(X_train_deep)\n",
    "optimizer = tf.keras.optimizers.Adam(learning_rate=1e-3)\n",
    "model.compile(loss=('mse', 'mse'), loss_weights=(0.9, 0.1),\n",
    "             optimizer = optimizer,\n",
    "             metrics=['RootMeanSquaredError'])\n",
    "history = model.fit((X_train_wide, X_train_deep), (y_train, y_train),\n",
    "         epochs =20,\n",
    "         validation_data = ((X_valid_wide, X_valid_deep), (y_valid, y_valid)))\n",
    "weighted_sum_of_losses, main_loss, aux_loss, main_rmse, aux_rmse = model.evaluate((X_test_wide, X_test_deep),(y_test, y_test))\n",
    "y_pred_main, y_pred_aux = model.predict((X_wide_new, X_deep_new))\n",
    "\n"
   ]
  },
  {
   "cell_type": "code",
   "execution_count": null,
   "id": "34687852",
   "metadata": {},
   "outputs": [],
   "source": [
    "weighted_sum_of_losses, main_loss, aux_loss, main_rmse, aux_rmse "
   ]
  },
  {
   "cell_type": "code",
   "execution_count": null,
   "id": "66c75fbb",
   "metadata": {},
   "outputs": [],
   "source": [
    "y_pred_main, y_pred_aux"
   ]
  },
  {
   "cell_type": "markdown",
   "id": "a12e8f2a",
   "metadata": {},
   "source": [
    "### Saving and restoring the model"
   ]
  },
  {
   "cell_type": "code",
   "execution_count": 7,
   "id": "58cc3804",
   "metadata": {},
   "outputs": [],
   "source": [
    "import shutil\n",
    "from pathlib import Path"
   ]
  },
  {
   "cell_type": "code",
   "execution_count": null,
   "id": "03ccfb4c",
   "metadata": {},
   "outputs": [],
   "source": [
    "shutil.rmtree('my_keras_model', ignore_errors=True)"
   ]
  },
  {
   "cell_type": "code",
   "execution_count": null,
   "id": "a8c99191",
   "metadata": {},
   "outputs": [],
   "source": [
    "model.save(\"my_keras_model\", save_format=\"tf\")"
   ]
  },
  {
   "cell_type": "code",
   "execution_count": null,
   "id": "7965e12d",
   "metadata": {},
   "outputs": [],
   "source": []
  },
  {
   "cell_type": "code",
   "execution_count": null,
   "id": "264809be",
   "metadata": {},
   "outputs": [],
   "source": [
    "# show the content of my_keras_model\n",
    "for path in sorted(Path('my_keras_model').glob(\"**/*\")):\n",
    "    print(path)"
   ]
  },
  {
   "cell_type": "code",
   "execution_count": null,
   "id": "4126b70f",
   "metadata": {},
   "outputs": [],
   "source": [
    "model = tf.keras.models.load_model(\"my_keras_model\")\n",
    "y_pred_main, y_aux_main = model.predict((X_wide_new, X_deep_new))\n",
    "y_pred_main, y_aux_main"
   ]
  },
  {
   "cell_type": "code",
   "execution_count": null,
   "id": "48ade574",
   "metadata": {},
   "outputs": [],
   "source": [
    "model.save_weights(\"my_weights\")"
   ]
  },
  {
   "cell_type": "code",
   "execution_count": null,
   "id": "467573bb",
   "metadata": {},
   "outputs": [],
   "source": [
    "model.load_weights(\"my_weights\")"
   ]
  },
  {
   "cell_type": "code",
   "execution_count": null,
   "id": "304049a8",
   "metadata": {},
   "outputs": [],
   "source": [
    "for path in sorted(Path().glob(\"my_weights.*\")):\n",
    "    print(path)"
   ]
  },
  {
   "cell_type": "markdown",
   "id": "4edaf1f1",
   "metadata": {},
   "source": [
    "### Callbacks\n",
    "Saving checkpoints regularly in case the computer crashes during the big project"
   ]
  },
  {
   "cell_type": "code",
   "execution_count": null,
   "id": "477279dc",
   "metadata": {},
   "outputs": [],
   "source": [
    "checkpoint_cb = tf.keras.callbacks.ModelCheckpoint('my_checkpoints', save_weights_only= True)\n",
    "history = model.fit((X_train_wide, X_train_deep),(y_train, y_train),epochs=10,\n",
    "                   validation_data =((X_valid_wide, X_valid_deep), (y_valid, y_valid)),\n",
    "                   callbacks=[checkpoint_cb])"
   ]
  },
  {
   "cell_type": "code",
   "execution_count": null,
   "id": "35784a49",
   "metadata": {},
   "outputs": [],
   "source": [
    "# Early stopping will interrupt training when it measures no progress on the validation set for a number of epochs\n",
    "# (defined by the patience argument)\n",
    "early_stopping_cb = tf.keras.callbacks.EarlyStopping(patience=10,\n",
    "                                                    restore_best_weights=True)\n",
    "history = model.fit((X_train_wide, X_train_deep),(y_train, y_train),epochs=100,\n",
    "                   validation_data =((X_valid_wide, X_valid_deep), (y_valid, y_valid)),\n",
    "                   callbacks=[checkpoint_cb, early_stopping_cb])"
   ]
  },
  {
   "cell_type": "code",
   "execution_count": null,
   "id": "dcfde312",
   "metadata": {},
   "outputs": [],
   "source": [
    "class PrintValTrainRatioCallback(tf.keras.callbacks.Callback):\n",
    "    def on_epoch_end(self, epoch, logs):\n",
    "        ratio =logs['val_loss']/logs['loss']\n",
    "        print(f\"Epoch={epoch}, val/train={ratio:.2f}\")"
   ]
  },
  {
   "cell_type": "code",
   "execution_count": null,
   "id": "eded23ab",
   "metadata": {},
   "outputs": [],
   "source": [
    "val_train_ratio_cb = PrintValTrainRatioCallback()\n",
    "history = model.fit((X_train_wide, X_train_deep),(y_train, y_train),epochs=100,\n",
    "                   validation_data =((X_valid_wide, X_valid_deep), (y_valid, y_valid)),\n",
    "                       callbacks=[val_train_ratio_cb,early_stopping_cb], verbose=0)"
   ]
  },
  {
   "cell_type": "markdown",
   "id": "e8a57c06",
   "metadata": {},
   "source": [
    "### TensorBoard for Visualization"
   ]
  },
  {
   "cell_type": "code",
   "execution_count": 23,
   "id": "4ce2518d",
   "metadata": {},
   "outputs": [],
   "source": [
    "shutil.rmtree('my_logs',ignore_errors=True)"
   ]
  },
  {
   "cell_type": "code",
   "execution_count": 118,
   "id": "dc6aba1b",
   "metadata": {},
   "outputs": [],
   "source": [
    "from time import strftime"
   ]
  },
  {
   "cell_type": "code",
   "execution_count": 119,
   "id": "78c027b9",
   "metadata": {},
   "outputs": [],
   "source": [
    "def get_run_logdir(root_logdir='my_logs'):\n",
    "    return Path(root_logdir)/strftime('run_%Y_%m_%d_%H_%M_%S')"
   ]
  },
  {
   "cell_type": "code",
   "execution_count": 120,
   "id": "8e97a1f5",
   "metadata": {},
   "outputs": [],
   "source": [
    "run_logdir = get_run_logdir() #e.g.'my_logs/run_2023_01_10_14_35_11'"
   ]
  },
  {
   "cell_type": "code",
   "execution_count": 121,
   "id": "6a0a4e08",
   "metadata": {},
   "outputs": [
    {
     "data": {
      "text/plain": [
       "WindowsPath('my_logs/run_2023_01_12_10_38_03')"
      ]
     },
     "execution_count": 121,
     "metadata": {},
     "output_type": "execute_result"
    }
   ],
   "source": [
    "run_logdir\n"
   ]
  },
  {
   "cell_type": "code",
   "execution_count": 29,
   "id": "4c29209d",
   "metadata": {},
   "outputs": [],
   "source": [
    "# build the simple regression model for test\n",
    "tf.keras.backend.clear_session()\n",
    "tf.random.set_seed(42)\n",
    "\n",
    "norm_layer = tf.keras.layers.Normalization(input_shape=X_train.shape[1:])\n",
    "model = tf.keras.Sequential([\n",
    "    norm_layer,\n",
    "    tf.keras.layers.Dense(30, activation='relu'),\n",
    "    tf.keras.layers.Dense(30, activation='relu'),\n",
    "    tf.keras.layers.Dense(1)\n",
    "])\n",
    "\n",
    "optimizer = tf.keras.optimizers.Adam(learning_rate = 1e-3)\n",
    "norm_layer.adapt(X_train)\n",
    "model.compile(loss='mse', optimizer =optimizer, metrics=['RootMeanSquaredError'])"
   ]
  },
  {
   "cell_type": "code",
   "execution_count": 30,
   "id": "00582fa0",
   "metadata": {},
   "outputs": [
    {
     "name": "stdout",
     "output_type": "stream",
     "text": [
      "Epoch 1/20\n",
      "363/363 [==============================] - 3s 2ms/step - loss: 0.9632 - root_mean_squared_error: 0.9814 - val_loss: 3.4757 - val_root_mean_squared_error: 1.8643\n",
      "Epoch 2/20\n",
      "363/363 [==============================] - 0s 1ms/step - loss: 0.4555 - root_mean_squared_error: 0.6749 - val_loss: 1.7186 - val_root_mean_squared_error: 1.3110\n",
      "Epoch 3/20\n",
      "363/363 [==============================] - 0s 1ms/step - loss: 0.3932 - root_mean_squared_error: 0.6271 - val_loss: 0.7386 - val_root_mean_squared_error: 0.8594\n",
      "Epoch 4/20\n",
      "363/363 [==============================] - 0s 1ms/step - loss: 0.3695 - root_mean_squared_error: 0.6079 - val_loss: 0.4141 - val_root_mean_squared_error: 0.6435\n",
      "Epoch 5/20\n",
      "363/363 [==============================] - 0s 1ms/step - loss: 0.3600 - root_mean_squared_error: 0.6000 - val_loss: 0.3410 - val_root_mean_squared_error: 0.5840\n",
      "Epoch 6/20\n",
      "363/363 [==============================] - 0s 1ms/step - loss: 0.3473 - root_mean_squared_error: 0.5893 - val_loss: 0.5858 - val_root_mean_squared_error: 0.7654\n",
      "Epoch 7/20\n",
      "363/363 [==============================] - 0s 1ms/step - loss: 0.3438 - root_mean_squared_error: 0.5863 - val_loss: 0.3449 - val_root_mean_squared_error: 0.5873\n",
      "Epoch 8/20\n",
      "363/363 [==============================] - 0s 1ms/step - loss: 0.3337 - root_mean_squared_error: 0.5777 - val_loss: 0.3180 - val_root_mean_squared_error: 0.5639\n",
      "Epoch 9/20\n",
      "363/363 [==============================] - 0s 1ms/step - loss: 0.3286 - root_mean_squared_error: 0.5733 - val_loss: 0.3232 - val_root_mean_squared_error: 0.5685\n",
      "Epoch 10/20\n",
      "363/363 [==============================] - 0s 1ms/step - loss: 0.3241 - root_mean_squared_error: 0.5693 - val_loss: 0.5452 - val_root_mean_squared_error: 0.7384\n",
      "Epoch 11/20\n",
      "363/363 [==============================] - 0s 1ms/step - loss: 0.3195 - root_mean_squared_error: 0.5653 - val_loss: 0.5864 - val_root_mean_squared_error: 0.7658\n",
      "Epoch 12/20\n",
      "363/363 [==============================] - 0s 1ms/step - loss: 0.3257 - root_mean_squared_error: 0.5707 - val_loss: 0.3584 - val_root_mean_squared_error: 0.5986\n",
      "Epoch 13/20\n",
      "363/363 [==============================] - 0s 1ms/step - loss: 0.3114 - root_mean_squared_error: 0.5581 - val_loss: 0.3115 - val_root_mean_squared_error: 0.5582\n",
      "Epoch 14/20\n",
      "363/363 [==============================] - 0s 1ms/step - loss: 0.3092 - root_mean_squared_error: 0.5560 - val_loss: 0.3372 - val_root_mean_squared_error: 0.5807\n",
      "Epoch 15/20\n",
      "363/363 [==============================] - 0s 1ms/step - loss: 0.3060 - root_mean_squared_error: 0.5532 - val_loss: 0.2919 - val_root_mean_squared_error: 0.5403\n",
      "Epoch 16/20\n",
      "363/363 [==============================] - 0s 1ms/step - loss: 0.3040 - root_mean_squared_error: 0.5513 - val_loss: 0.3592 - val_root_mean_squared_error: 0.5993\n",
      "Epoch 17/20\n",
      "363/363 [==============================] - 0s 1ms/step - loss: 0.3018 - root_mean_squared_error: 0.5494 - val_loss: 0.3894 - val_root_mean_squared_error: 0.6240\n",
      "Epoch 18/20\n",
      "363/363 [==============================] - 0s 1ms/step - loss: 0.2993 - root_mean_squared_error: 0.5471 - val_loss: 0.3050 - val_root_mean_squared_error: 0.5523\n",
      "Epoch 19/20\n",
      "363/363 [==============================] - 0s 1ms/step - loss: 0.2959 - root_mean_squared_error: 0.5439 - val_loss: 0.3342 - val_root_mean_squared_error: 0.5781\n",
      "Epoch 20/20\n",
      "363/363 [==============================] - 0s 1ms/step - loss: 0.2995 - root_mean_squared_error: 0.5472 - val_loss: 0.4290 - val_root_mean_squared_error: 0.6550\n"
     ]
    }
   ],
   "source": [
    "tensorboard_cb = tf.keras.callbacks.TensorBoard(run_logdir, profile_batch=(100, 200))\n",
    "history = model.fit(X_train, y_train, epochs=20,\n",
    "                   validation_data =( X_valid, y_valid),\n",
    "                   callbacks=[tensorboard_cb])"
   ]
  },
  {
   "cell_type": "code",
   "execution_count": 37,
   "id": "26ab378d",
   "metadata": {},
   "outputs": [
    {
     "name": "stdout",
     "output_type": "stream",
     "text": [
      "my_logs\n",
      " run_2023_01_10_14_35_11\n",
      "  events.out.tfevents.1673380175.NINGSUN.profile-empty\n",
      "  plugins\n",
      "   profile\n",
      "    2023_01_10_19_49_35\n",
      "     NINGSUN.xplane.pb\n",
      "  train\n",
      "   events.out.tfevents.1673380173.NINGSUN.31192.0.v2\n",
      "  validation\n",
      "   events.out.tfevents.1673380175.NINGSUN.31192.1.v2\n"
     ]
    }
   ],
   "source": [
    "print(\"my_logs\")\n",
    "for path in sorted(Path(\"my_logs\").glob(\"**/*\")):\n",
    "    print(\" \"* (len(path.parts)-1) +path.parts[-1])"
   ]
  },
  {
   "cell_type": "code",
   "execution_count": 64,
   "id": "3b86d15d",
   "metadata": {},
   "outputs": [],
   "source": [
    "%reload_ext tensorboard"
   ]
  },
  {
   "cell_type": "code",
   "execution_count": 67,
   "id": "cc1e316c",
   "metadata": {},
   "outputs": [
    {
     "data": {
      "text/html": [
       "\n",
       "      <iframe id=\"tensorboard-frame-2fabee383163e55d\" width=\"100%\" height=\"800\" frameborder=\"0\">\n",
       "      </iframe>\n",
       "      <script>\n",
       "        (function() {\n",
       "          const frame = document.getElementById(\"tensorboard-frame-2fabee383163e55d\");\n",
       "          const url = new URL(\"/\", window.location);\n",
       "          const port = 6006;\n",
       "          if (port) {\n",
       "            url.port = port;\n",
       "          }\n",
       "          frame.src = url;\n",
       "        })();\n",
       "      </script>\n",
       "    "
      ],
      "text/plain": [
       "<IPython.core.display.HTML object>"
      ]
     },
     "metadata": {},
     "output_type": "display_data"
    }
   ],
   "source": [
    "%tensorboard --logdir=./my_logs --host localhost"
   ]
  },
  {
   "cell_type": "code",
   "execution_count": 66,
   "id": "0bc91d83",
   "metadata": {},
   "outputs": [
    {
     "data": {
      "text/html": [
       "<a href='http://localhost:6006/'>http://localhost:6006/</a>"
      ],
      "text/plain": [
       "<IPython.core.display.HTML object>"
      ]
     },
     "metadata": {},
     "output_type": "display_data"
    }
   ],
   "source": [
    "if \"google.colab\" in sys.modules:\n",
    "    from google.colab import output\n",
    "    output.serve_kernel_port_as_windows(6006)\n",
    "else:\n",
    "    from IPython.display import display, HTML\n",
    "    display(HTML(\"<a href='http://localhost:6006/'>http://localhost:6006/</a>\"))"
   ]
  },
  {
   "cell_type": "code",
   "execution_count": 50,
   "id": "ef40193e",
   "metadata": {},
   "outputs": [],
   "source": [
    "# example of visulizing scalar, histogram, images and audios and we could check the results in TensorBoard\n",
    "test_logdir = get_run_logdir()\n",
    "writer = tf.summary.create_file_writer(str(test_logdir))\n",
    "with writer.as_default():\n",
    "    for step in range(1, 1000 +1):\n",
    "        tf.summary.scalar(\"my_scalar\", np.sin(step/10), step=step)\n",
    "        \n",
    "        data = (np.random.randn(100)+2) * step /100\n",
    "        tf.summary.histogram(\"my_hist\", data, buckets=50, step=step)\n",
    "        \n",
    "        images= np.random.rand(2,32,32,3) *step /1000 #get brighter\n",
    "        tf.summary.image(\"my_images\", images, step= step)\n",
    "        \n",
    "        texts = ['The step is ' +str(step), \" Its square is \" + str(step**2)]\n",
    "        tf.summary.text(\"my_text\", texts, step=step)\n",
    "        \n",
    "        sine_wave = tf.math.sin(tf.range(12000)/48000 *2 *np.pi*step)\n",
    "        audio = tf.reshape(tf.cast(sine_wave, tf.float32), [1, -1,1])\n",
    "        tf.summary.audio(\"my_audio\", audio, step= step, sample_rate=48000)"
   ]
  },
  {
   "cell_type": "code",
   "execution_count": 52,
   "id": "83a82fb8",
   "metadata": {},
   "outputs": [
    {
     "name": "stderr",
     "output_type": "stream",
     "text": [
      "\n",
      "***** TensorBoard Uploader *****\n",
      "\n",
      "This will upload your TensorBoard logs to https://tensorboard.dev/ from\n",
      "the following directory:\n",
      "\n",
      "./my_logs\n",
      "\n",
      "This TensorBoard will be visible to everyone. Do not upload sensitive\n",
      "data.\n",
      "\n",
      "Your use of this service is subject to Google's Terms of Service\n",
      "<https://policies.google.com/terms> and Privacy Policy\n",
      "<https://policies.google.com/privacy>, and TensorBoard.dev's Terms of Service\n",
      "<https://tensorboard.dev/policy/terms/>.\n",
      "\n",
      "This notice will not be shown again while you are logged into the uploader.\n",
      "To log out, run `tensorboard dev auth revoke`.\n",
      "\n"
     ]
    },
    {
     "name": "stdout",
     "output_type": "stream",
     "text": [
      "--(['C:\\\\Users\\\\mrnin\\\\AppData\\\\Local\\\\Programs\\\\Python\\\\Python39\\\\lib\\\\site-packages\\\\ipykernel_launcher.py', '-f', 'C:\\\\Users\\\\mrnin\\\\AppData\\\\Roaming\\\\jupyter\\\\runtime\\\\kernel-e5d12e0b-d253-4d20-93de-559a1d3d620e.json'], <built-in function exit>)\n",
      "Continue? (yes/NO) yes\n"
     ]
    },
    {
     "name": "stderr",
     "output_type": "stream",
     "text": [
      "\n"
     ]
    },
    {
     "name": "stdout",
     "output_type": "stream",
     "text": [
      "Please visit this URL to authorize this application: https://accounts.google.com/o/oauth2/auth?response_type=code&client_id=373649185512-8v619h5kft38l4456nm2dj4ubeqsrvh6.apps.googleusercontent.com&redirect_uri=urn%3Aietf%3Awg%3Aoauth%3A2.0%3Aoob&scope=openid+https%3A%2F%2Fwww.googleapis.com%2Fauth%2Fuserinfo.email&state=THlZUpUSBUBOXknDuGVaykAYvBNWtF&prompt=consent&access_type=offline\n",
      "Enter the authorization code: 4/1AWgavdehehPHGF2FoMHnhk8MnWKvo-4I3QuicVm8Bv3V880pjLKbTe2uh2U\n"
     ]
    },
    {
     "name": "stderr",
     "output_type": "stream",
     "text": [
      "\n"
     ]
    },
    {
     "name": "stdout",
     "output_type": "stream",
     "text": [
      "\n",
      "New experiment created. View your TensorBoard at: https://tensorboard.dev/experiment/XqeYcBMbS9KvSLsoNObGUg/\n",
      "\n",
      "\u001b[1m[2023-01-10T16:08:27]\u001b[0m Started scanning logdir.\n",
      "\u001b[1m[2023-01-10T16:08:33]\u001b[0m Total uploaded: 3120 scalars, 3000 tensors (2.4 MB), 1 binary objects (46.1 kB)\n",
      "\u001b[1m[2023-01-10T16:08:33]\u001b[0m Done scanning logdir.\n",
      "\n",
      "\n",
      "Done. View your TensorBoard at https://tensorboard.dev/experiment/XqeYcBMbS9KvSLsoNObGUg/\n"
     ]
    }
   ],
   "source": [
    "# share the TensorBoard log with the world by upload to  https://tensorboard.dev/\n",
    "if 'google.colab' in sys.modules:\n",
    "    !tensorboard dev upload --logdir ./my_logs --oneshot \\\n",
    "    --name \"Quick Test\" --description \"This is a test\"\n",
    "else:\n",
    "    from tensorboard.main import run_main\n",
    "    \n",
    "    argv = \"tensorboard dev upload --logdir ./my_logs --one_shot\".split()\n",
    "    argv += [\"--name\", \"Quick Test\", \"--description\", \"This is a test\"]\n",
    "    \n",
    "    try:\n",
    "        original_sys_argv_and_sys_exit = sys.argv, sys.exit\n",
    "        print(f\"--{original_sys_argv_and_sys_exit}\")\n",
    "        sys.argv, sys.exit = argv, lambda status: None\n",
    "        run_main()\n",
    "        \n",
    "    finally:\n",
    "        sys.argv, sys.exit =original_sys_argv_and_sys_exit\n",
    "        \n"
   ]
  },
  {
   "cell_type": "code",
   "execution_count": 53,
   "id": "5df8e846",
   "metadata": {},
   "outputs": [
    {
     "name": "stdout",
     "output_type": "stream",
     "text": [
      "https://tensorboard.dev/experiment/XqeYcBMbS9KvSLsoNObGUg/"
     ]
    },
    {
     "name": "stderr",
     "output_type": "stream",
     "text": [
      "Total: 1 experiment(s)\n"
     ]
    },
    {
     "name": "stdout",
     "output_type": "stream",
     "text": [
      "\n",
      "\tName                 Quick Test\n",
      "\tDescription          This is a test\n",
      "\tId                   XqeYcBMbS9KvSLsoNObGUg\n",
      "\tCreated              2023-01-10 16:08:25 (3 minutes ago)\n",
      "\tUpdated              2023-01-10 16:08:31 (3 minutes ago)\n",
      "\tRuns                 5\n",
      "\tTags                 8\n",
      "\tScalars              3120\n",
      "\tTensor bytes         2717436\n",
      "\tBinary object bytes  47364\n"
     ]
    }
   ],
   "source": [
    "# list the published experiments\n",
    "!tensorboard dev list"
   ]
  },
  {
   "cell_type": "code",
   "execution_count": 54,
   "id": "7926e5d7",
   "metadata": {},
   "outputs": [
    {
     "name": "stdout",
     "output_type": "stream",
     "text": [
      "Deleted experiment XqeYcBMbS9KvSLsoNObGUg.\n"
     ]
    }
   ],
   "source": [
    "# delete an experiment\n",
    "!tensorboard dev delete --experiment_id XqeYcBMbS9KvSLsoNObGUg"
   ]
  },
  {
   "cell_type": "code",
   "execution_count": 55,
   "id": "bf06630c",
   "metadata": {},
   "outputs": [],
   "source": [
    "# List all tensorboard instances\n",
    "from tensorboard import notebook"
   ]
  },
  {
   "cell_type": "code",
   "execution_count": 57,
   "id": "6993000d",
   "metadata": {},
   "outputs": [
    {
     "name": "stdout",
     "output_type": "stream",
     "text": [
      "Known TensorBoard instances:\n",
      "  - port 6006: logdir ./my_logs (started 1:03:26 ago; pid 32640)\n"
     ]
    }
   ],
   "source": [
    "notebook.list()"
   ]
  },
  {
   "cell_type": "code",
   "execution_count": 59,
   "id": "2ac10d5f",
   "metadata": {},
   "outputs": [
    {
     "name": "stdout",
     "output_type": "stream",
     "text": [
      "SUCCESS: The process with PID 32640 has been terminated.\n"
     ]
    }
   ],
   "source": [
    "!taskkill /F /PID 32640"
   ]
  },
  {
   "cell_type": "markdown",
   "id": "58efbe49",
   "metadata": {},
   "source": [
    "## Fine-Tuning Neural Network Hyperparameters"
   ]
  },
  {
   "cell_type": "code",
   "execution_count": 8,
   "id": "a6a55f0c",
   "metadata": {},
   "outputs": [],
   "source": [
    "import keras_tuner as kt"
   ]
  },
  {
   "cell_type": "code",
   "execution_count": 9,
   "id": "97e42d20",
   "metadata": {},
   "outputs": [],
   "source": [
    "fashion_mnist = tf.keras.datasets.fashion_mnist.load_data()"
   ]
  },
  {
   "cell_type": "code",
   "execution_count": 10,
   "id": "e66d6906",
   "metadata": {},
   "outputs": [],
   "source": [
    "(X_train_full,y_train_full),(X_test, y_test) = fashion_mnist\n",
    "X_train,X_valid = X_train_full[:-5000], X_train_full[-5000:]\n",
    "y_train,y_valid = y_train_full[:-5000], y_train_full[-5000:]"
   ]
  },
  {
   "cell_type": "code",
   "execution_count": 11,
   "id": "cdce24e2",
   "metadata": {},
   "outputs": [
    {
     "name": "stdout",
     "output_type": "stream",
     "text": [
      "(55000, 28, 28) (5000, 28, 28)\n"
     ]
    },
    {
     "data": {
      "text/plain": [
       "((55000,), (5000,))"
      ]
     },
     "execution_count": 11,
     "metadata": {},
     "output_type": "execute_result"
    }
   ],
   "source": [
    "print(X_train.shape, X_valid.shape)\n",
    "y_train.shape, y_valid.shape"
   ]
  },
  {
   "cell_type": "code",
   "execution_count": 12,
   "id": "9deffcd9",
   "metadata": {},
   "outputs": [],
   "source": [
    "def build_model(hp):\n",
    "    n_hidden = hp.Int(\"n_hidden\", min_value=0, max_value=8, default =2)\n",
    "    n_neurons = hp.Int(\"n_neurons\", min_value=16, max_value=256)\n",
    "    learning_rate = hp.Float(\"learning_rate\", min_value =1e-4,\n",
    "                            max_value=1e-2, sampling='log')\n",
    "    optimizer = hp.Choice('optimizer', values=['sgd','adam'])\n",
    "    if optimizer == 'sgd':\n",
    "        optimizer  = tf.keras.optimizers.SGD(learning_rate=learning_rate)\n",
    "    else:\n",
    "        optimizer = tf.keras.optimizers.Adam(learning_rate=learning_rate)\n",
    "        \n",
    "    model = tf.keras.Sequential()\n",
    "    model.add(tf.keras.layers.Flatten())\n",
    "    for _ in range(n_hidden):\n",
    "        model.add(tf.keras.layers.Dense(n_neurons, activation='relu'))\n",
    "    model.add(tf.keras.layers.Dense(10, activation='softmax'))\n",
    "    model.compile(loss='sparse_categorical_crossentropy',\n",
    "                 optimizer=optimizer,\n",
    "                 metrics=['accuracy'])\n",
    "    return model"
   ]
  },
  {
   "cell_type": "code",
   "execution_count": 13,
   "id": "33506610",
   "metadata": {},
   "outputs": [
    {
     "name": "stdout",
     "output_type": "stream",
     "text": [
      "Trial 5 Complete [00h 00m 24s]\n",
      "val_accuracy: 0.8723999857902527\n",
      "\n",
      "Best val_accuracy So Far: 0.8723999857902527\n",
      "Total elapsed time: 00h 01m 43s\n",
      "INFO:tensorflow:Oracle triggered exit\n"
     ]
    }
   ],
   "source": [
    "random_search_tuner = kt.RandomSearch(\n",
    "    build_model, objective=\"val_accuracy\", max_trials=5, overwrite=True,\n",
    "    directory='my_fashion_mnist', project_name='my_rnd_search', seed=42\n",
    ")\n",
    "random_search_tuner.search(X_train, y_train, epochs=10, \n",
    "                          validation_data =(X_valid, y_valid))"
   ]
  },
  {
   "cell_type": "code",
   "execution_count": 23,
   "id": "c2edecd6",
   "metadata": {},
   "outputs": [
    {
     "name": "stdout",
     "output_type": "stream",
     "text": [
      "WARNING:tensorflow:Detecting that an object or model or tf.train.Checkpoint is being deleted with unrestored values. See the following logs for the specific values in question. To silence these warnings, use `status.expect_partial()`. See https://www.tensorflow.org/api_docs/python/tf/train/Checkpoint#restorefor details about the status object returned by the restore function.\n",
      "WARNING:tensorflow:Value in checkpoint could not be found in the restored object: (root).layer_with_weights-0.kernel\n",
      "WARNING:tensorflow:Value in checkpoint could not be found in the restored object: (root).layer_with_weights-0.bias\n",
      "WARNING:tensorflow:Value in checkpoint could not be found in the restored object: (root).layer_with_weights-1.kernel\n",
      "WARNING:tensorflow:Value in checkpoint could not be found in the restored object: (root).layer_with_weights-1.bias\n",
      "WARNING:tensorflow:Value in checkpoint could not be found in the restored object: (root).layer_with_weights-2.kernel\n",
      "WARNING:tensorflow:Value in checkpoint could not be found in the restored object: (root).layer_with_weights-2.bias\n",
      "WARNING:tensorflow:Value in checkpoint could not be found in the restored object: (root).layer_with_weights-3.kernel\n",
      "WARNING:tensorflow:Value in checkpoint could not be found in the restored object: (root).layer_with_weights-3.bias\n",
      "WARNING:tensorflow:Value in checkpoint could not be found in the restored object: (root).layer_with_weights-4.kernel\n",
      "WARNING:tensorflow:Value in checkpoint could not be found in the restored object: (root).layer_with_weights-4.bias\n",
      "WARNING:tensorflow:Value in checkpoint could not be found in the restored object: (root).layer_with_weights-5.kernel\n",
      "WARNING:tensorflow:Value in checkpoint could not be found in the restored object: (root).layer_with_weights-5.bias\n",
      "WARNING:tensorflow:Value in checkpoint could not be found in the restored object: (root).optimizer._variables.1\n",
      "WARNING:tensorflow:Value in checkpoint could not be found in the restored object: (root).optimizer._variables.2\n",
      "WARNING:tensorflow:Value in checkpoint could not be found in the restored object: (root).optimizer._variables.3\n",
      "WARNING:tensorflow:Value in checkpoint could not be found in the restored object: (root).optimizer._variables.4\n",
      "WARNING:tensorflow:Value in checkpoint could not be found in the restored object: (root).optimizer._variables.5\n",
      "WARNING:tensorflow:Value in checkpoint could not be found in the restored object: (root).optimizer._variables.6\n",
      "WARNING:tensorflow:Value in checkpoint could not be found in the restored object: (root).optimizer._variables.7\n",
      "WARNING:tensorflow:Value in checkpoint could not be found in the restored object: (root).optimizer._variables.8\n",
      "WARNING:tensorflow:Value in checkpoint could not be found in the restored object: (root).optimizer._variables.9\n",
      "WARNING:tensorflow:Value in checkpoint could not be found in the restored object: (root).optimizer._variables.10\n",
      "WARNING:tensorflow:Value in checkpoint could not be found in the restored object: (root).optimizer._variables.11\n",
      "WARNING:tensorflow:Value in checkpoint could not be found in the restored object: (root).optimizer._variables.12\n",
      "WARNING:tensorflow:Value in checkpoint could not be found in the restored object: (root).optimizer._variables.13\n",
      "WARNING:tensorflow:Value in checkpoint could not be found in the restored object: (root).optimizer._variables.14\n",
      "WARNING:tensorflow:Value in checkpoint could not be found in the restored object: (root).optimizer._variables.15\n",
      "WARNING:tensorflow:Value in checkpoint could not be found in the restored object: (root).optimizer._variables.16\n",
      "WARNING:tensorflow:Value in checkpoint could not be found in the restored object: (root).optimizer._variables.17\n",
      "WARNING:tensorflow:Value in checkpoint could not be found in the restored object: (root).optimizer._variables.18\n",
      "WARNING:tensorflow:Value in checkpoint could not be found in the restored object: (root).optimizer._variables.19\n",
      "WARNING:tensorflow:Value in checkpoint could not be found in the restored object: (root).optimizer._variables.20\n",
      "WARNING:tensorflow:Value in checkpoint could not be found in the restored object: (root).optimizer._variables.21\n",
      "WARNING:tensorflow:Value in checkpoint could not be found in the restored object: (root).optimizer._variables.22\n",
      "WARNING:tensorflow:Value in checkpoint could not be found in the restored object: (root).optimizer._variables.23\n",
      "WARNING:tensorflow:Value in checkpoint could not be found in the restored object: (root).optimizer._variables.24\n",
      "WARNING:tensorflow:Detecting that an object or model or tf.train.Checkpoint is being deleted with unrestored values. See the following logs for the specific values in question. To silence these warnings, use `status.expect_partial()`. See https://www.tensorflow.org/api_docs/python/tf/train/Checkpoint#restorefor details about the status object returned by the restore function.\n",
      "WARNING:tensorflow:Value in checkpoint could not be found in the restored object: (root).layer_with_weights-0.kernel\n",
      "WARNING:tensorflow:Value in checkpoint could not be found in the restored object: (root).layer_with_weights-0.bias\n",
      "WARNING:tensorflow:Value in checkpoint could not be found in the restored object: (root).layer_with_weights-1.kernel\n",
      "WARNING:tensorflow:Value in checkpoint could not be found in the restored object: (root).layer_with_weights-1.bias\n",
      "WARNING:tensorflow:Value in checkpoint could not be found in the restored object: (root).layer_with_weights-2.kernel\n",
      "WARNING:tensorflow:Value in checkpoint could not be found in the restored object: (root).layer_with_weights-2.bias\n",
      "WARNING:tensorflow:Value in checkpoint could not be found in the restored object: (root).layer_with_weights-3.kernel\n",
      "WARNING:tensorflow:Value in checkpoint could not be found in the restored object: (root).layer_with_weights-3.bias\n",
      "WARNING:tensorflow:Value in checkpoint could not be found in the restored object: (root).layer_with_weights-4.kernel\n",
      "WARNING:tensorflow:Value in checkpoint could not be found in the restored object: (root).layer_with_weights-4.bias\n",
      "WARNING:tensorflow:Value in checkpoint could not be found in the restored object: (root).layer_with_weights-5.kernel\n",
      "WARNING:tensorflow:Value in checkpoint could not be found in the restored object: (root).layer_with_weights-5.bias\n",
      "WARNING:tensorflow:Value in checkpoint could not be found in the restored object: (root).layer_with_weights-6.kernel\n",
      "WARNING:tensorflow:Value in checkpoint could not be found in the restored object: (root).layer_with_weights-6.bias\n",
      "WARNING:tensorflow:Value in checkpoint could not be found in the restored object: (root).layer_with_weights-7.kernel\n",
      "WARNING:tensorflow:Value in checkpoint could not be found in the restored object: (root).layer_with_weights-7.bias\n",
      "WARNING:tensorflow:Value in checkpoint could not be found in the restored object: (root).optimizer._variables.1\n",
      "WARNING:tensorflow:Value in checkpoint could not be found in the restored object: (root).optimizer._variables.2\n",
      "WARNING:tensorflow:Value in checkpoint could not be found in the restored object: (root).optimizer._variables.3\n",
      "WARNING:tensorflow:Value in checkpoint could not be found in the restored object: (root).optimizer._variables.4\n",
      "WARNING:tensorflow:Value in checkpoint could not be found in the restored object: (root).optimizer._variables.5\n",
      "WARNING:tensorflow:Value in checkpoint could not be found in the restored object: (root).optimizer._variables.6\n",
      "WARNING:tensorflow:Value in checkpoint could not be found in the restored object: (root).optimizer._variables.7\n",
      "WARNING:tensorflow:Value in checkpoint could not be found in the restored object: (root).optimizer._variables.8\n",
      "WARNING:tensorflow:Value in checkpoint could not be found in the restored object: (root).optimizer._variables.9\n",
      "WARNING:tensorflow:Value in checkpoint could not be found in the restored object: (root).optimizer._variables.10\n",
      "WARNING:tensorflow:Value in checkpoint could not be found in the restored object: (root).optimizer._variables.11\n",
      "WARNING:tensorflow:Value in checkpoint could not be found in the restored object: (root).optimizer._variables.12\n",
      "WARNING:tensorflow:Value in checkpoint could not be found in the restored object: (root).optimizer._variables.13\n",
      "WARNING:tensorflow:Value in checkpoint could not be found in the restored object: (root).optimizer._variables.14\n"
     ]
    },
    {
     "name": "stdout",
     "output_type": "stream",
     "text": [
      "WARNING:tensorflow:Value in checkpoint could not be found in the restored object: (root).optimizer._variables.15\n",
      "WARNING:tensorflow:Value in checkpoint could not be found in the restored object: (root).optimizer._variables.16\n",
      "WARNING:tensorflow:Detecting that an object or model or tf.train.Checkpoint is being deleted with unrestored values. See the following logs for the specific values in question. To silence these warnings, use `status.expect_partial()`. See https://www.tensorflow.org/api_docs/python/tf/train/Checkpoint#restorefor details about the status object returned by the restore function.\n",
      "WARNING:tensorflow:Value in checkpoint could not be found in the restored object: (root).layer_with_weights-0.kernel\n",
      "WARNING:tensorflow:Value in checkpoint could not be found in the restored object: (root).layer_with_weights-0.bias\n",
      "WARNING:tensorflow:Value in checkpoint could not be found in the restored object: (root).layer_with_weights-1.kernel\n",
      "WARNING:tensorflow:Value in checkpoint could not be found in the restored object: (root).layer_with_weights-1.bias\n",
      "WARNING:tensorflow:Value in checkpoint could not be found in the restored object: (root).layer_with_weights-2.kernel\n",
      "WARNING:tensorflow:Value in checkpoint could not be found in the restored object: (root).layer_with_weights-2.bias\n",
      "WARNING:tensorflow:Value in checkpoint could not be found in the restored object: (root).layer_with_weights-3.kernel\n",
      "WARNING:tensorflow:Value in checkpoint could not be found in the restored object: (root).layer_with_weights-3.bias\n",
      "WARNING:tensorflow:Value in checkpoint could not be found in the restored object: (root).layer_with_weights-4.kernel\n",
      "WARNING:tensorflow:Value in checkpoint could not be found in the restored object: (root).layer_with_weights-4.bias\n",
      "WARNING:tensorflow:Value in checkpoint could not be found in the restored object: (root).layer_with_weights-5.kernel\n",
      "WARNING:tensorflow:Value in checkpoint could not be found in the restored object: (root).layer_with_weights-5.bias\n",
      "WARNING:tensorflow:Value in checkpoint could not be found in the restored object: (root).optimizer._variables.1\n",
      "WARNING:tensorflow:Value in checkpoint could not be found in the restored object: (root).optimizer._variables.2\n",
      "WARNING:tensorflow:Value in checkpoint could not be found in the restored object: (root).optimizer._variables.3\n",
      "WARNING:tensorflow:Value in checkpoint could not be found in the restored object: (root).optimizer._variables.4\n",
      "WARNING:tensorflow:Value in checkpoint could not be found in the restored object: (root).optimizer._variables.5\n",
      "WARNING:tensorflow:Value in checkpoint could not be found in the restored object: (root).optimizer._variables.6\n",
      "WARNING:tensorflow:Value in checkpoint could not be found in the restored object: (root).optimizer._variables.7\n",
      "WARNING:tensorflow:Value in checkpoint could not be found in the restored object: (root).optimizer._variables.8\n",
      "WARNING:tensorflow:Value in checkpoint could not be found in the restored object: (root).optimizer._variables.9\n",
      "WARNING:tensorflow:Value in checkpoint could not be found in the restored object: (root).optimizer._variables.10\n",
      "WARNING:tensorflow:Value in checkpoint could not be found in the restored object: (root).optimizer._variables.11\n",
      "WARNING:tensorflow:Value in checkpoint could not be found in the restored object: (root).optimizer._variables.12\n",
      "WARNING:tensorflow:Value in checkpoint could not be found in the restored object: (root).optimizer._variables.13\n",
      "WARNING:tensorflow:Value in checkpoint could not be found in the restored object: (root).optimizer._variables.14\n",
      "WARNING:tensorflow:Value in checkpoint could not be found in the restored object: (root).optimizer._variables.15\n",
      "WARNING:tensorflow:Value in checkpoint could not be found in the restored object: (root).optimizer._variables.16\n",
      "WARNING:tensorflow:Value in checkpoint could not be found in the restored object: (root).optimizer._variables.17\n",
      "WARNING:tensorflow:Value in checkpoint could not be found in the restored object: (root).optimizer._variables.18\n",
      "WARNING:tensorflow:Value in checkpoint could not be found in the restored object: (root).optimizer._variables.19\n",
      "WARNING:tensorflow:Value in checkpoint could not be found in the restored object: (root).optimizer._variables.20\n",
      "WARNING:tensorflow:Value in checkpoint could not be found in the restored object: (root).optimizer._variables.21\n",
      "WARNING:tensorflow:Value in checkpoint could not be found in the restored object: (root).optimizer._variables.22\n",
      "WARNING:tensorflow:Value in checkpoint could not be found in the restored object: (root).optimizer._variables.23\n",
      "WARNING:tensorflow:Value in checkpoint could not be found in the restored object: (root).optimizer._variables.24\n"
     ]
    }
   ],
   "source": [
    "top3_models = random_search_tuner.get_best_models(num_models=3)\n",
    "best_model= top3_models[0]"
   ]
  },
  {
   "cell_type": "code",
   "execution_count": 24,
   "id": "7ade131c",
   "metadata": {},
   "outputs": [
    {
     "data": {
      "text/plain": [
       "{'n_hidden': 5,\n",
       " 'n_neurons': 70,\n",
       " 'learning_rate': 0.00041268008323824807,\n",
       " 'optimizer': 'adam'}"
      ]
     },
     "execution_count": 24,
     "metadata": {},
     "output_type": "execute_result"
    }
   ],
   "source": [
    "top3_params = random_search_tuner.get_best_hyperparameters(num_trials=3)\n",
    "top3_params[0].values"
   ]
  },
  {
   "cell_type": "code",
   "execution_count": 25,
   "id": "81addd82",
   "metadata": {},
   "outputs": [
    {
     "name": "stdout",
     "output_type": "stream",
     "text": [
      "Trial summary\n",
      "Hyperparameters:\n",
      "n_hidden: 5\n",
      "n_neurons: 70\n",
      "learning_rate: 0.00041268008323824807\n",
      "optimizer: adam\n",
      "Score: 0.8690000176429749\n"
     ]
    }
   ],
   "source": [
    "best_trial= random_search_tuner.oracle.get_best_trials(num_trials=1)[0]\n",
    "best_trial.summary()"
   ]
  },
  {
   "cell_type": "code",
   "execution_count": 27,
   "id": "bb114ca7",
   "metadata": {},
   "outputs": [
    {
     "data": {
      "text/plain": [
       "0.8690000176429749"
      ]
     },
     "execution_count": 27,
     "metadata": {},
     "output_type": "execute_result"
    }
   ],
   "source": [
    "best_trial.metrics.get_best_value('val_accuracy')"
   ]
  },
  {
   "cell_type": "code",
   "execution_count": 28,
   "id": "cb4e7513",
   "metadata": {},
   "outputs": [
    {
     "name": "stdout",
     "output_type": "stream",
     "text": [
      "Epoch 1/10\n",
      "1875/1875 [==============================] - 3s 1ms/step - loss: 0.3211 - accuracy: 0.8837\n",
      "Epoch 2/10\n",
      "1875/1875 [==============================] - 2s 1ms/step - loss: 0.3086 - accuracy: 0.8879\n",
      "Epoch 3/10\n",
      "1875/1875 [==============================] - 2s 1ms/step - loss: 0.3023 - accuracy: 0.8889\n",
      "Epoch 4/10\n",
      "1875/1875 [==============================] - 2s 1ms/step - loss: 0.2930 - accuracy: 0.8920\n",
      "Epoch 5/10\n",
      "1875/1875 [==============================] - 2s 1ms/step - loss: 0.2867 - accuracy: 0.8948\n",
      "Epoch 6/10\n",
      "1875/1875 [==============================] - 2s 1ms/step - loss: 0.2797 - accuracy: 0.8970\n",
      "Epoch 7/10\n",
      "1875/1875 [==============================] - 2s 1ms/step - loss: 0.2746 - accuracy: 0.8984\n",
      "Epoch 8/10\n",
      "1875/1875 [==============================] - 2s 1ms/step - loss: 0.2683 - accuracy: 0.9004\n",
      "Epoch 9/10\n",
      "1875/1875 [==============================] - 2s 1ms/step - loss: 0.2614 - accuracy: 0.9031\n",
      "Epoch 10/10\n",
      "1875/1875 [==============================] - 2s 1ms/step - loss: 0.2573 - accuracy: 0.9047\n",
      "313/313 [==============================] - 0s 870us/step - loss: 0.3840 - accuracy: 0.8737\n"
     ]
    },
    {
     "data": {
      "text/plain": [
       "(0.38395994901657104, 0.8737000226974487)"
      ]
     },
     "execution_count": 28,
     "metadata": {},
     "output_type": "execute_result"
    }
   ],
   "source": [
    "best_model.fit(X_train_full, y_train_full, epochs=10)\n",
    "test_loss, test_accuracy = best_model.evaluate(X_test,y_test)\n",
    "test_loss, test_accuracy"
   ]
  },
  {
   "cell_type": "code",
   "execution_count": 33,
   "id": "dac17a1a",
   "metadata": {},
   "outputs": [],
   "source": [
    "# building class in the case of fine-tuning data preprocessing hyperparameters, or model.fit() arguments\n",
    "# eg we want to normalize(standardize) the training set before fitting the model\n",
    "class MyClassificationModel(kt.HyperModel):\n",
    "    def build(self, hp):\n",
    "        return build_model(hp)\n",
    "    \n",
    "    def fit(self, hp, model, X, y, **kwargs):\n",
    "        if hp.Boolean('normalize'):\n",
    "            norm_layer=tf.keras.layers.Normalization()\n",
    "            X = norm_layer(X)\n",
    "            \n",
    "        return model.fit(X,y, **kwargs)"
   ]
  },
  {
   "cell_type": "code",
   "execution_count": 34,
   "id": "1e77dd8c",
   "metadata": {},
   "outputs": [],
   "source": [
    "# The total num of training epochs across all models for each hyperban iteration is about\n",
    "# max_epochs*(log(max_epochs)/log(factor))**2 --44, \n",
    "# need to add () at the end of customerized function \n",
    "hyperband_tuner = kt.Hyperband(MyClassificationModel(), objective='val_accuracy',\n",
    "                              hyperband_iterations=2, max_epochs=10,factor=3,\n",
    "                              overwrite=True, directory='my_fashion_mnist', project_name='hyperband')"
   ]
  },
  {
   "cell_type": "code",
   "execution_count": 16,
   "id": "6f60c871",
   "metadata": {},
   "outputs": [],
   "source": [
    "from pathlib import Path"
   ]
  },
  {
   "cell_type": "code",
   "execution_count": null,
   "id": "eba96727",
   "metadata": {},
   "outputs": [],
   "source": []
  },
  {
   "cell_type": "code",
   "execution_count": 35,
   "id": "28fb2466",
   "metadata": {},
   "outputs": [
    {
     "name": "stdout",
     "output_type": "stream",
     "text": [
      "Trial 60 Complete [00h 00m 22s]\n",
      "val_accuracy: 0.8519999980926514\n",
      "\n",
      "Best val_accuracy So Far: 0.8817999958992004\n",
      "Total elapsed time: 00h 14m 11s\n",
      "INFO:tensorflow:Oracle triggered exit\n"
     ]
    }
   ],
   "source": [
    "root_logdir = Path(hyperband_tuner.project_dir)/'tensorboard'\n",
    "tensorboard_cb = tf.keras.callbacks.TensorBoard(root_logdir)\n",
    "early_stopping_cb = tf.keras.callbacks.EarlyStopping(patience=2)\n",
    "hyperband_tuner.search(X_train, y_train, epochs=10,\n",
    "                      validation_data=(X_valid, y_valid),\n",
    "                      callbacks=[early_stopping_cb,tensorboard_cb])"
   ]
  },
  {
   "cell_type": "code",
   "execution_count": null,
   "id": "0ea43a73",
   "metadata": {},
   "outputs": [],
   "source": [
    "%reload_ext tensorboard"
   ]
  },
  {
   "cell_type": "code",
   "execution_count": 39,
   "id": "5eb0e27d",
   "metadata": {},
   "outputs": [
    {
     "data": {
      "text/html": [
       "\n",
       "      <iframe id=\"tensorboard-frame-6e5e09fd6eed7a85\" width=\"100%\" height=\"800\" frameborder=\"0\">\n",
       "      </iframe>\n",
       "      <script>\n",
       "        (function() {\n",
       "          const frame = document.getElementById(\"tensorboard-frame-6e5e09fd6eed7a85\");\n",
       "          const url = new URL(\"/\", window.location);\n",
       "          const port = 6006;\n",
       "          if (port) {\n",
       "            url.port = port;\n",
       "          }\n",
       "          frame.src = url;\n",
       "        })();\n",
       "      </script>\n",
       "    "
      ],
      "text/plain": [
       "<IPython.core.display.HTML object>"
      ]
     },
     "metadata": {},
     "output_type": "display_data"
    }
   ],
   "source": [
    "%tensorboard --logdir {root_logdir} --host localhost"
   ]
  },
  {
   "cell_type": "code",
   "execution_count": 36,
   "id": "137e27a0",
   "metadata": {},
   "outputs": [],
   "source": [
    "bayesian_opt_tuner = kt.BayesianOptimization(\n",
    "MyClassificationModel(), objective='val_accuracy', seed=42,\n",
    "max_trials=10, alpha=1e-4, beta=2.6,\n",
    "overwrite=True, directory='my_fashion_mnist', project_name='bayesian_opt')"
   ]
  },
  {
   "cell_type": "code",
   "execution_count": 37,
   "id": "df2714d7",
   "metadata": {},
   "outputs": [
    {
     "name": "stdout",
     "output_type": "stream",
     "text": [
      "Trial 10 Complete [00h 00m 05s]\n",
      "val_accuracy: 0.8077999949455261\n",
      "\n",
      "Best val_accuracy So Far: 0.8489999771118164\n",
      "Total elapsed time: 00h 02m 29s\n",
      "INFO:tensorflow:Oracle triggered exit\n"
     ]
    }
   ],
   "source": [
    "bayesian_opt_tuner.search(X_train, y_train, epochs=10,\n",
    "                         validation_data =(X_valid, y_valid),\n",
    "                         callbacks=[early_stopping_cb,tensorboard_cb])\n"
   ]
  },
  {
   "cell_type": "markdown",
   "id": "f6c2923f",
   "metadata": {},
   "source": [
    "## Train MNIST through MLP "
   ]
  },
  {
   "cell_type": "code",
   "execution_count": 40,
   "id": "98d3b4b4",
   "metadata": {},
   "outputs": [
    {
     "name": "stdout",
     "output_type": "stream",
     "text": [
      "Downloading data from https://storage.googleapis.com/tensorflow/tf-keras-datasets/mnist.npz\n",
      "11490434/11490434 [==============================] - 0s 0us/step\n"
     ]
    }
   ],
   "source": [
    "mnist = tf.keras.datasets.mnist.load_data()"
   ]
  },
  {
   "cell_type": "code",
   "execution_count": 43,
   "id": "4efcd8a0",
   "metadata": {},
   "outputs": [
    {
     "data": {
      "text/plain": [
       "((60000, 28, 28), (60000,), (10000, 28, 28), (10000,))"
      ]
     },
     "execution_count": 43,
     "metadata": {},
     "output_type": "execute_result"
    }
   ],
   "source": [
    "(X_train_full, y_train_full), (X_test, y_test) = mnist\n",
    "X_train_full.shape, y_train_full.shape, X_test.shape, y_test.shape"
   ]
  },
  {
   "cell_type": "code",
   "execution_count": 44,
   "id": "b6b20cca",
   "metadata": {},
   "outputs": [
    {
     "data": {
      "text/plain": [
       "((55000, 28, 28), (5000, 28, 28), (55000,), (5000,))"
      ]
     },
     "execution_count": 44,
     "metadata": {},
     "output_type": "execute_result"
    }
   ],
   "source": [
    "X_train, X_valid = X_train_full[:-5000], X_train_full[-5000:]\n",
    "y_train, y_valid = y_train_full[:-5000], y_train_full[-5000:]\n",
    "X_train.shape, X_valid.shape, y_train.shape, y_valid.shape\n"
   ]
  },
  {
   "cell_type": "code",
   "execution_count": 61,
   "id": "36ad6d89",
   "metadata": {},
   "outputs": [],
   "source": [
    "# we scale the  pixel intensities down to the 0-1 range and convert them to floats,\n",
    "X_train, X_valid, X_test = X_train/255, X_valid/255, X_test/255"
   ]
  },
  {
   "cell_type": "code",
   "execution_count": 69,
   "id": "44ea3d32",
   "metadata": {},
   "outputs": [
    {
     "data": {
      "image/png": "[encoded data removed]",
      "text/plain": [
       "<Figure size 432x288 with 1 Axes>"
      ]
     },
     "metadata": {
      "needs_background": "light"
     },
     "output_type": "display_data"
    }
   ],
   "source": [
    "plt.imshow(X_train[0], cmap='binary')\n",
    "plt.axis('off')\n",
    "plt.show()"
   ]
  },
  {
   "cell_type": "code",
   "execution_count": 72,
   "id": "b1784430",
   "metadata": {},
   "outputs": [],
   "source": [
    "# we create a callback to run at the end of each iteration to grow the learning rate and record the loss and learning rate \n",
    "K = tf.keras.backend \n",
    "class ExponentialLearningRate(tf.keras.callbacks.Callback):\n",
    "    def __init__(self, factor):\n",
    "        \n",
    "        self.losses = []\n",
    "        self.rates = []\n",
    "        self.factor = factor\n",
    "        \n",
    "    def on_batch_end(self,batch,logs):\n",
    "        self.rates.append(K.get_value(self.model.optimizer.learning_rate))\n",
    "        self.losses.append(logs['loss'])\n",
    "        K.set_value(self.model.optimizer.learning_rate, self.model.optimizer.learning_rate*self.factor)"
   ]
  },
  {
   "cell_type": "code",
   "execution_count": 74,
   "id": "ce0f9a72",
   "metadata": {},
   "outputs": [
    {
     "name": "stdout",
     "output_type": "stream",
     "text": [
      "1719/1719 [==============================] - 8s 4ms/step - loss: nan - accuracy: 0.6118 - val_loss: nan - val_accuracy: 0.0978\n"
     ]
    }
   ],
   "source": [
    "tf.keras.backend.clear_session()\n",
    "np.random.seed(42)\n",
    "tf.random.set_seed(42)\n",
    "model = tf.keras.models.Sequential([\n",
    "    tf.keras.layers.Flatten(input_shape=[28,28]),\n",
    "    tf.keras.layers.Dense(300, activation='relu'),\n",
    "    tf.keras.layers.Dense(100, activation='relu'),\n",
    "    tf.keras.layers.Dense(10, activation='softmax'),\n",
    "    \n",
    "])\n",
    "factor=1.005\n",
    "expon_rate_cb = ExponentialLearningRate(factor= factor)\n",
    "optimizer = tf.keras.optimizers.SGD(learning_rate=1e-3)\n",
    "model.compile(loss='sparse_categorical_crossentropy',\n",
    "             optimizer = optimizer,\n",
    "             metrics='accuracy')\n",
    "early_stopping_cb = tf.keras.callbacks.EarlyStopping(patience=4)\n",
    "history = model.fit(X_train, y_train, epochs=1,\n",
    "                   validation_data = (X_valid, y_valid),\n",
    "                   callbacks =[ expon_rate_cb])"
   ]
  },
  {
   "cell_type": "code",
   "execution_count": 94,
   "id": "536c5d55",
   "metadata": {},
   "outputs": [
    {
     "data": {
      "image/png": "[encoded data removed]",
      "text/plain": [
       "<Figure size 720x288 with 2 Axes>"
      ]
     },
     "metadata": {
      "needs_background": "light"
     },
     "output_type": "display_data"
    }
   ],
   "source": [
    "plt.figure(figsize=(10,4))\n",
    "plt.subplot(121)\n",
    "plt.plot(expon_rate_cb.rates, expon_rate_cb.losses)\n",
    "\n",
    "plt.subplot(122)\n",
    "plt.plot(expon_rate_cb.rates, expon_rate_cb.losses)\n",
    "plt.gca().set_xscale(\"log\")\n",
    "plt.hlines(min(expon_rate_cb.losses), min(expon_rate_cb.rates),max(expon_rate_cb.rates),colors='r')\n",
    "plt.axis([min(expon_rate_cb.rates), max(expon_rate_cb.rates),0, expon_rate_cb.losses[0]])\n",
    "plt.grid()\n",
    "plt.xlabel('learning_rate')\n",
    "plt.ylabel('Loss')\n",
    "plt.show()"
   ]
  },
  {
   "cell_type": "code",
   "execution_count": 99,
   "id": "2501ce50",
   "metadata": {},
   "outputs": [
    {
     "data": {
      "text/plain": [
       "0.31918472"
      ]
     },
     "execution_count": 99,
     "metadata": {},
     "output_type": "execute_result"
    }
   ],
   "source": [
    "expon_rate_cb.rates[np.argmin(expon_rate_cb.losses)]\n"
   ]
  },
  {
   "cell_type": "code",
   "execution_count": 122,
   "id": "98271754",
   "metadata": {},
   "outputs": [],
   "source": [
    "tf.keras.backend.clear_session()\n",
    "np.random.seed(42)\n",
    "tf.random.set_seed(42)\n",
    "\n",
    "model = tf.keras.models.Sequential([\n",
    "    tf.keras.layers.Flatten(input_shape=[28,28] ),\n",
    "    tf.keras.layers.Dense(300, activation='relu'),\n",
    "    tf.keras.layers.Dense(100, activation='relu'),\n",
    "    tf.keras.layers.Dense(10, activation='softmax'),\n",
    "])\n",
    "optimizer = tf.keras.optimizers.SGD(learning_rate =3e-1)\n",
    "model.compile(loss=\"sparse_categorical_crossentropy\",\n",
    "             optimizer=optimizer,\n",
    "             metrics=['accuracy'])"
   ]
  },
  {
   "cell_type": "code",
   "execution_count": 123,
   "id": "1f644507",
   "metadata": {},
   "outputs": [
    {
     "name": "stdout",
     "output_type": "stream",
     "text": [
      "Model: \"sequential\"\n",
      "_________________________________________________________________\n",
      " Layer (type)                Output Shape              Param #   \n",
      "=================================================================\n",
      " flatten (Flatten)           (None, 784)               0         \n",
      "                                                                 \n",
      " dense (Dense)               (None, 300)               235500    \n",
      "                                                                 \n",
      " dense_1 (Dense)             (None, 100)               30100     \n",
      "                                                                 \n",
      " dense_2 (Dense)             (None, 10)                1010      \n",
      "                                                                 \n",
      "=================================================================\n",
      "Total params: 266,610\n",
      "Trainable params: 266,610\n",
      "Non-trainable params: 0\n",
      "_________________________________________________________________\n"
     ]
    }
   ],
   "source": [
    "model.summary()"
   ]
  },
  {
   "cell_type": "code",
   "execution_count": 124,
   "id": "b713b1c2",
   "metadata": {},
   "outputs": [
    {
     "data": {
      "text/plain": [
       "WindowsPath('my_logs/run_2023_01_12_10_39_01')"
      ]
     },
     "execution_count": 124,
     "metadata": {},
     "output_type": "execute_result"
    }
   ],
   "source": [
    "run_logdir = get_run_logdir()\n",
    "run_logdir"
   ]
  },
  {
   "cell_type": "code",
   "execution_count": 125,
   "id": "a7020966",
   "metadata": {},
   "outputs": [
    {
     "name": "stdout",
     "output_type": "stream",
     "text": [
      "Epoch 1/100\n",
      "1710/1719 [============================>.] - ETA: 0s - loss: 0.2378 - accuracy: 0.9253"
     ]
    },
    {
     "name": "stderr",
     "output_type": "stream",
     "text": [
      "WARNING:absl:Found untraced functions such as _update_step_xla while saving (showing 1 of 1). These functions will not be directly callable after loading.\n"
     ]
    },
    {
     "name": "stdout",
     "output_type": "stream",
     "text": [
      "INFO:tensorflow:Assets written to: my_mnist_model\\assets\n"
     ]
    },
    {
     "name": "stderr",
     "output_type": "stream",
     "text": [
      "INFO:tensorflow:Assets written to: my_mnist_model\\assets\n"
     ]
    },
    {
     "name": "stdout",
     "output_type": "stream",
     "text": [
      "1719/1719 [==============================] - 7s 4ms/step - loss: 0.2372 - accuracy: 0.9255 - val_loss: 0.0996 - val_accuracy: 0.9696\n",
      "Epoch 2/100\n",
      "1715/1719 [============================>.] - ETA: 0s - loss: 0.0966 - accuracy: 0.9697"
     ]
    },
    {
     "name": "stderr",
     "output_type": "stream",
     "text": [
      "WARNING:absl:Found untraced functions such as _update_step_xla while saving (showing 1 of 1). These functions will not be directly callable after loading.\n"
     ]
    },
    {
     "name": "stdout",
     "output_type": "stream",
     "text": [
      "INFO:tensorflow:Assets written to: my_mnist_model\\assets\n"
     ]
    },
    {
     "name": "stderr",
     "output_type": "stream",
     "text": [
      "INFO:tensorflow:Assets written to: my_mnist_model\\assets\n"
     ]
    },
    {
     "name": "stdout",
     "output_type": "stream",
     "text": [
      "1719/1719 [==============================] - 6s 4ms/step - loss: 0.0967 - accuracy: 0.9696 - val_loss: 0.0768 - val_accuracy: 0.9778\n",
      "Epoch 3/100\n",
      "1718/1719 [============================>.] - ETA: 0s - loss: 0.0671 - accuracy: 0.9792"
     ]
    },
    {
     "name": "stderr",
     "output_type": "stream",
     "text": [
      "WARNING:absl:Found untraced functions such as _update_step_xla while saving (showing 1 of 1). These functions will not be directly callable after loading.\n"
     ]
    },
    {
     "name": "stdout",
     "output_type": "stream",
     "text": [
      "INFO:tensorflow:Assets written to: my_mnist_model\\assets\n"
     ]
    },
    {
     "name": "stderr",
     "output_type": "stream",
     "text": [
      "INFO:tensorflow:Assets written to: my_mnist_model\\assets\n"
     ]
    },
    {
     "name": "stdout",
     "output_type": "stream",
     "text": [
      "1719/1719 [==============================] - 7s 4ms/step - loss: 0.0670 - accuracy: 0.9792 - val_loss: 0.0751 - val_accuracy: 0.9794\n",
      "Epoch 4/100\n",
      "1719/1719 [==============================] - 6s 4ms/step - loss: 0.0491 - accuracy: 0.9844 - val_loss: 0.0802 - val_accuracy: 0.9784\n",
      "Epoch 5/100\n",
      "1713/1719 [============================>.] - ETA: 0s - loss: 0.0369 - accuracy: 0.9883"
     ]
    },
    {
     "name": "stderr",
     "output_type": "stream",
     "text": [
      "WARNING:absl:Found untraced functions such as _update_step_xla while saving (showing 1 of 1). These functions will not be directly callable after loading.\n"
     ]
    },
    {
     "name": "stdout",
     "output_type": "stream",
     "text": [
      "INFO:tensorflow:Assets written to: my_mnist_model\\assets\n"
     ]
    },
    {
     "name": "stderr",
     "output_type": "stream",
     "text": [
      "INFO:tensorflow:Assets written to: my_mnist_model\\assets\n"
     ]
    },
    {
     "name": "stdout",
     "output_type": "stream",
     "text": [
      "1719/1719 [==============================] - 6s 4ms/step - loss: 0.0368 - accuracy: 0.9883 - val_loss: 0.0669 - val_accuracy: 0.9834\n",
      "Epoch 6/100\n",
      "1719/1719 [==============================] - 6s 4ms/step - loss: 0.0283 - accuracy: 0.9911 - val_loss: 0.0942 - val_accuracy: 0.9760\n",
      "Epoch 7/100\n",
      "1719/1719 [==============================] - 6s 4ms/step - loss: 0.0223 - accuracy: 0.9929 - val_loss: 0.0871 - val_accuracy: 0.9830\n",
      "Epoch 8/100\n",
      "1719/1719 [==============================] - 6s 4ms/step - loss: 0.0191 - accuracy: 0.9937 - val_loss: 0.0735 - val_accuracy: 0.9842\n",
      "Epoch 9/100\n",
      "1719/1719 [==============================] - 6s 4ms/step - loss: 0.0159 - accuracy: 0.9946 - val_loss: 0.0778 - val_accuracy: 0.9826\n",
      "Epoch 10/100\n",
      "1719/1719 [==============================] - 6s 4ms/step - loss: 0.0114 - accuracy: 0.9963 - val_loss: 0.0920 - val_accuracy: 0.9820\n",
      "Epoch 11/100\n",
      "1719/1719 [==============================] - 6s 4ms/step - loss: 0.0117 - accuracy: 0.9959 - val_loss: 0.0924 - val_accuracy: 0.9812\n",
      "Epoch 12/100\n",
      "1719/1719 [==============================] - 7s 4ms/step - loss: 0.0096 - accuracy: 0.9971 - val_loss: 0.0753 - val_accuracy: 0.9852\n",
      "Epoch 13/100\n",
      "1719/1719 [==============================] - 6s 4ms/step - loss: 0.0119 - accuracy: 0.9962 - val_loss: 0.0902 - val_accuracy: 0.9828\n",
      "Epoch 14/100\n",
      "1719/1719 [==============================] - 6s 4ms/step - loss: 0.0091 - accuracy: 0.9967 - val_loss: 0.1070 - val_accuracy: 0.9804\n",
      "Epoch 15/100\n",
      "1719/1719 [==============================] - 6s 4ms/step - loss: 0.0074 - accuracy: 0.9978 - val_loss: 0.0793 - val_accuracy: 0.9848\n",
      "Epoch 16/100\n",
      "1719/1719 [==============================] - 7s 4ms/step - loss: 0.0047 - accuracy: 0.9987 - val_loss: 0.0911 - val_accuracy: 0.9844\n",
      "Epoch 17/100\n",
      "1719/1719 [==============================] - 6s 4ms/step - loss: 0.0023 - accuracy: 0.9993 - val_loss: 0.0867 - val_accuracy: 0.9862\n",
      "Epoch 18/100\n",
      "1719/1719 [==============================] - 6s 4ms/step - loss: 2.4729e-04 - accuracy: 1.0000 - val_loss: 0.0906 - val_accuracy: 0.9858\n",
      "Epoch 19/100\n",
      "1719/1719 [==============================] - 7s 4ms/step - loss: 1.1479e-04 - accuracy: 1.0000 - val_loss: 0.0895 - val_accuracy: 0.9862\n",
      "Epoch 20/100\n",
      "1719/1719 [==============================] - 6s 4ms/step - loss: 8.3625e-05 - accuracy: 1.0000 - val_loss: 0.0913 - val_accuracy: 0.9860\n",
      "Epoch 21/100\n",
      "1719/1719 [==============================] - 7s 4ms/step - loss: 7.0368e-05 - accuracy: 1.0000 - val_loss: 0.0917 - val_accuracy: 0.9860\n",
      "Epoch 22/100\n",
      "1719/1719 [==============================] - 7s 4ms/step - loss: 6.1186e-05 - accuracy: 1.0000 - val_loss: 0.0925 - val_accuracy: 0.9860\n",
      "Epoch 23/100\n",
      "1719/1719 [==============================] - 7s 4ms/step - loss: 5.4615e-05 - accuracy: 1.0000 - val_loss: 0.0930 - val_accuracy: 0.9860\n",
      "Epoch 24/100\n",
      "1719/1719 [==============================] - 7s 4ms/step - loss: 4.9424e-05 - accuracy: 1.0000 - val_loss: 0.0940 - val_accuracy: 0.9860\n",
      "Epoch 25/100\n",
      "1719/1719 [==============================] - 7s 4ms/step - loss: 4.5225e-05 - accuracy: 1.0000 - val_loss: 0.0946 - val_accuracy: 0.9860\n"
     ]
    },
    {
     "data": {
      "text/plain": [
       "<keras.callbacks.History at 0x18e06f988e0>"
      ]
     },
     "execution_count": 125,
     "metadata": {},
     "output_type": "execute_result"
    }
   ],
   "source": [
    "early_stopping_cb = tf.keras.callbacks.EarlyStopping(patience=20)\n",
    "checkpoint_cb =tf.keras.callbacks.ModelCheckpoint(\"my_mnist_model\",save_best_only=True)\n",
    "tensorboard_cb = tf.keras.callbacks.TensorBoard(run_logdir)\n",
    "model.fit(X_train, y_train, epochs=100,\n",
    "         validation_data =(X_valid, y_valid),\n",
    "         callbacks=[early_stopping_cb,checkpoint_cb, tensorboard_cb])"
   ]
  },
  {
   "cell_type": "code",
   "execution_count": 126,
   "id": "368e043c",
   "metadata": {},
   "outputs": [
    {
     "name": "stdout",
     "output_type": "stream",
     "text": [
      "313/313 [==============================] - 1s 2ms/step - loss: 0.0647 - accuracy: 0.9826\n"
     ]
    },
    {
     "data": {
      "text/plain": [
       "[0.06472280621528625, 0.9825999736785889]"
      ]
     },
     "execution_count": 126,
     "metadata": {},
     "output_type": "execute_result"
    }
   ],
   "source": [
    "model= tf.keras.models.load_model(\"my_mnist_model\")\n",
    "model.evaluate(X_test,y_test)"
   ]
  },
  {
   "cell_type": "code",
   "execution_count": 129,
   "id": "3a2bd709",
   "metadata": {},
   "outputs": [
    {
     "data": {
      "text/plain": [
       "Reusing TensorBoard on port 6006 (pid 31628), started 0:01:23 ago. (Use '!kill 31628' to kill it.)"
      ]
     },
     "metadata": {},
     "output_type": "display_data"
    },
    {
     "data": {
      "text/html": [
       "\n",
       "      <iframe id=\"tensorboard-frame-ee7ffcf2ccac881c\" width=\"100%\" height=\"800\" frameborder=\"0\">\n",
       "      </iframe>\n",
       "      <script>\n",
       "        (function() {\n",
       "          const frame = document.getElementById(\"tensorboard-frame-ee7ffcf2ccac881c\");\n",
       "          const url = new URL(\"/\", window.location);\n",
       "          const port = 6006;\n",
       "          if (port) {\n",
       "            url.port = port;\n",
       "          }\n",
       "          frame.src = url;\n",
       "        })();\n",
       "      </script>\n",
       "    "
      ],
      "text/plain": [
       "<IPython.core.display.HTML object>"
      ]
     },
     "metadata": {},
     "output_type": "display_data"
    }
   ],
   "source": [
    "%tensorboard --logdir =./my_logs --host localhost"
   ]
  },
  {
   "cell_type": "code",
   "execution_count": 133,
   "id": "27b6c516",
   "metadata": {},
   "outputs": [
    {
     "name": "stdout",
     "output_type": "stream",
     "text": [
      "Known TensorBoard instances:\n",
      "  - port 6006: logdir my_fashion_mnisthyperbandtensorboard (started 19:58:57 ago; pid 14184)\n",
      "  - port 6006: logdir my_fashion_mnisthyperbandtensorboard (started 1 day, 0:28:55 ago; pid 18788)\n",
      "  - port 6006: logdir =./my_logs (started 0:03:30 ago; pid 31628)\n",
      "  - port 6006: logdir ./my_logs (started 1 day, 19:35:17 ago; pid 32640)\n",
      "  - port 6006: logdir =./my_logs (started 0:16:04 ago; pid 34304)\n",
      "  - port 6006: logdir ./my_logs (started 1 day, 18:19:34 ago; pid 9292)\n"
     ]
    }
   ],
   "source": [
    "from tensorboard import notebook\n",
    "notebook.list()"
   ]
  },
  {
   "cell_type": "code",
   "execution_count": null,
   "id": "cac438d9",
   "metadata": {},
   "outputs": [],
   "source": []
  }
 ],
 "metadata": {
  "kernelspec": {
   "display_name": "python39_virt",
   "language": "python",
   "name": "python39_virt"
  },
  "language_info": {
   "codemirror_mode": {
    "name": "ipython",
    "version": 3
   },
   "file_extension": ".py",
   "mimetype": "text/x-python",
   "name": "python",
   "nbconvert_exporter": "python",
   "pygments_lexer": "ipython3",
   "version": "3.9.11"
  },
  "toc": {
   "base_numbering": 1,
   "nav_menu": {},
   "number_sections": true,
   "sideBar": true,
   "skip_h1_title": false,
   "title_cell": "Table of Contents",
   "title_sidebar": "Contents",
   "toc_cell": false,
   "toc_position": {
    "height": "calc(100% - 180px)",
    "left": "10px",
    "top": "150px",
    "width": "165px"
   },
   "toc_section_display": true,
   "toc_window_display": true
  },
  "varInspector": {
   "cols": {
    "lenName": 16,
    "lenType": 16,
    "lenVar": 40
   },
   "kernels_config": {
    "python": {
     "delete_cmd_postfix": "",
     "delete_cmd_prefix": "del ",
     "library": "var_list.py",
     "varRefreshCmd": "print(var_dic_list())"
    },
    "r": {
     "delete_cmd_postfix": ") ",
     "delete_cmd_prefix": "rm(",
     "library": "var_list.r",
     "varRefreshCmd": "cat(var_dic_list()) "
    }
   },
   "types_to_exclude": [
    "module",
    "function",
    "builtin_function_or_method",
    "instance",
    "_Feature"
   ],
   "window_display": false
  }
 },
 "nbformat": 4,
 "nbformat_minor": 5
}
