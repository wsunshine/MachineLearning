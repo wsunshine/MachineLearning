{
 "cells": [
  {
   "cell_type": "markdown",
   "metadata": {},
   "source": [
    "# Import data and data exploration"
   ]
  },
  {
   "cell_type": "code",
   "execution_count": 54,
   "metadata": {},
   "outputs": [],
   "source": [
    "import pandas as pd\n",
    "import numpy as np\n",
    "import matplotlib.pyplot as plt\n",
    "import re\n",
    "from icecream import ic\n",
    "%matplotlib inline"
   ]
  },
  {
   "cell_type": "code",
   "execution_count": 2,
   "metadata": {},
   "outputs": [
    {
     "data": {
      "text/html": [
       "<div>\n",
       "<style scoped>\n",
       "    .dataframe tbody tr th:only-of-type {\n",
       "        vertical-align: middle;\n",
       "    }\n",
       "\n",
       "    .dataframe tbody tr th {\n",
       "        vertical-align: top;\n",
       "    }\n",
       "\n",
       "    .dataframe thead th {\n",
       "        text-align: right;\n",
       "    }\n",
       "</style>\n",
       "<table border=\"1\" class=\"dataframe\">\n",
       "  <thead>\n",
       "    <tr style=\"text-align: right;\">\n",
       "      <th></th>\n",
       "      <th>userId</th>\n",
       "      <th>movieId</th>\n",
       "      <th>rating</th>\n",
       "      <th>title</th>\n",
       "    </tr>\n",
       "  </thead>\n",
       "  <tbody>\n",
       "    <tr>\n",
       "      <th>0</th>\n",
       "      <td>1</td>\n",
       "      <td>1</td>\n",
       "      <td>4.0</td>\n",
       "      <td>Toy Story (1995)</td>\n",
       "    </tr>\n",
       "    <tr>\n",
       "      <th>1</th>\n",
       "      <td>5</td>\n",
       "      <td>1</td>\n",
       "      <td>4.0</td>\n",
       "      <td>Toy Story (1995)</td>\n",
       "    </tr>\n",
       "    <tr>\n",
       "      <th>2</th>\n",
       "      <td>7</td>\n",
       "      <td>1</td>\n",
       "      <td>4.5</td>\n",
       "      <td>Toy Story (1995)</td>\n",
       "    </tr>\n",
       "    <tr>\n",
       "      <th>3</th>\n",
       "      <td>15</td>\n",
       "      <td>1</td>\n",
       "      <td>2.5</td>\n",
       "      <td>Toy Story (1995)</td>\n",
       "    </tr>\n",
       "    <tr>\n",
       "      <th>4</th>\n",
       "      <td>17</td>\n",
       "      <td>1</td>\n",
       "      <td>4.5</td>\n",
       "      <td>Toy Story (1995)</td>\n",
       "    </tr>\n",
       "  </tbody>\n",
       "</table>\n",
       "</div>"
      ],
      "text/plain": [
       "   userId  movieId  rating             title\n",
       "0       1        1     4.0  Toy Story (1995)\n",
       "1       5        1     4.0  Toy Story (1995)\n",
       "2       7        1     4.5  Toy Story (1995)\n",
       "3      15        1     2.5  Toy Story (1995)\n",
       "4      17        1     4.5  Toy Story (1995)"
      ]
     },
     "execution_count": 2,
     "metadata": {},
     "output_type": "execute_result"
    }
   ],
   "source": [
    "user_ratings_df = pd.read_csv(r'Data\\user_ratings.csv',header=0, usecols=['userId','movieId','rating','title'])\n",
    "user_ratings_df.head()"
   ]
  },
  {
   "cell_type": "code",
   "execution_count": 3,
   "metadata": {},
   "outputs": [
    {
     "name": "stdout",
     "output_type": "stream",
     "text": [
      "<class 'pandas.core.frame.DataFrame'>\n",
      "RangeIndex: 100836 entries, 0 to 100835\n",
      "Data columns (total 4 columns):\n",
      " #   Column   Non-Null Count   Dtype  \n",
      "---  ------   --------------   -----  \n",
      " 0   userId   100836 non-null  int64  \n",
      " 1   movieId  100836 non-null  int64  \n",
      " 2   rating   100836 non-null  float64\n",
      " 3   title    100836 non-null  object \n",
      "dtypes: float64(1), int64(2), object(1)\n",
      "memory usage: 3.1+ MB\n"
     ]
    }
   ],
   "source": [
    "user_ratings_df.info()"
   ]
  },
  {
   "cell_type": "markdown",
   "metadata": {},
   "source": [
    "# Non personalized Recommendation\n",
    "## Most popular movies"
   ]
  },
  {
   "cell_type": "code",
   "execution_count": 19,
   "metadata": {},
   "outputs": [
    {
     "name": "stdout",
     "output_type": "stream",
     "text": [
      "Index(['Forrest Gump (1994)', 'Shawshank Redemption, The (1994)',\n",
      "       'Pulp Fiction (1994)', 'Silence of the Lambs, The (1991)',\n",
      "       'Matrix, The (1999)'],\n",
      "      dtype='object')\n"
     ]
    }
   ],
   "source": [
    "# Get the counts of occurrences of each movie title\n",
    "movie_popularity = user_ratings_df.title.value_counts()\n",
    "print(movie_popularity.head().index)"
   ]
  },
  {
   "cell_type": "markdown",
   "metadata": {},
   "source": [
    "## Movie with highest average ratings\n",
    "### Reviews only"
   ]
  },
  {
   "cell_type": "code",
   "execution_count": 25,
   "metadata": {},
   "outputs": [
    {
     "data": {
      "text/html": [
       "<div>\n",
       "<style scoped>\n",
       "    .dataframe tbody tr th:only-of-type {\n",
       "        vertical-align: middle;\n",
       "    }\n",
       "\n",
       "    .dataframe tbody tr th {\n",
       "        vertical-align: top;\n",
       "    }\n",
       "\n",
       "    .dataframe thead tr th {\n",
       "        text-align: left;\n",
       "    }\n",
       "\n",
       "    .dataframe thead tr:last-of-type th {\n",
       "        text-align: right;\n",
       "    }\n",
       "</style>\n",
       "<table border=\"1\" class=\"dataframe\">\n",
       "  <thead>\n",
       "    <tr>\n",
       "      <th></th>\n",
       "      <th>rating</th>\n",
       "    </tr>\n",
       "    <tr>\n",
       "      <th></th>\n",
       "      <th>mean</th>\n",
       "    </tr>\n",
       "    <tr>\n",
       "      <th>title</th>\n",
       "      <th></th>\n",
       "    </tr>\n",
       "  </thead>\n",
       "  <tbody>\n",
       "    <tr>\n",
       "      <th>Gena the Crocodile (1969)</th>\n",
       "      <td>5.0</td>\n",
       "    </tr>\n",
       "    <tr>\n",
       "      <th>True Stories (1986)</th>\n",
       "      <td>5.0</td>\n",
       "    </tr>\n",
       "    <tr>\n",
       "      <th>Cosmic Scrat-tastrophe (2015)</th>\n",
       "      <td>5.0</td>\n",
       "    </tr>\n",
       "    <tr>\n",
       "      <th>Love and Pigeons (1985)</th>\n",
       "      <td>5.0</td>\n",
       "    </tr>\n",
       "    <tr>\n",
       "      <th>Red Sorghum (Hong gao liang) (1987)</th>\n",
       "      <td>5.0</td>\n",
       "    </tr>\n",
       "    <tr>\n",
       "      <th>...</th>\n",
       "      <td>...</td>\n",
       "    </tr>\n",
       "    <tr>\n",
       "      <th>Don't Look Now (1973)</th>\n",
       "      <td>0.5</td>\n",
       "    </tr>\n",
       "    <tr>\n",
       "      <th>Journey 2: The Mysterious Island (2012)</th>\n",
       "      <td>0.5</td>\n",
       "    </tr>\n",
       "    <tr>\n",
       "      <th>Joe Dirt 2: Beautiful Loser (2015)</th>\n",
       "      <td>0.5</td>\n",
       "    </tr>\n",
       "    <tr>\n",
       "      <th>Jesus Christ Vampire Hunter (2001)</th>\n",
       "      <td>0.5</td>\n",
       "    </tr>\n",
       "    <tr>\n",
       "      <th>Fullmetal Alchemist 2018 (2017)</th>\n",
       "      <td>0.5</td>\n",
       "    </tr>\n",
       "  </tbody>\n",
       "</table>\n",
       "<p>9719 rows × 1 columns</p>\n",
       "</div>"
      ],
      "text/plain": [
       "                                        rating\n",
       "                                          mean\n",
       "title                                         \n",
       "Gena the Crocodile (1969)                  5.0\n",
       "True Stories (1986)                        5.0\n",
       "Cosmic Scrat-tastrophe (2015)              5.0\n",
       "Love and Pigeons (1985)                    5.0\n",
       "Red Sorghum (Hong gao liang) (1987)        5.0\n",
       "...                                        ...\n",
       "Don't Look Now (1973)                      0.5\n",
       "Journey 2: The Mysterious Island (2012)    0.5\n",
       "Joe Dirt 2: Beautiful Loser (2015)         0.5\n",
       "Jesus Christ Vampire Hunter (2001)         0.5\n",
       "Fullmetal Alchemist 2018 (2017)            0.5\n",
       "\n",
       "[9719 rows x 1 columns]"
      ]
     },
     "execution_count": 25,
     "metadata": {},
     "output_type": "execute_result"
    }
   ],
   "source": [
    "user_ratings_df.groupby('title').agg({'rating':['mean']}).sort_values(by=('rating','mean'),ascending=False)"
   ]
  },
  {
   "cell_type": "code",
   "execution_count": 30,
   "metadata": {},
   "outputs": [
    {
     "name": "stdout",
     "output_type": "stream",
     "text": [
      "                                     rating\n",
      "title                                      \n",
      "Gena the Crocodile (1969)               5.0\n",
      "True Stories (1986)                     5.0\n",
      "Cosmic Scrat-tastrophe (2015)           5.0\n",
      "Love and Pigeons (1985)                 5.0\n",
      "Red Sorghum (Hong gao liang) (1987)     5.0\n"
     ]
    }
   ],
   "source": [
    "# Find the mean of the ratings given to each title\n",
    "average_rating_df = user_ratings_df[['title','rating']].groupby('title').mean()\n",
    "\n",
    "# Order the entries by highest average rating to lowest\n",
    "sorted_average_ratings = average_rating_df.sort_values(by='rating', ascending=False)\n",
    "\n",
    "# Inspect the top movies\n",
    "print(sorted_average_ratings.head())"
   ]
  },
  {
   "cell_type": "markdown",
   "metadata": {},
   "source": [
    "### Combine popularity and reviews"
   ]
  },
  {
   "cell_type": "code",
   "execution_count": 42,
   "metadata": {},
   "outputs": [
    {
     "data": {
      "text/html": [
       "<div>\n",
       "<style scoped>\n",
       "    .dataframe tbody tr th:only-of-type {\n",
       "        vertical-align: middle;\n",
       "    }\n",
       "\n",
       "    .dataframe tbody tr th {\n",
       "        vertical-align: top;\n",
       "    }\n",
       "\n",
       "    .dataframe thead th {\n",
       "        text-align: right;\n",
       "    }\n",
       "</style>\n",
       "<table border=\"1\" class=\"dataframe\">\n",
       "  <thead>\n",
       "    <tr style=\"text-align: right;\">\n",
       "      <th></th>\n",
       "      <th>rating</th>\n",
       "    </tr>\n",
       "    <tr>\n",
       "      <th>title</th>\n",
       "      <th></th>\n",
       "    </tr>\n",
       "  </thead>\n",
       "  <tbody>\n",
       "    <tr>\n",
       "      <th>Shawshank Redemption, The (1994)</th>\n",
       "      <td>4.429022</td>\n",
       "    </tr>\n",
       "    <tr>\n",
       "      <th>Godfather, The (1972)</th>\n",
       "      <td>4.289062</td>\n",
       "    </tr>\n",
       "    <tr>\n",
       "      <th>Fight Club (1999)</th>\n",
       "      <td>4.272936</td>\n",
       "    </tr>\n",
       "    <tr>\n",
       "      <th>Cool Hand Luke (1967)</th>\n",
       "      <td>4.271930</td>\n",
       "    </tr>\n",
       "    <tr>\n",
       "      <th>Dr. Strangelove or: How I Learned to Stop Worrying and Love the Bomb (1964)</th>\n",
       "      <td>4.268041</td>\n",
       "    </tr>\n",
       "  </tbody>\n",
       "</table>\n",
       "</div>"
      ],
      "text/plain": [
       "                                                      rating\n",
       "title                                                       \n",
       "Shawshank Redemption, The (1994)                    4.429022\n",
       "Godfather, The (1972)                               4.289062\n",
       "Fight Club (1999)                                   4.272936\n",
       "Cool Hand Luke (1967)                               4.271930\n",
       "Dr. Strangelove or: How I Learned to Stop Worry...  4.268041"
      ]
     },
     "execution_count": 42,
     "metadata": {},
     "output_type": "execute_result"
    }
   ],
   "source": [
    "# Create a list of only movies appearing > 50 times in the dataset\n",
    "movie_popularity = user_ratings_df['title'].value_counts()\n",
    "popular_movies = movie_popularity[movie_popularity >=50].index\n",
    "# use popular movies list to filter the original DataFrame\n",
    "popular_movies_rankings =  user_ratings_df[user_ratings_df.title.isin(popular_movies)]\n",
    "popular_movies_average_ratings =popular_movies_rankings[['title','rating']].groupby('title').mean()\n",
    "popular_movies_average_ratings.sort_values(by='rating',ascending = False).head()"
   ]
  },
  {
   "cell_type": "markdown",
   "metadata": {},
   "source": [
    "## Find all pair of movies\n",
    "all permutations of pairs of movies that have been watched by the same person."
   ]
  },
  {
   "cell_type": "code",
   "execution_count": 4,
   "metadata": {},
   "outputs": [],
   "source": [
    "from itertools import permutations"
   ]
  },
  {
   "cell_type": "code",
   "execution_count": 12,
   "metadata": {},
   "outputs": [],
   "source": [
    "def simplePair(X):\n",
    "    '''\n",
    "    return pairs of movies\n",
    "    X: dataframe\n",
    "    '''\n",
    "    pairs = pd.DataFrame(list(permutations(X.values, 2)), columns=['movieA','movieB'])\n",
    "    return pairs"
   ]
  },
  {
   "cell_type": "code",
   "execution_count": 24,
   "metadata": {},
   "outputs": [
    {
     "data": {
      "text/html": [
       "<div>\n",
       "<style scoped>\n",
       "    .dataframe tbody tr th:only-of-type {\n",
       "        vertical-align: middle;\n",
       "    }\n",
       "\n",
       "    .dataframe tbody tr th {\n",
       "        vertical-align: top;\n",
       "    }\n",
       "\n",
       "    .dataframe thead th {\n",
       "        text-align: right;\n",
       "    }\n",
       "</style>\n",
       "<table border=\"1\" class=\"dataframe\">\n",
       "  <thead>\n",
       "    <tr style=\"text-align: right;\">\n",
       "      <th></th>\n",
       "      <th>movieA</th>\n",
       "      <th>movieB</th>\n",
       "    </tr>\n",
       "  </thead>\n",
       "  <tbody>\n",
       "    <tr>\n",
       "      <th>0</th>\n",
       "      <td>Toy Story (1995)</td>\n",
       "      <td>Grumpier Old Men (1995)</td>\n",
       "    </tr>\n",
       "    <tr>\n",
       "      <th>1</th>\n",
       "      <td>Toy Story (1995)</td>\n",
       "      <td>Heat (1995)</td>\n",
       "    </tr>\n",
       "    <tr>\n",
       "      <th>2</th>\n",
       "      <td>Toy Story (1995)</td>\n",
       "      <td>Seven (a.k.a. Se7en) (1995)</td>\n",
       "    </tr>\n",
       "    <tr>\n",
       "      <th>3</th>\n",
       "      <td>Toy Story (1995)</td>\n",
       "      <td>Usual Suspects, The (1995)</td>\n",
       "    </tr>\n",
       "    <tr>\n",
       "      <th>4</th>\n",
       "      <td>Toy Story (1995)</td>\n",
       "      <td>From Dusk Till Dawn (1996)</td>\n",
       "    </tr>\n",
       "  </tbody>\n",
       "</table>\n",
       "</div>"
      ],
      "text/plain": [
       "             movieA                       movieB\n",
       "0  Toy Story (1995)      Grumpier Old Men (1995)\n",
       "1  Toy Story (1995)                  Heat (1995)\n",
       "2  Toy Story (1995)  Seven (a.k.a. Se7en) (1995)\n",
       "3  Toy Story (1995)   Usual Suspects, The (1995)\n",
       "4  Toy Story (1995)   From Dusk Till Dawn (1996)"
      ]
     },
     "execution_count": 24,
     "metadata": {},
     "output_type": "execute_result"
    }
   ],
   "source": [
    "# Apply the function to the title column and reset the index\n",
    "movie_combinations = user_ratings_df.groupby('userId').title.apply(simplePair).reset_index(drop=True)\n"
   ]
  },
  {
   "cell_type": "code",
   "execution_count": 32,
   "metadata": {},
   "outputs": [],
   "source": [
    "combinations_counts = movie_combinations.groupby(['movieA','movieB']).size()\n",
    "\n",
    "combinations_counts_df = combinations_counts.to_frame(name='size').reset_index()"
   ]
  },
  {
   "cell_type": "code",
   "execution_count": 41,
   "metadata": {},
   "outputs": [],
   "source": [
    "combinations_counts_df.sort_values(by='size', ascending = False,inplace =True)"
   ]
  },
  {
   "cell_type": "code",
   "execution_count": 42,
   "metadata": {},
   "outputs": [
    {
     "data": {
      "text/plain": [
       "<matplotlib.axes._subplots.AxesSubplot at 0x2848dcb56a0>"
      ]
     },
     "execution_count": 42,
     "metadata": {},
     "output_type": "execute_result"
    },
    {
     "data": {
      "image/png": "[encoded data removed]",
      "text/plain": [
       "<Figure size 432x288 with 1 Axes>"
      ]
     },
     "metadata": {
      "needs_background": "light"
     },
     "output_type": "display_data"
    }
   ],
   "source": [
    "movie_Pulp=combinations_counts_df[combinations_counts_df.movieA == 'Pulp Fiction (1994)'].head(10)\n",
    "movie_Pulp.plot.bar(x='movieB')"
   ]
  },
  {
   "cell_type": "code",
   "execution_count": 26,
   "metadata": {},
   "outputs": [
    {
     "data": {
      "text/plain": [
       "mov1  mov2\n",
       "0     1       1\n",
       "      2       1\n",
       "1     0       1\n",
       "      2       1\n",
       "2     0       1\n",
       "      1       1\n",
       "dtype: int64"
      ]
     },
     "execution_count": 26,
     "metadata": {},
     "output_type": "execute_result"
    }
   ],
   "source": [
    "test=pd.DataFrame(list(permutations(range(3), 2) ), columns=['mov1', 'mov2'])\n",
    "test.groupby(['mov1','mov2']).size()"
   ]
  },
  {
   "cell_type": "code",
   "execution_count": 35,
   "metadata": {},
   "outputs": [
    {
     "data": {
      "text/plain": [
       "Forrest Gump (1994)                          9318\n",
       "Matrix, The (1999)                           9071\n",
       "Pulp Fiction (1994)                          8939\n",
       "Star Wars: Episode IV - A New Hope (1977)    8906\n",
       "Silence of the Lambs, The (1991)             8904\n",
       "                                             ... \n",
       "Delirium (2014)                                20\n",
       "One I Love, The (2014)                         20\n",
       "Come See the Paradise (1990)                   20\n",
       "Laggies (2014)                                 20\n",
       "Circus (2000)                                  20\n",
       "Name: movieA, Length: 9719, dtype: int64"
      ]
     },
     "execution_count": 35,
     "metadata": {},
     "output_type": "execute_result"
    }
   ],
   "source": [
    "combinations_counts_df.movieA.value_counts()\n"
   ]
  },
  {
   "cell_type": "code",
   "execution_count": 39,
   "metadata": {},
   "outputs": [
    {
     "data": {
      "text/html": [
       "<div>\n",
       "<style scoped>\n",
       "    .dataframe tbody tr th:only-of-type {\n",
       "        vertical-align: middle;\n",
       "    }\n",
       "\n",
       "    .dataframe tbody tr th {\n",
       "        vertical-align: top;\n",
       "    }\n",
       "\n",
       "    .dataframe thead th {\n",
       "        text-align: right;\n",
       "    }\n",
       "</style>\n",
       "<table border=\"1\" class=\"dataframe\">\n",
       "  <thead>\n",
       "    <tr style=\"text-align: right;\">\n",
       "      <th></th>\n",
       "      <th>movieA</th>\n",
       "      <th>movieB</th>\n",
       "      <th>size</th>\n",
       "    </tr>\n",
       "  </thead>\n",
       "  <tbody>\n",
       "    <tr>\n",
       "      <th>18564136</th>\n",
       "      <td>Pulp Fiction (1994)</td>\n",
       "      <td>'71 (2014)</td>\n",
       "      <td>1</td>\n",
       "    </tr>\n",
       "    <tr>\n",
       "      <th>18564137</th>\n",
       "      <td>Pulp Fiction (1994)</td>\n",
       "      <td>'Hellboy': The Seeds of Creation (2004)</td>\n",
       "      <td>1</td>\n",
       "    </tr>\n",
       "    <tr>\n",
       "      <th>18564138</th>\n",
       "      <td>Pulp Fiction (1994)</td>\n",
       "      <td>'Round Midnight (1986)</td>\n",
       "      <td>1</td>\n",
       "    </tr>\n",
       "    <tr>\n",
       "      <th>18564139</th>\n",
       "      <td>Pulp Fiction (1994)</td>\n",
       "      <td>'Tis the Season for Love (2015)</td>\n",
       "      <td>1</td>\n",
       "    </tr>\n",
       "    <tr>\n",
       "      <th>18564140</th>\n",
       "      <td>Pulp Fiction (1994)</td>\n",
       "      <td>'burbs, The (1989)</td>\n",
       "      <td>11</td>\n",
       "    </tr>\n",
       "  </tbody>\n",
       "</table>\n",
       "</div>"
      ],
      "text/plain": [
       "                       movieA                                   movieB  size\n",
       "18564136  Pulp Fiction (1994)                               '71 (2014)     1\n",
       "18564137  Pulp Fiction (1994)  'Hellboy': The Seeds of Creation (2004)     1\n",
       "18564138  Pulp Fiction (1994)                   'Round Midnight (1986)     1\n",
       "18564139  Pulp Fiction (1994)          'Tis the Season for Love (2015)     1\n",
       "18564140  Pulp Fiction (1994)                       'burbs, The (1989)    11"
      ]
     },
     "execution_count": 39,
     "metadata": {},
     "output_type": "execute_result"
    }
   ],
   "source": [
    "movie_Pulp.head().sort"
   ]
  },
  {
   "cell_type": "markdown",
   "metadata": {},
   "source": [
    "## Content-based models(static)\n",
    "Content-based models is suitable for new items recommendation(cold start).Imagine there is a large retailer that has a constantly changing product line, with new items being added every day.As the recommendations are based on the item attributes rather than user feedback, Content-based recommendations can be made on never-before-purchased products."
   ]
  },
  {
   "cell_type": "markdown",
   "metadata": {},
   "source": [
    "### Data preprocessing for genres column\n",
    "one column contains all genres and seperate genre with |"
   ]
  },
  {
   "cell_type": "code",
   "execution_count": 4,
   "metadata": {},
   "outputs": [
    {
     "name": "stdout",
     "output_type": "stream",
     "text": [
      "                         title                                       genres\n",
      "0             Toy Story (1995)  Adventure|Animation|Children|Comedy|Fantasy\n",
      "1      Grumpier Old Men (1995)                               Comedy|Romance\n",
      "2                  Heat (1995)                        Action|Crime|Thriller\n",
      "3  Seven (a.k.a. Se7en) (1995)                             Mystery|Thriller\n",
      "4   Usual Suspects, The (1995)                       Crime|Mystery|Thriller\n",
      "<class 'pandas.core.frame.DataFrame'>\n",
      "RangeIndex: 9724 entries, 0 to 9723\n",
      "Data columns (total 2 columns):\n",
      " #   Column  Non-Null Count  Dtype \n",
      "---  ------  --------------  ----- \n",
      " 0   title   9724 non-null   object\n",
      " 1   genres  9724 non-null   object\n",
      "dtypes: object(2)\n",
      "memory usage: 152.1+ KB\n"
     ]
    }
   ],
   "source": [
    "# read columns and dedup\n",
    "movie_genre_df=pd.read_csv(r'Data\\user_ratings.csv',usecols=['title','genres'])\n",
    "movie_genre_df.drop_duplicates(inplace=True, ignore_index= True)\n",
    "print(movie_genre_df.head())\n",
    "movie_genre_df.info()"
   ]
  },
  {
   "cell_type": "code",
   "execution_count": 5,
   "metadata": {},
   "outputs": [
    {
     "name": "stdout",
     "output_type": "stream",
     "text": [
      "                  title genre_list\n",
      "0      Toy Story (1995)  Adventure\n",
      "9721   Toy Story (1995)  Animation\n",
      "16598  Toy Story (1995)   Children\n",
      "20259  Toy Story (1995)     Comedy\n",
      "21594  Toy Story (1995)    Fantasy\n",
      "<class 'pandas.core.frame.DataFrame'>\n",
      "RangeIndex: 22036 entries, 0 to 22035\n",
      "Data columns (total 2 columns):\n",
      " #   Column      Non-Null Count  Dtype \n",
      "---  ------      --------------  ----- \n",
      " 0   title       22036 non-null  object\n",
      " 1   genre_list  22036 non-null  object\n",
      "dtypes: object(2)\n",
      "memory usage: 344.4+ KB\n"
     ]
    }
   ],
   "source": [
    "# split the genres\n",
    "geners=movie_genre_df['genres'].str.split('|',expand=True)\n",
    "movie_genre_df=pd.concat([movie_genre_df,geners], axis=1)\n",
    "# melt all columns together\n",
    "movie_genre_df =pd.melt(movie_genre_df,id_vars=['title'], value_vars=[0,1,2,3,4,5,6,7,8,9])\n",
    "# Drop records with null values\n",
    "movie_genre_df.dropna(inplace=True)\n",
    "movie_genre_df.drop('variable',axis=1, inplace= True)\n",
    "movie_genre_df.drop_duplicates(inplace =True, ignore_index= True)\n",
    "movie_genre_df.rename(columns={'value':'genre_list'}, inplace=True)\n",
    "# test the data quality\n",
    "print(movie_genre_df[movie_genre_df.title=='Toy Story (1995)'])\n",
    "movie_genre_df.info()"
   ]
  },
  {
   "cell_type": "code",
   "execution_count": 40,
   "metadata": {},
   "outputs": [
    {
     "data": {
      "text/html": [
       "<div>\n",
       "<style scoped>\n",
       "    .dataframe tbody tr th:only-of-type {\n",
       "        vertical-align: middle;\n",
       "    }\n",
       "\n",
       "    .dataframe tbody tr th {\n",
       "        vertical-align: top;\n",
       "    }\n",
       "\n",
       "    .dataframe thead th {\n",
       "        text-align: right;\n",
       "    }\n",
       "</style>\n",
       "<table border=\"1\" class=\"dataframe\">\n",
       "  <thead>\n",
       "    <tr style=\"text-align: right;\">\n",
       "      <th>genre_list</th>\n",
       "      <th>(no genres listed)</th>\n",
       "      <th>Action</th>\n",
       "      <th>Adventure</th>\n",
       "      <th>Animation</th>\n",
       "      <th>Children</th>\n",
       "      <th>Comedy</th>\n",
       "      <th>Crime</th>\n",
       "      <th>Documentary</th>\n",
       "      <th>Drama</th>\n",
       "      <th>Fantasy</th>\n",
       "      <th>Film-Noir</th>\n",
       "      <th>Horror</th>\n",
       "      <th>IMAX</th>\n",
       "      <th>Musical</th>\n",
       "      <th>Mystery</th>\n",
       "      <th>Romance</th>\n",
       "      <th>Sci-Fi</th>\n",
       "      <th>Thriller</th>\n",
       "      <th>War</th>\n",
       "      <th>Western</th>\n",
       "    </tr>\n",
       "    <tr>\n",
       "      <th>title</th>\n",
       "      <th></th>\n",
       "      <th></th>\n",
       "      <th></th>\n",
       "      <th></th>\n",
       "      <th></th>\n",
       "      <th></th>\n",
       "      <th></th>\n",
       "      <th></th>\n",
       "      <th></th>\n",
       "      <th></th>\n",
       "      <th></th>\n",
       "      <th></th>\n",
       "      <th></th>\n",
       "      <th></th>\n",
       "      <th></th>\n",
       "      <th></th>\n",
       "      <th></th>\n",
       "      <th></th>\n",
       "      <th></th>\n",
       "      <th></th>\n",
       "    </tr>\n",
       "  </thead>\n",
       "  <tbody>\n",
       "    <tr>\n",
       "      <th>Toy Story (1995)</th>\n",
       "      <td>0</td>\n",
       "      <td>0</td>\n",
       "      <td>1</td>\n",
       "      <td>1</td>\n",
       "      <td>1</td>\n",
       "      <td>1</td>\n",
       "      <td>0</td>\n",
       "      <td>0</td>\n",
       "      <td>0</td>\n",
       "      <td>1</td>\n",
       "      <td>0</td>\n",
       "      <td>0</td>\n",
       "      <td>0</td>\n",
       "      <td>0</td>\n",
       "      <td>0</td>\n",
       "      <td>0</td>\n",
       "      <td>0</td>\n",
       "      <td>0</td>\n",
       "      <td>0</td>\n",
       "      <td>0</td>\n",
       "    </tr>\n",
       "    <tr>\n",
       "      <th>Yogi Bear (2010)</th>\n",
       "      <td>0</td>\n",
       "      <td>0</td>\n",
       "      <td>0</td>\n",
       "      <td>0</td>\n",
       "      <td>1</td>\n",
       "      <td>1</td>\n",
       "      <td>0</td>\n",
       "      <td>0</td>\n",
       "      <td>0</td>\n",
       "      <td>0</td>\n",
       "      <td>0</td>\n",
       "      <td>0</td>\n",
       "      <td>0</td>\n",
       "      <td>0</td>\n",
       "      <td>0</td>\n",
       "      <td>0</td>\n",
       "      <td>0</td>\n",
       "      <td>0</td>\n",
       "      <td>0</td>\n",
       "      <td>0</td>\n",
       "    </tr>\n",
       "  </tbody>\n",
       "</table>\n",
       "</div>"
      ],
      "text/plain": [
       "genre_list        (no genres listed)  Action  Adventure  Animation  Children  \\\n",
       "title                                                                          \n",
       "Toy Story (1995)                   0       0          1          1         1   \n",
       "Yogi Bear (2010)                   0       0          0          0         1   \n",
       "\n",
       "genre_list        Comedy  Crime  Documentary  Drama  Fantasy  Film-Noir  \\\n",
       "title                                                                     \n",
       "Toy Story (1995)       1      0            0      0        1          0   \n",
       "Yogi Bear (2010)       1      0            0      0        0          0   \n",
       "\n",
       "genre_list        Horror  IMAX  Musical  Mystery  Romance  Sci-Fi  Thriller  \\\n",
       "title                                                                         \n",
       "Toy Story (1995)       0     0        0        0        0       0         0   \n",
       "Yogi Bear (2010)       0     0        0        0        0       0         0   \n",
       "\n",
       "genre_list        War  Western  \n",
       "title                           \n",
       "Toy Story (1995)    0        0  \n",
       "Yogi Bear (2010)    0        0  "
      ]
     },
     "execution_count": 40,
     "metadata": {},
     "output_type": "execute_result"
    }
   ],
   "source": [
    "# Create cross-tabulated DataFrame from name and genre_list columns\n",
    "movie_cross_table = pd.crosstab(movie_genre_df['title'],movie_genre_df['genre_list'])\n",
    "movie_cross_table[movie_cross_table.index.isin(['Toy Story (1995)','Yogi Bear (2010)'])]"
   ]
  },
  {
   "cell_type": "markdown",
   "metadata": {},
   "source": [
    "### Comparing individual movies with Jaccard similarity\n",
    "$J(A,B)= \\dfrac{A \\cap B}{A \\cup B}$  \n",
    "\n",
    "find most similar items of the item"
   ]
  },
  {
   "cell_type": "code",
   "execution_count": 45,
   "metadata": {},
   "outputs": [],
   "source": [
    "from sklearn.metrics import jaccard_score\n",
    "import numpy as np\n",
    "# from scipy"
   ]
  },
  {
   "cell_type": "markdown",
   "metadata": {},
   "source": [
    "#### Find similarity  between assigned pairs"
   ]
  },
  {
   "cell_type": "code",
   "execution_count": 57,
   "metadata": {},
   "outputs": [
    {
     "name": "stderr",
     "output_type": "stream",
     "text": [
      "ic| jaccard_score(Toy, GoldenEye): 0.14285714285714285\n",
      "ic| jaccard_score(Skyfall, GoldenEye): 0.75\n"
     ]
    },
    {
     "data": {
      "text/plain": [
       "0.75"
      ]
     },
     "execution_count": 57,
     "metadata": {},
     "output_type": "execute_result"
    }
   ],
   "source": [
    "# use jaccard_score to compare individual items. It needs to change to numpy array first\n",
    "# Toy Story, and GoldenEye with SkyFall and compare the results.\n",
    "# method1- get numpy array values\n",
    "Toy = movie_cross_table.loc['Toy Story (1995)'].to_numpy()\n",
    "GoldenEye = movie_cross_table.loc['GoldenEye (1995)'].to_numpy()\n",
    "Skyfall = movie_cross_table.loc['Skyfall (2012)'].to_numpy()\n",
    "# method2 - get numpy array values\n",
    "Toy = movie_cross_table.loc['Toy Story (1995)'].values\n",
    "GoldenEye = movie_cross_table.loc['GoldenEye (1995)'].values\n",
    "Skyfall = movie_cross_table.loc['Skyfall (2012)'].values\n",
    "ic(jaccard_score(Toy, GoldenEye))\n",
    "ic(jaccard_score(Skyfall, GoldenEye))"
   ]
  },
  {
   "cell_type": "markdown",
   "metadata": {},
   "source": [
    "#### Comparing all  movies at once\n",
    "When finding the similarities between the rows in a DataFrame, we could run through all pairs and calculate them individually, but it's more efficient to use the **pdist()** (pairwise distance) function from [scipy].\n",
    "\n",
    "This can be reshaped into the desired rectangular shape using squareform() from the same library. Since you want similarity values as opposed to distances, you should subtract the values from 1."
   ]
  },
  {
   "cell_type": "code",
   "execution_count": 59,
   "metadata": {},
   "outputs": [],
   "source": [
    "from scipy.spatial.distance import pdist,squareform"
   ]
  },
  {
   "cell_type": "code",
   "execution_count": null,
   "metadata": {},
   "outputs": [],
   "source": [
    "# Calculate all pairwise distances\n",
    "jaccard_similarity =squareform(1- pdist(movie_cross_table.values, metric='jaccard'))"
   ]
  },
  {
   "cell_type": "code",
   "execution_count": 66,
   "metadata": {},
   "outputs": [],
   "source": [
    "jaccard_distances = pdist(movie_cross_table.values, metric='jaccard')\n",
    "jaccard_similarity = 1- squareform(jaccard_distances)\n",
    "\n"
   ]
  },
  {
   "cell_type": "code",
   "execution_count": 67,
   "metadata": {},
   "outputs": [
    {
     "data": {
      "text/html": [
       "<div>\n",
       "<style scoped>\n",
       "    .dataframe tbody tr th:only-of-type {\n",
       "        vertical-align: middle;\n",
       "    }\n",
       "\n",
       "    .dataframe tbody tr th {\n",
       "        vertical-align: top;\n",
       "    }\n",
       "\n",
       "    .dataframe thead th {\n",
       "        text-align: right;\n",
       "    }\n",
       "</style>\n",
       "<table border=\"1\" class=\"dataframe\">\n",
       "  <thead>\n",
       "    <tr style=\"text-align: right;\">\n",
       "      <th>title</th>\n",
       "      <th>'71 (2014)</th>\n",
       "      <th>'Hellboy': The Seeds of Creation (2004)</th>\n",
       "      <th>'Round Midnight (1986)</th>\n",
       "      <th>'Salem's Lot (2004)</th>\n",
       "      <th>'Til There Was You (1997)</th>\n",
       "      <th>'Tis the Season for Love (2015)</th>\n",
       "      <th>'burbs, The (1989)</th>\n",
       "      <th>'night Mother (1986)</th>\n",
       "      <th>(500) Days of Summer (2009)</th>\n",
       "      <th>*batteries not included (1987)</th>\n",
       "      <th>...</th>\n",
       "      <th>Zulu (2013)</th>\n",
       "      <th>[REC] (2007)</th>\n",
       "      <th>[REC]² (2009)</th>\n",
       "      <th>[REC]³ 3 Génesis (2012)</th>\n",
       "      <th>anohana: The Flower We Saw That Day - The Movie (2013)</th>\n",
       "      <th>eXistenZ (1999)</th>\n",
       "      <th>xXx (2002)</th>\n",
       "      <th>xXx: State of the Union (2005)</th>\n",
       "      <th>¡Three Amigos! (1986)</th>\n",
       "      <th>À nous la liberté (Freedom for Us) (1931)</th>\n",
       "    </tr>\n",
       "    <tr>\n",
       "      <th>title</th>\n",
       "      <th></th>\n",
       "      <th></th>\n",
       "      <th></th>\n",
       "      <th></th>\n",
       "      <th></th>\n",
       "      <th></th>\n",
       "      <th></th>\n",
       "      <th></th>\n",
       "      <th></th>\n",
       "      <th></th>\n",
       "      <th></th>\n",
       "      <th></th>\n",
       "      <th></th>\n",
       "      <th></th>\n",
       "      <th></th>\n",
       "      <th></th>\n",
       "      <th></th>\n",
       "      <th></th>\n",
       "      <th></th>\n",
       "      <th></th>\n",
       "      <th></th>\n",
       "    </tr>\n",
       "  </thead>\n",
       "  <tbody>\n",
       "    <tr>\n",
       "      <th>'71 (2014)</th>\n",
       "      <td>1.000000</td>\n",
       "      <td>0.125</td>\n",
       "      <td>0.200000</td>\n",
       "      <td>0.333333</td>\n",
       "      <td>0.200000</td>\n",
       "      <td>0.0</td>\n",
       "      <td>0.0</td>\n",
       "      <td>0.25</td>\n",
       "      <td>0.166667</td>\n",
       "      <td>0.000000</td>\n",
       "      <td>...</td>\n",
       "      <td>0.40</td>\n",
       "      <td>0.40</td>\n",
       "      <td>0.2</td>\n",
       "      <td>0.2</td>\n",
       "      <td>0.200000</td>\n",
       "      <td>0.400000</td>\n",
       "      <td>0.400000</td>\n",
       "      <td>0.400000</td>\n",
       "      <td>0.000000</td>\n",
       "      <td>0.000000</td>\n",
       "    </tr>\n",
       "    <tr>\n",
       "      <th>'Hellboy': The Seeds of Creation (2004)</th>\n",
       "      <td>0.125000</td>\n",
       "      <td>1.000</td>\n",
       "      <td>0.000000</td>\n",
       "      <td>0.000000</td>\n",
       "      <td>0.000000</td>\n",
       "      <td>0.0</td>\n",
       "      <td>0.2</td>\n",
       "      <td>0.00</td>\n",
       "      <td>0.142857</td>\n",
       "      <td>0.285714</td>\n",
       "      <td>...</td>\n",
       "      <td>0.00</td>\n",
       "      <td>0.00</td>\n",
       "      <td>0.0</td>\n",
       "      <td>0.0</td>\n",
       "      <td>0.000000</td>\n",
       "      <td>0.142857</td>\n",
       "      <td>0.142857</td>\n",
       "      <td>0.142857</td>\n",
       "      <td>0.166667</td>\n",
       "      <td>0.166667</td>\n",
       "    </tr>\n",
       "    <tr>\n",
       "      <th>'Round Midnight (1986)</th>\n",
       "      <td>0.200000</td>\n",
       "      <td>0.000</td>\n",
       "      <td>1.000000</td>\n",
       "      <td>0.200000</td>\n",
       "      <td>0.333333</td>\n",
       "      <td>0.0</td>\n",
       "      <td>0.0</td>\n",
       "      <td>0.50</td>\n",
       "      <td>0.250000</td>\n",
       "      <td>0.000000</td>\n",
       "      <td>...</td>\n",
       "      <td>0.25</td>\n",
       "      <td>0.25</td>\n",
       "      <td>0.0</td>\n",
       "      <td>0.0</td>\n",
       "      <td>0.333333</td>\n",
       "      <td>0.000000</td>\n",
       "      <td>0.000000</td>\n",
       "      <td>0.000000</td>\n",
       "      <td>0.000000</td>\n",
       "      <td>0.333333</td>\n",
       "    </tr>\n",
       "    <tr>\n",
       "      <th>'Salem's Lot (2004)</th>\n",
       "      <td>0.333333</td>\n",
       "      <td>0.000</td>\n",
       "      <td>0.200000</td>\n",
       "      <td>1.000000</td>\n",
       "      <td>0.200000</td>\n",
       "      <td>0.0</td>\n",
       "      <td>0.0</td>\n",
       "      <td>0.25</td>\n",
       "      <td>0.166667</td>\n",
       "      <td>0.000000</td>\n",
       "      <td>...</td>\n",
       "      <td>0.40</td>\n",
       "      <td>0.75</td>\n",
       "      <td>0.5</td>\n",
       "      <td>0.5</td>\n",
       "      <td>0.200000</td>\n",
       "      <td>0.166667</td>\n",
       "      <td>0.166667</td>\n",
       "      <td>0.166667</td>\n",
       "      <td>0.000000</td>\n",
       "      <td>0.000000</td>\n",
       "    </tr>\n",
       "    <tr>\n",
       "      <th>'Til There Was You (1997)</th>\n",
       "      <td>0.200000</td>\n",
       "      <td>0.000</td>\n",
       "      <td>0.333333</td>\n",
       "      <td>0.200000</td>\n",
       "      <td>1.000000</td>\n",
       "      <td>0.5</td>\n",
       "      <td>0.0</td>\n",
       "      <td>0.50</td>\n",
       "      <td>0.666667</td>\n",
       "      <td>0.000000</td>\n",
       "      <td>...</td>\n",
       "      <td>0.25</td>\n",
       "      <td>0.25</td>\n",
       "      <td>0.0</td>\n",
       "      <td>0.0</td>\n",
       "      <td>0.333333</td>\n",
       "      <td>0.000000</td>\n",
       "      <td>0.000000</td>\n",
       "      <td>0.000000</td>\n",
       "      <td>0.000000</td>\n",
       "      <td>0.000000</td>\n",
       "    </tr>\n",
       "  </tbody>\n",
       "</table>\n",
       "<p>5 rows × 9719 columns</p>\n",
       "</div>"
      ],
      "text/plain": [
       "title                                    '71 (2014)  \\\n",
       "title                                                 \n",
       "'71 (2014)                                 1.000000   \n",
       "'Hellboy': The Seeds of Creation (2004)    0.125000   \n",
       "'Round Midnight (1986)                     0.200000   \n",
       "'Salem's Lot (2004)                        0.333333   \n",
       "'Til There Was You (1997)                  0.200000   \n",
       "\n",
       "title                                    'Hellboy': The Seeds of Creation (2004)  \\\n",
       "title                                                                              \n",
       "'71 (2014)                                                                 0.125   \n",
       "'Hellboy': The Seeds of Creation (2004)                                    1.000   \n",
       "'Round Midnight (1986)                                                     0.000   \n",
       "'Salem's Lot (2004)                                                        0.000   \n",
       "'Til There Was You (1997)                                                  0.000   \n",
       "\n",
       "title                                    'Round Midnight (1986)  \\\n",
       "title                                                             \n",
       "'71 (2014)                                             0.200000   \n",
       "'Hellboy': The Seeds of Creation (2004)                0.000000   \n",
       "'Round Midnight (1986)                                 1.000000   \n",
       "'Salem's Lot (2004)                                    0.200000   \n",
       "'Til There Was You (1997)                              0.333333   \n",
       "\n",
       "title                                    'Salem's Lot (2004)  \\\n",
       "title                                                          \n",
       "'71 (2014)                                          0.333333   \n",
       "'Hellboy': The Seeds of Creation (2004)             0.000000   \n",
       "'Round Midnight (1986)                              0.200000   \n",
       "'Salem's Lot (2004)                                 1.000000   \n",
       "'Til There Was You (1997)                           0.200000   \n",
       "\n",
       "title                                    'Til There Was You (1997)  \\\n",
       "title                                                                \n",
       "'71 (2014)                                                0.200000   \n",
       "'Hellboy': The Seeds of Creation (2004)                   0.000000   \n",
       "'Round Midnight (1986)                                    0.333333   \n",
       "'Salem's Lot (2004)                                       0.200000   \n",
       "'Til There Was You (1997)                                 1.000000   \n",
       "\n",
       "title                                    'Tis the Season for Love (2015)  \\\n",
       "title                                                                      \n",
       "'71 (2014)                                                           0.0   \n",
       "'Hellboy': The Seeds of Creation (2004)                              0.0   \n",
       "'Round Midnight (1986)                                               0.0   \n",
       "'Salem's Lot (2004)                                                  0.0   \n",
       "'Til There Was You (1997)                                            0.5   \n",
       "\n",
       "title                                    'burbs, The (1989)  \\\n",
       "title                                                         \n",
       "'71 (2014)                                              0.0   \n",
       "'Hellboy': The Seeds of Creation (2004)                 0.2   \n",
       "'Round Midnight (1986)                                  0.0   \n",
       "'Salem's Lot (2004)                                     0.0   \n",
       "'Til There Was You (1997)                               0.0   \n",
       "\n",
       "title                                    'night Mother (1986)  \\\n",
       "title                                                           \n",
       "'71 (2014)                                               0.25   \n",
       "'Hellboy': The Seeds of Creation (2004)                  0.00   \n",
       "'Round Midnight (1986)                                   0.50   \n",
       "'Salem's Lot (2004)                                      0.25   \n",
       "'Til There Was You (1997)                                0.50   \n",
       "\n",
       "title                                    (500) Days of Summer (2009)  \\\n",
       "title                                                                  \n",
       "'71 (2014)                                                  0.166667   \n",
       "'Hellboy': The Seeds of Creation (2004)                     0.142857   \n",
       "'Round Midnight (1986)                                      0.250000   \n",
       "'Salem's Lot (2004)                                         0.166667   \n",
       "'Til There Was You (1997)                                   0.666667   \n",
       "\n",
       "title                                    *batteries not included (1987)  ...  \\\n",
       "title                                                                    ...   \n",
       "'71 (2014)                                                     0.000000  ...   \n",
       "'Hellboy': The Seeds of Creation (2004)                        0.285714  ...   \n",
       "'Round Midnight (1986)                                         0.000000  ...   \n",
       "'Salem's Lot (2004)                                            0.000000  ...   \n",
       "'Til There Was You (1997)                                      0.000000  ...   \n",
       "\n",
       "title                                    Zulu (2013)  [REC] (2007)  \\\n",
       "title                                                                \n",
       "'71 (2014)                                      0.40          0.40   \n",
       "'Hellboy': The Seeds of Creation (2004)         0.00          0.00   \n",
       "'Round Midnight (1986)                          0.25          0.25   \n",
       "'Salem's Lot (2004)                             0.40          0.75   \n",
       "'Til There Was You (1997)                       0.25          0.25   \n",
       "\n",
       "title                                    [REC]² (2009)  \\\n",
       "title                                                    \n",
       "'71 (2014)                                         0.2   \n",
       "'Hellboy': The Seeds of Creation (2004)            0.0   \n",
       "'Round Midnight (1986)                             0.0   \n",
       "'Salem's Lot (2004)                                0.5   \n",
       "'Til There Was You (1997)                          0.0   \n",
       "\n",
       "title                                    [REC]³ 3 Génesis (2012)  \\\n",
       "title                                                              \n",
       "'71 (2014)                                                   0.2   \n",
       "'Hellboy': The Seeds of Creation (2004)                      0.0   \n",
       "'Round Midnight (1986)                                       0.0   \n",
       "'Salem's Lot (2004)                                          0.5   \n",
       "'Til There Was You (1997)                                    0.0   \n",
       "\n",
       "title                                    anohana: The Flower We Saw That Day - The Movie (2013)  \\\n",
       "title                                                                                             \n",
       "'71 (2014)                                                                        0.200000        \n",
       "'Hellboy': The Seeds of Creation (2004)                                           0.000000        \n",
       "'Round Midnight (1986)                                                            0.333333        \n",
       "'Salem's Lot (2004)                                                               0.200000        \n",
       "'Til There Was You (1997)                                                         0.333333        \n",
       "\n",
       "title                                    eXistenZ (1999)  xXx (2002)  \\\n",
       "title                                                                  \n",
       "'71 (2014)                                      0.400000    0.400000   \n",
       "'Hellboy': The Seeds of Creation (2004)         0.142857    0.142857   \n",
       "'Round Midnight (1986)                          0.000000    0.000000   \n",
       "'Salem's Lot (2004)                             0.166667    0.166667   \n",
       "'Til There Was You (1997)                       0.000000    0.000000   \n",
       "\n",
       "title                                    xXx: State of the Union (2005)  \\\n",
       "title                                                                     \n",
       "'71 (2014)                                                     0.400000   \n",
       "'Hellboy': The Seeds of Creation (2004)                        0.142857   \n",
       "'Round Midnight (1986)                                         0.000000   \n",
       "'Salem's Lot (2004)                                            0.166667   \n",
       "'Til There Was You (1997)                                      0.000000   \n",
       "\n",
       "title                                    ¡Three Amigos! (1986)  \\\n",
       "title                                                            \n",
       "'71 (2014)                                            0.000000   \n",
       "'Hellboy': The Seeds of Creation (2004)               0.166667   \n",
       "'Round Midnight (1986)                                0.000000   \n",
       "'Salem's Lot (2004)                                   0.000000   \n",
       "'Til There Was You (1997)                             0.000000   \n",
       "\n",
       "title                                    À nous la liberté (Freedom for Us) (1931)  \n",
       "title                                                                               \n",
       "'71 (2014)                                                                0.000000  \n",
       "'Hellboy': The Seeds of Creation (2004)                                   0.166667  \n",
       "'Round Midnight (1986)                                                    0.333333  \n",
       "'Salem's Lot (2004)                                                       0.000000  \n",
       "'Til There Was You (1997)                                                 0.000000  \n",
       "\n",
       "[5 rows x 9719 columns]"
      ]
     },
     "execution_count": 67,
     "metadata": {},
     "output_type": "execute_result"
    }
   ],
   "source": [
    "jaccard_similarity_df = pd.DataFrame(jaccard_similarity, columns=movie_cross_table.index, index=movie_cross_table.index)\n",
    "jaccard_similarity_df.head()"
   ]
  },
  {
   "cell_type": "code",
   "execution_count": 53,
   "metadata": {},
   "outputs": [
    {
     "name": "stdout",
     "output_type": "stream",
     "text": [
      "Sky Captain and the World of Tomorrow (2004)\n",
      "Sky Crawlers, The (Sukai kurora) (2008)\n",
      "Sky High (2003)\n",
      "Sky High (2005)\n",
      "Skyfall (2012)\n",
      "Skyline (2010)\n"
     ]
    }
   ],
   "source": [
    "# find movie name contains 'Yogi Bear'\n",
    "\n",
    "\n",
    "for title in movie_cross_table.index.to_list():\n",
    "    if re.match(r'Sky',title):\n",
    "        print(title)\n"
   ]
  },
  {
   "cell_type": "code",
   "execution_count": 62,
   "metadata": {},
   "outputs": [],
   "source": [
    "del jaccard_distances"
   ]
  },
  {
   "cell_type": "code",
   "execution_count": null,
   "metadata": {},
   "outputs": [],
   "source": []
  }
 ],
 "metadata": {
  "kernelspec": {
   "display_name": "Python 3",
   "language": "python",
   "name": "python3"
  },
  "language_info": {
   "codemirror_mode": {
    "name": "ipython",
    "version": 3
   },
   "file_extension": ".py",
   "mimetype": "text/x-python",
   "name": "python",
   "nbconvert_exporter": "python",
   "pygments_lexer": "ipython3",
   "version": "3.7.3"
  },
  "toc": {
   "base_numbering": 1,
   "nav_menu": {},
   "number_sections": true,
   "sideBar": true,
   "skip_h1_title": false,
   "title_cell": "Table of Contents",
   "title_sidebar": "Contents",
   "toc_cell": false,
   "toc_position": {},
   "toc_section_display": true,
   "toc_window_display": false
  },
  "varInspector": {
   "cols": {
    "lenName": 16,
    "lenType": 16,
    "lenVar": 40
   },
   "kernels_config": {
    "python": {
     "delete_cmd_postfix": "",
     "delete_cmd_prefix": "del ",
     "library": "var_list.py",
     "varRefreshCmd": "print(var_dic_list())"
    },
    "r": {
     "delete_cmd_postfix": ") ",
     "delete_cmd_prefix": "rm(",
     "library": "var_list.r",
     "varRefreshCmd": "cat(var_dic_list()) "
    }
   },
   "types_to_exclude": [
    "module",
    "function",
    "builtin_function_or_method",
    "instance",
    "_Feature"
   ],
   "window_display": false
  }
 },
 "nbformat": 4,
 "nbformat_minor": 2
}
